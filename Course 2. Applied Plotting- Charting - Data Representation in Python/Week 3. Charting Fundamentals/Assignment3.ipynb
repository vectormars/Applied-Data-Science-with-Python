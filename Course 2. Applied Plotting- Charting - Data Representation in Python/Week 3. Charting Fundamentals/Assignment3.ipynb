{
 "cells": [
  {
   "cell_type": "markdown",
   "metadata": {},
   "source": [
    "# Assignment 3 - Building a Custom Visualization\n",
    "\n",
    "---\n",
    "\n",
    "In this assignment you must choose one of the options presented below and submit a visual as well as your source code for peer grading. The details of how you solve the assignment are up to you, although your assignment must use matplotlib so that your peers can evaluate your work. The options differ in challenge level, but there are no grades associated with the challenge level you chose. However, your peers will be asked to ensure you at least met a minimum quality for a given technique in order to pass. Implement the technique fully (or exceed it!) and you should be able to earn full grades for the assignment.\n",
    "\n",
    "\n",
    "&nbsp;&nbsp;&nbsp;&nbsp;&nbsp;&nbsp;Ferreira, N., Fisher, D., & Konig, A. C. (2014, April). [Sample-oriented task-driven visualizations: allowing users to make better, more confident decisions.](https://www.microsoft.com/en-us/research/wp-content/uploads/2016/02/Ferreira_Fisher_Sample_Oriented_Tasks.pdf) \n",
    "&nbsp;&nbsp;&nbsp;&nbsp;&nbsp;&nbsp;In Proceedings of the SIGCHI Conference on Human Factors in Computing Systems (pp. 571-580). ACM. ([video](https://www.youtube.com/watch?v=BI7GAs-va-Q))\n",
    "\n",
    "\n",
    "In this [paper](https://www.microsoft.com/en-us/research/wp-content/uploads/2016/02/Ferreira_Fisher_Sample_Oriented_Tasks.pdf) the authors describe the challenges users face when trying to make judgements about probabilistic data generated through samples. As an example, they look at a bar chart of four years of data (replicated below in Figure 1). Each year has a y-axis value, which is derived from a sample of a larger dataset. For instance, the first value might be the number votes in a given district or riding for 1992, with the average being around 33,000. On top of this is plotted the 95% confidence interval for the mean (see the boxplot lectures for more information, and the yerr parameter of barcharts).\n",
    "\n",
    "<br>\n",
    "<img src=\"readonly/Assignment3Fig1.png\" alt=\"Figure 1\" style=\"width: 400px;\"/>\n",
    "<h4 style=\"text-align: center;\" markdown=\"1\">  &nbsp;&nbsp;&nbsp;&nbsp;&nbsp;&nbsp;&nbsp;&nbsp;Figure 1 from (Ferreira et al, 2014).</h4>\n",
    "\n",
    "<br>\n",
    "\n",
    "A challenge that users face is that, for a given y-axis value (e.g. 42,000), it is difficult to know which x-axis values are most likely to be representative, because the confidence levels overlap and their distributions are different (the lengths of the confidence interval bars are unequal). One of the solutions the authors propose for this problem (Figure 2c) is to allow users to indicate the y-axis value of interest (e.g. 42,000) and then draw a horizontal line and color bars based on this value. So bars might be colored red if they are definitely above this value (given the confidence interval), blue if they are definitely below this value, or white if they contain this value.\n",
    "\n",
    "\n",
    "<br>\n",
    "<img src=\"readonly/Assignment3Fig2c.png\" alt=\"Figure 1\" style=\"width: 400px;\"/>\n",
    "<h4 style=\"text-align: center;\" markdown=\"1\">  Figure 2c from (Ferreira et al. 2014). Note that the colorbar legend at the bottom as well as the arrows are not required in the assignment descriptions below.</h4>\n",
    "\n",
    "<br>\n",
    "<br>\n",
    "\n",
    "**Easiest option:** Implement the bar coloring as described above - a color scale with only three colors, (e.g. blue, white, and red). Assume the user provides the y axis value of interest as a parameter or variable.\n",
    "\n",
    "\n",
    "**Harder option:** Implement the bar coloring as described in the paper, where the color of the bar is actually based on the amount of data covered (e.g. a gradient ranging from dark blue for the distribution being certainly below this y-axis, to white if the value is certainly contained, to dark red if the value is certainly not contained as the distribution is above the axis).\n",
    "\n",
    "**Even Harder option:** Add interactivity to the above, which allows the user to click on the y axis to set the value of interest. The bar colors should change with respect to what value the user has selected.\n",
    "\n",
    "**Hardest option:** Allow the user to interactively set a range of y values they are interested in, and recolor based on this (e.g. a y-axis band, see the paper for more details).\n",
    "\n",
    "---\n",
    "\n",
    "*Note: The data given for this assignment is not the same as the data used in the article and as a result the visualizations may look a little different.*"
   ]
  },
  {
   "cell_type": "code",
   "execution_count": 1,
   "metadata": {
    "collapsed": false
   },
   "outputs": [
    {
     "data": {
      "text/html": [
       "<div>\n",
       "<table border=\"1\" class=\"dataframe\">\n",
       "  <thead>\n",
       "    <tr style=\"text-align: right;\">\n",
       "      <th></th>\n",
       "      <th>0</th>\n",
       "      <th>1</th>\n",
       "      <th>2</th>\n",
       "      <th>3</th>\n",
       "      <th>4</th>\n",
       "      <th>5</th>\n",
       "      <th>6</th>\n",
       "      <th>7</th>\n",
       "      <th>8</th>\n",
       "      <th>9</th>\n",
       "      <th>...</th>\n",
       "      <th>3640</th>\n",
       "      <th>3641</th>\n",
       "      <th>3642</th>\n",
       "      <th>3643</th>\n",
       "      <th>3644</th>\n",
       "      <th>3645</th>\n",
       "      <th>3646</th>\n",
       "      <th>3647</th>\n",
       "      <th>3648</th>\n",
       "      <th>3649</th>\n",
       "    </tr>\n",
       "  </thead>\n",
       "  <tbody>\n",
       "    <tr>\n",
       "      <th>1992</th>\n",
       "      <td>-8941.531897</td>\n",
       "      <td>127788.667612</td>\n",
       "      <td>-71887.743011</td>\n",
       "      <td>-79146.060869</td>\n",
       "      <td>425156.114501</td>\n",
       "      <td>310681.166595</td>\n",
       "      <td>50581.575349</td>\n",
       "      <td>88349.230566</td>\n",
       "      <td>185804.513522</td>\n",
       "      <td>281286.947277</td>\n",
       "      <td>...</td>\n",
       "      <td>171938.760289</td>\n",
       "      <td>150650.759924</td>\n",
       "      <td>203663.976475</td>\n",
       "      <td>-377877.158072</td>\n",
       "      <td>-197214.093861</td>\n",
       "      <td>24185.008589</td>\n",
       "      <td>-56826.729535</td>\n",
       "      <td>-67319.766489</td>\n",
       "      <td>113377.299342</td>\n",
       "      <td>-4494.878538</td>\n",
       "    </tr>\n",
       "    <tr>\n",
       "      <th>1993</th>\n",
       "      <td>-51896.094813</td>\n",
       "      <td>198350.518755</td>\n",
       "      <td>-123518.252821</td>\n",
       "      <td>-129916.759685</td>\n",
       "      <td>216119.147314</td>\n",
       "      <td>49845.883728</td>\n",
       "      <td>149135.648505</td>\n",
       "      <td>62807.672113</td>\n",
       "      <td>23365.577348</td>\n",
       "      <td>-109686.264981</td>\n",
       "      <td>...</td>\n",
       "      <td>-44566.520071</td>\n",
       "      <td>101032.122475</td>\n",
       "      <td>117648.199945</td>\n",
       "      <td>160475.622607</td>\n",
       "      <td>-13759.888342</td>\n",
       "      <td>-37333.493572</td>\n",
       "      <td>103019.841174</td>\n",
       "      <td>179746.127403</td>\n",
       "      <td>13455.493990</td>\n",
       "      <td>34442.898855</td>\n",
       "    </tr>\n",
       "    <tr>\n",
       "      <th>1994</th>\n",
       "      <td>152336.932066</td>\n",
       "      <td>192947.128056</td>\n",
       "      <td>389950.263156</td>\n",
       "      <td>-93006.152024</td>\n",
       "      <td>100818.575896</td>\n",
       "      <td>5529.230706</td>\n",
       "      <td>-32989.370488</td>\n",
       "      <td>223942.967178</td>\n",
       "      <td>-66721.580898</td>\n",
       "      <td>47826.269111</td>\n",
       "      <td>...</td>\n",
       "      <td>165085.806360</td>\n",
       "      <td>74735.174090</td>\n",
       "      <td>107329.726875</td>\n",
       "      <td>199250.734156</td>\n",
       "      <td>-36792.202754</td>\n",
       "      <td>-71861.846997</td>\n",
       "      <td>26375.113219</td>\n",
       "      <td>-29328.078384</td>\n",
       "      <td>65858.761714</td>\n",
       "      <td>-91542.001049</td>\n",
       "    </tr>\n",
       "    <tr>\n",
       "      <th>1995</th>\n",
       "      <td>-69708.439062</td>\n",
       "      <td>-13289.977022</td>\n",
       "      <td>-30178.390991</td>\n",
       "      <td>55052.181256</td>\n",
       "      <td>152883.621657</td>\n",
       "      <td>12930.835194</td>\n",
       "      <td>63700.461932</td>\n",
       "      <td>64148.489835</td>\n",
       "      <td>-29316.268556</td>\n",
       "      <td>59645.677367</td>\n",
       "      <td>...</td>\n",
       "      <td>-13901.388118</td>\n",
       "      <td>50173.686673</td>\n",
       "      <td>53965.990717</td>\n",
       "      <td>4128.990173</td>\n",
       "      <td>72202.595138</td>\n",
       "      <td>39937.199964</td>\n",
       "      <td>139472.114293</td>\n",
       "      <td>59386.186379</td>\n",
       "      <td>73362.229590</td>\n",
       "      <td>28705.082908</td>\n",
       "    </tr>\n",
       "  </tbody>\n",
       "</table>\n",
       "<p>4 rows × 3650 columns</p>\n",
       "</div>"
      ],
      "text/plain": [
       "               0              1              2              3     \\\n",
       "1992   -8941.531897  127788.667612  -71887.743011  -79146.060869   \n",
       "1993  -51896.094813  198350.518755 -123518.252821 -129916.759685   \n",
       "1994  152336.932066  192947.128056  389950.263156  -93006.152024   \n",
       "1995  -69708.439062  -13289.977022  -30178.390991   55052.181256   \n",
       "\n",
       "               4              5              6              7     \\\n",
       "1992  425156.114501  310681.166595   50581.575349   88349.230566   \n",
       "1993  216119.147314   49845.883728  149135.648505   62807.672113   \n",
       "1994  100818.575896    5529.230706  -32989.370488  223942.967178   \n",
       "1995  152883.621657   12930.835194   63700.461932   64148.489835   \n",
       "\n",
       "               8              9         ...                3640  \\\n",
       "1992  185804.513522  281286.947277      ...       171938.760289   \n",
       "1993   23365.577348 -109686.264981      ...       -44566.520071   \n",
       "1994  -66721.580898   47826.269111      ...       165085.806360   \n",
       "1995  -29316.268556   59645.677367      ...       -13901.388118   \n",
       "\n",
       "               3641           3642           3643           3644  \\\n",
       "1992  150650.759924  203663.976475 -377877.158072 -197214.093861   \n",
       "1993  101032.122475  117648.199945  160475.622607  -13759.888342   \n",
       "1994   74735.174090  107329.726875  199250.734156  -36792.202754   \n",
       "1995   50173.686673   53965.990717    4128.990173   72202.595138   \n",
       "\n",
       "              3645           3646           3647           3648          3649  \n",
       "1992  24185.008589  -56826.729535  -67319.766489  113377.299342  -4494.878538  \n",
       "1993 -37333.493572  103019.841174  179746.127403   13455.493990  34442.898855  \n",
       "1994 -71861.846997   26375.113219  -29328.078384   65858.761714 -91542.001049  \n",
       "1995  39937.199964  139472.114293   59386.186379   73362.229590  28705.082908  \n",
       "\n",
       "[4 rows x 3650 columns]"
      ]
     },
     "execution_count": 1,
     "metadata": {},
     "output_type": "execute_result"
    }
   ],
   "source": [
    "# Use the following data for this assignment:\n",
    "\n",
    "import pandas as pd\n",
    "import numpy as np\n",
    "import matplotlib.pyplot as plt\n",
    "\n",
    "np.random.seed(12345)\n",
    "\n",
    "df = pd.DataFrame([np.random.normal(32000,200000,3650), \n",
    "                   np.random.normal(43000,100000,3650), \n",
    "                   np.random.normal(43500,140000,3650), \n",
    "                   np.random.normal(48000,70000,3650)], \n",
    "                  index=[1992,1993,1994,1995])\n",
    "df"
   ]
  },
  {
   "cell_type": "code",
   "execution_count": 2,
   "metadata": {
    "collapsed": false
   },
   "outputs": [
    {
     "data": {
      "text/plain": [
       "1992    33312.107476\n",
       "1993    41861.859541\n",
       "1994    39493.304941\n",
       "1995    47743.550969\n",
       "dtype: float64"
      ]
     },
     "execution_count": 2,
     "metadata": {},
     "output_type": "execute_result"
    }
   ],
   "source": [
    "df_mean = np.mean(df,axis=1)\n",
    "df_mean"
   ]
  },
  {
   "cell_type": "code",
   "execution_count": 3,
   "metadata": {
    "collapsed": false
   },
   "outputs": [
    {
     "data": {
      "text/plain": [
       "pandas.core.series.Series"
      ]
     },
     "execution_count": 3,
     "metadata": {},
     "output_type": "execute_result"
    }
   ],
   "source": [
    "type(df_mean)"
   ]
  },
  {
   "cell_type": "code",
   "execution_count": 4,
   "metadata": {
    "collapsed": false
   },
   "outputs": [
    {
     "data": {
      "text/plain": [
       "Int64Index([1992, 1993, 1994, 1995], dtype='int64')"
      ]
     },
     "execution_count": 4,
     "metadata": {},
     "output_type": "execute_result"
    }
   ],
   "source": [
    "x = df_mean.index\n",
    "x"
   ]
  },
  {
   "cell_type": "code",
   "execution_count": 5,
   "metadata": {
    "collapsed": false
   },
   "outputs": [
    {
     "data": {
      "text/plain": [
       "array([ 33312.10747554,  41861.85954107,  39493.3049414 ,  47743.55096927])"
      ]
     },
     "execution_count": 5,
     "metadata": {},
     "output_type": "execute_result"
    }
   ],
   "source": [
    "y= df_mean.values\n",
    "y"
   ]
  },
  {
   "cell_type": "code",
   "execution_count": 6,
   "metadata": {
    "collapsed": false
   },
   "outputs": [
    {
     "data": {
      "image/png": "[encoded data removed]",
      "text/plain": [
       "<matplotlib.figure.Figure at 0x7f5e8130a550>"
      ]
     },
     "metadata": {},
     "output_type": "display_data"
    }
   ],
   "source": [
    "plt.bar(x, y, align='center', alpha=1)\n",
    "plt.xticks(x)\n",
    "plt.show()"
   ]
  },
  {
   "cell_type": "code",
   "execution_count": 7,
   "metadata": {
    "collapsed": false
   },
   "outputs": [
    {
     "data": {
      "image/png": "[encoded data removed]",
      "text/plain": [
       "<matplotlib.figure.Figure at 0x7f5e4595cc50>"
      ]
     },
     "metadata": {},
     "output_type": "display_data"
    }
   ],
   "source": [
    "plt.bar(x, y, align='center', alpha=0.5,width =1)\n",
    "plt.xticks(x)\n",
    "plt.show()"
   ]
  },
  {
   "cell_type": "code",
   "execution_count": 8,
   "metadata": {
    "collapsed": false
   },
   "outputs": [
    {
     "data": {
      "image/png": "[encoded data removed]",
      "text/plain": [
       "<matplotlib.figure.Figure at 0x7f5e4591c0b8>"
      ]
     },
     "metadata": {},
     "output_type": "display_data"
    }
   ],
   "source": [
    "plt.bar(x, y, align='center', alpha=0.5,width =1, edgecolor='black',color='gray')\n",
    "plt.xticks(x)\n",
    "plt.show()"
   ]
  },
  {
   "cell_type": "markdown",
   "metadata": {},
   "source": [
    "### 95% Confidence interval"
   ]
  },
  {
   "cell_type": "code",
   "execution_count": 9,
   "metadata": {
    "collapsed": false
   },
   "outputs": [
    {
     "data": {
      "text/plain": [
       "array([ 200603.41598467,   98384.8760531 ,  140350.69516606,\n",
       "         69771.62574782])"
      ]
     },
     "execution_count": 9,
     "metadata": {},
     "output_type": "execute_result"
    }
   ],
   "source": [
    "df_std = np.std(df,axis=1).values\n",
    "df_std"
   ]
  },
  {
   "cell_type": "code",
   "execution_count": 10,
   "metadata": {
    "collapsed": false
   },
   "outputs": [
    {
     "data": {
      "text/plain": [
       "(-1.9606143120055213, 1.9606143120055213)"
      ]
     },
     "execution_count": 10,
     "metadata": {},
     "output_type": "execute_result"
    }
   ],
   "source": [
    "from scipy.stats import t\n",
    "t_bounds = t.interval(0.95, df.shape[1] - 1)\n",
    "t_bounds"
   ]
  },
  {
   "cell_type": "code",
   "execution_count": 11,
   "metadata": {
    "collapsed": false
   },
   "outputs": [
    {
     "data": {
      "text/plain": [
       "[1992    26802.061428\n",
       " 1993    38669.042159\n",
       " 1994    34938.599410\n",
       " 1995    45479.299913\n",
       " dtype: float64, 1992    39822.153523\n",
       " 1993    45054.676923\n",
       " 1994    44048.010473\n",
       " 1995    50007.802025\n",
       " dtype: float64]"
      ]
     },
     "execution_count": 11,
     "metadata": {},
     "output_type": "execute_result"
    }
   ],
   "source": [
    "from math import sqrt\n",
    "ci = [df_mean + critval * df_std / sqrt(df.shape[1]) for critval in t_bounds]\n",
    "ci"
   ]
  },
  {
   "cell_type": "code",
   "execution_count": 12,
   "metadata": {
    "collapsed": false
   },
   "outputs": [
    {
     "data": {
      "text/plain": [
       "1992    26802.061428\n",
       "1993    38669.042159\n",
       "1994    34938.599410\n",
       "1995    45479.299913\n",
       "dtype: float64"
      ]
     },
     "execution_count": 12,
     "metadata": {},
     "output_type": "execute_result"
    }
   ],
   "source": [
    "ci[0]"
   ]
  },
  {
   "cell_type": "code",
   "execution_count": 13,
   "metadata": {
    "collapsed": false
   },
   "outputs": [
    {
     "data": {
      "text/plain": [
       "pandas.core.series.Series"
      ]
     },
     "execution_count": 13,
     "metadata": {},
     "output_type": "execute_result"
    }
   ],
   "source": [
    "type(ci[0])"
   ]
  },
  {
   "cell_type": "code",
   "execution_count": 14,
   "metadata": {
    "collapsed": false
   },
   "outputs": [
    {
     "data": {
      "text/plain": [
       "26802.061427945933"
      ]
     },
     "execution_count": 14,
     "metadata": {},
     "output_type": "execute_result"
    }
   ],
   "source": [
    "ci[0].iloc[0]"
   ]
  },
  {
   "cell_type": "code",
   "execution_count": 15,
   "metadata": {
    "collapsed": false
   },
   "outputs": [
    {
     "data": {
      "text/plain": [
       "[6510.0460475984437,\n",
       " 3192.8173822419121,\n",
       " 4554.7055311029035,\n",
       " 2264.2510557687856]"
      ]
     },
     "execution_count": 15,
     "metadata": {},
     "output_type": "execute_result"
    }
   ],
   "source": [
    "y_r = [df_mean.iloc[i] - ci[0].iloc[i] for i in range(len(df_mean))]\n",
    "y_r"
   ]
  },
  {
   "cell_type": "code",
   "execution_count": 16,
   "metadata": {
    "collapsed": false
   },
   "outputs": [
    {
     "data": {
      "image/png": "[encoded data removed]",
      "text/plain": [
       "<matplotlib.figure.Figure at 0x7f5e24d1a080>"
      ]
     },
     "metadata": {},
     "output_type": "display_data"
    }
   ],
   "source": [
    "plt.figure()  \n",
    "colors=[\"red\", \"green\", \"blue\", \"purple\"]\n",
    "plt.bar(x, y,yerr=y_r,align='center', alpha=0.5,width =1, edgecolor='black',color=colors)\n",
    "plt.errorbar(x, y, yerr = y_r, color = 'black', ls = 'none', lw = 2, capthick = 2)\n",
    "plt.xticks(x)\n",
    "plt.show()"
   ]
  },
  {
   "cell_type": "code",
   "execution_count": 17,
   "metadata": {
    "collapsed": false
   },
   "outputs": [
    {
     "data": {
      "image/png": "[encoded data removed]",
      "text/plain": [
       "<matplotlib.figure.Figure at 0x7f5e24d56a20>"
      ]
     },
     "metadata": {},
     "output_type": "display_data"
    }
   ],
   "source": [
    "plt.figure()  \n",
    "colors=[\"red\", \"green\", \"blue\", \"purple\"]\n",
    "plt.bar(x, y,yerr=y_r,align='center', alpha=0.5,width =1, edgecolor='black',color=colors)\n",
    "plt.errorbar(x, y, yerr = y_r, color = 'black', ls = 'none', lw = 2, capthick = 2,capsize=15)\n",
    "plt.xticks(x)\n",
    "plt.show()"
   ]
  },
  {
   "cell_type": "code",
   "execution_count": 18,
   "metadata": {
    "collapsed": false
   },
   "outputs": [
    {
     "data": {
      "image/png": "[encoded data removed]",
      "text/plain": [
       "<matplotlib.figure.Figure at 0x7f5e44025f98>"
      ]
     },
     "metadata": {},
     "output_type": "display_data"
    }
   ],
   "source": [
    "threshold=42000\n",
    "plt.figure()  \n",
    "colors=[\"red\", \"green\", \"blue\", \"purple\"]\n",
    "plt.bar(x, y,yerr=y_r,align='center', alpha=0.5,width =1, edgecolor='black',color=colors)\n",
    "plt.errorbar(x, y, yerr = y_r, color = 'black', ls = 'none', lw = 2, capthick = 2,capsize=15)\n",
    "plt.xticks(x)\n",
    "plt.axhline(y = threshold, color = 'grey', alpha = 0.5)\n",
    "plt.show()"
   ]
  },
  {
   "cell_type": "code",
   "execution_count": null,
   "metadata": {
    "collapsed": true
   },
   "outputs": [],
   "source": []
  },
  {
   "cell_type": "code",
   "execution_count": null,
   "metadata": {
    "collapsed": true
   },
   "outputs": [],
   "source": []
  },
  {
   "cell_type": "code",
   "execution_count": null,
   "metadata": {
    "collapsed": true
   },
   "outputs": [],
   "source": []
  },
  {
   "cell_type": "code",
   "execution_count": 29,
   "metadata": {
    "collapsed": false
   },
   "outputs": [
    {
     "data": {
      "application/javascript": [
       "/* Put everything inside the global mpl namespace */\n",
       "window.mpl = {};\n",
       "\n",
       "\n",
       "mpl.get_websocket_type = function() {\n",
       "    if (typeof(WebSocket) !== 'undefined') {\n",
       "        return WebSocket;\n",
       "    } else if (typeof(MozWebSocket) !== 'undefined') {\n",
       "        return MozWebSocket;\n",
       "    } else {\n",
       "        alert('Your browser does not have WebSocket support.' +\n",
       "              'Please try Chrome, Safari or Firefox ≥ 6. ' +\n",
       "              'Firefox 4 and 5 are also supported but you ' +\n",
       "              'have to enable WebSockets in about:config.');\n",
       "    };\n",
       "}\n",
       "\n",
       "mpl.figure = function(figure_id, websocket, ondownload, parent_element) {\n",
       "    this.id = figure_id;\n",
       "\n",
       "    this.ws = websocket;\n",
       "\n",
       "    this.supports_binary = (this.ws.binaryType != undefined);\n",
       "\n",
       "    if (!this.supports_binary) {\n",
       "        var warnings = document.getElementById(\"mpl-warnings\");\n",
       "        if (warnings) {\n",
       "            warnings.style.display = 'block';\n",
       "            warnings.textContent = (\n",
       "                \"This browser does not support binary websocket messages. \" +\n",
       "                    \"Performance may be slow.\");\n",
       "        }\n",
       "    }\n",
       "\n",
       "    this.imageObj = new Image();\n",
       "\n",
       "    this.context = undefined;\n",
       "    this.message = undefined;\n",
       "    this.canvas = undefined;\n",
       "    this.rubberband_canvas = undefined;\n",
       "    this.rubberband_context = undefined;\n",
       "    this.format_dropdown = undefined;\n",
       "\n",
       "    this.image_mode = 'full';\n",
       "\n",
       "    this.root = $('<div/>');\n",
       "    this._root_extra_style(this.root)\n",
       "    this.root.attr('style', 'display: inline-block');\n",
       "\n",
       "    $(parent_element).append(this.root);\n",
       "\n",
       "    this._init_header(this);\n",
       "    this._init_canvas(this);\n",
       "    this._init_toolbar(this);\n",
       "\n",
       "    var fig = this;\n",
       "\n",
       "    this.waiting = false;\n",
       "\n",
       "    this.ws.onopen =  function () {\n",
       "            fig.send_message(\"supports_binary\", {value: fig.supports_binary});\n",
       "            fig.send_message(\"send_image_mode\", {});\n",
       "            if (mpl.ratio != 1) {\n",
       "                fig.send_message(\"set_dpi_ratio\", {'dpi_ratio': mpl.ratio});\n",
       "            }\n",
       "            fig.send_message(\"refresh\", {});\n",
       "        }\n",
       "\n",
       "    this.imageObj.onload = function() {\n",
       "            if (fig.image_mode == 'full') {\n",
       "                // Full images could contain transparency (where diff images\n",
       "                // almost always do), so we need to clear the canvas so that\n",
       "                // there is no ghosting.\n",
       "                fig.context.clearRect(0, 0, fig.canvas.width, fig.canvas.height);\n",
       "            }\n",
       "            fig.context.drawImage(fig.imageObj, 0, 0);\n",
       "        };\n",
       "\n",
       "    this.imageObj.onunload = function() {\n",
       "        this.ws.close();\n",
       "    }\n",
       "\n",
       "    this.ws.onmessage = this._make_on_message_function(this);\n",
       "\n",
       "    this.ondownload = ondownload;\n",
       "}\n",
       "\n",
       "mpl.figure.prototype._init_header = function() {\n",
       "    var titlebar = $(\n",
       "        '<div class=\"ui-dialog-titlebar ui-widget-header ui-corner-all ' +\n",
       "        'ui-helper-clearfix\"/>');\n",
       "    var titletext = $(\n",
       "        '<div class=\"ui-dialog-title\" style=\"width: 100%; ' +\n",
       "        'text-align: center; padding: 3px;\"/>');\n",
       "    titlebar.append(titletext)\n",
       "    this.root.append(titlebar);\n",
       "    this.header = titletext[0];\n",
       "}\n",
       "\n",
       "\n",
       "\n",
       "mpl.figure.prototype._canvas_extra_style = function(canvas_div) {\n",
       "\n",
       "}\n",
       "\n",
       "\n",
       "mpl.figure.prototype._root_extra_style = function(canvas_div) {\n",
       "\n",
       "}\n",
       "\n",
       "mpl.figure.prototype._init_canvas = function() {\n",
       "    var fig = this;\n",
       "\n",
       "    var canvas_div = $('<div/>');\n",
       "\n",
       "    canvas_div.attr('style', 'position: relative; clear: both; outline: 0');\n",
       "\n",
       "    function canvas_keyboard_event(event) {\n",
       "        return fig.key_event(event, event['data']);\n",
       "    }\n",
       "\n",
       "    canvas_div.keydown('key_press', canvas_keyboard_event);\n",
       "    canvas_div.keyup('key_release', canvas_keyboard_event);\n",
       "    this.canvas_div = canvas_div\n",
       "    this._canvas_extra_style(canvas_div)\n",
       "    this.root.append(canvas_div);\n",
       "\n",
       "    var canvas = $('<canvas/>');\n",
       "    canvas.addClass('mpl-canvas');\n",
       "    canvas.attr('style', \"left: 0; top: 0; z-index: 0; outline: 0\")\n",
       "\n",
       "    this.canvas = canvas[0];\n",
       "    this.context = canvas[0].getContext(\"2d\");\n",
       "\n",
       "    var backingStore = this.context.backingStorePixelRatio ||\n",
       "\tthis.context.webkitBackingStorePixelRatio ||\n",
       "\tthis.context.mozBackingStorePixelRatio ||\n",
       "\tthis.context.msBackingStorePixelRatio ||\n",
       "\tthis.context.oBackingStorePixelRatio ||\n",
       "\tthis.context.backingStorePixelRatio || 1;\n",
       "\n",
       "    mpl.ratio = (window.devicePixelRatio || 1) / backingStore;\n",
       "\n",
       "    var rubberband = $('<canvas/>');\n",
       "    rubberband.attr('style', \"position: absolute; left: 0; top: 0; z-index: 1;\")\n",
       "\n",
       "    var pass_mouse_events = true;\n",
       "\n",
       "    canvas_div.resizable({\n",
       "        start: function(event, ui) {\n",
       "            pass_mouse_events = false;\n",
       "        },\n",
       "        resize: function(event, ui) {\n",
       "            fig.request_resize(ui.size.width, ui.size.height);\n",
       "        },\n",
       "        stop: function(event, ui) {\n",
       "            pass_mouse_events = true;\n",
       "            fig.request_resize(ui.size.width, ui.size.height);\n",
       "        },\n",
       "    });\n",
       "\n",
       "    function mouse_event_fn(event) {\n",
       "        if (pass_mouse_events)\n",
       "            return fig.mouse_event(event, event['data']);\n",
       "    }\n",
       "\n",
       "    rubberband.mousedown('button_press', mouse_event_fn);\n",
       "    rubberband.mouseup('button_release', mouse_event_fn);\n",
       "    // Throttle sequential mouse events to 1 every 20ms.\n",
       "    rubberband.mousemove('motion_notify', mouse_event_fn);\n",
       "\n",
       "    rubberband.mouseenter('figure_enter', mouse_event_fn);\n",
       "    rubberband.mouseleave('figure_leave', mouse_event_fn);\n",
       "\n",
       "    canvas_div.on(\"wheel\", function (event) {\n",
       "        event = event.originalEvent;\n",
       "        event['data'] = 'scroll'\n",
       "        if (event.deltaY < 0) {\n",
       "            event.step = 1;\n",
       "        } else {\n",
       "            event.step = -1;\n",
       "        }\n",
       "        mouse_event_fn(event);\n",
       "    });\n",
       "\n",
       "    canvas_div.append(canvas);\n",
       "    canvas_div.append(rubberband);\n",
       "\n",
       "    this.rubberband = rubberband;\n",
       "    this.rubberband_canvas = rubberband[0];\n",
       "    this.rubberband_context = rubberband[0].getContext(\"2d\");\n",
       "    this.rubberband_context.strokeStyle = \"#000000\";\n",
       "\n",
       "    this._resize_canvas = function(width, height) {\n",
       "        // Keep the size of the canvas, canvas container, and rubber band\n",
       "        // canvas in synch.\n",
       "        canvas_div.css('width', width)\n",
       "        canvas_div.css('height', height)\n",
       "\n",
       "        canvas.attr('width', width * mpl.ratio);\n",
       "        canvas.attr('height', height * mpl.ratio);\n",
       "        canvas.attr('style', 'width: ' + width + 'px; height: ' + height + 'px;');\n",
       "\n",
       "        rubberband.attr('width', width);\n",
       "        rubberband.attr('height', height);\n",
       "    }\n",
       "\n",
       "    // Set the figure to an initial 600x600px, this will subsequently be updated\n",
       "    // upon first draw.\n",
       "    this._resize_canvas(600, 600);\n",
       "\n",
       "    // Disable right mouse context menu.\n",
       "    $(this.rubberband_canvas).bind(\"contextmenu\",function(e){\n",
       "        return false;\n",
       "    });\n",
       "\n",
       "    function set_focus () {\n",
       "        canvas.focus();\n",
       "        canvas_div.focus();\n",
       "    }\n",
       "\n",
       "    window.setTimeout(set_focus, 100);\n",
       "}\n",
       "\n",
       "mpl.figure.prototype._init_toolbar = function() {\n",
       "    var fig = this;\n",
       "\n",
       "    var nav_element = $('<div/>')\n",
       "    nav_element.attr('style', 'width: 100%');\n",
       "    this.root.append(nav_element);\n",
       "\n",
       "    // Define a callback function for later on.\n",
       "    function toolbar_event(event) {\n",
       "        return fig.toolbar_button_onclick(event['data']);\n",
       "    }\n",
       "    function toolbar_mouse_event(event) {\n",
       "        return fig.toolbar_button_onmouseover(event['data']);\n",
       "    }\n",
       "\n",
       "    for(var toolbar_ind in mpl.toolbar_items) {\n",
       "        var name = mpl.toolbar_items[toolbar_ind][0];\n",
       "        var tooltip = mpl.toolbar_items[toolbar_ind][1];\n",
       "        var image = mpl.toolbar_items[toolbar_ind][2];\n",
       "        var method_name = mpl.toolbar_items[toolbar_ind][3];\n",
       "\n",
       "        if (!name) {\n",
       "            // put a spacer in here.\n",
       "            continue;\n",
       "        }\n",
       "        var button = $('<button/>');\n",
       "        button.addClass('ui-button ui-widget ui-state-default ui-corner-all ' +\n",
       "                        'ui-button-icon-only');\n",
       "        button.attr('role', 'button');\n",
       "        button.attr('aria-disabled', 'false');\n",
       "        button.click(method_name, toolbar_event);\n",
       "        button.mouseover(tooltip, toolbar_mouse_event);\n",
       "\n",
       "        var icon_img = $('<span/>');\n",
       "        icon_img.addClass('ui-button-icon-primary ui-icon');\n",
       "        icon_img.addClass(image);\n",
       "        icon_img.addClass('ui-corner-all');\n",
       "\n",
       "        var tooltip_span = $('<span/>');\n",
       "        tooltip_span.addClass('ui-button-text');\n",
       "        tooltip_span.html(tooltip);\n",
       "\n",
       "        button.append(icon_img);\n",
       "        button.append(tooltip_span);\n",
       "\n",
       "        nav_element.append(button);\n",
       "    }\n",
       "\n",
       "    var fmt_picker_span = $('<span/>');\n",
       "\n",
       "    var fmt_picker = $('<select/>');\n",
       "    fmt_picker.addClass('mpl-toolbar-option ui-widget ui-widget-content');\n",
       "    fmt_picker_span.append(fmt_picker);\n",
       "    nav_element.append(fmt_picker_span);\n",
       "    this.format_dropdown = fmt_picker[0];\n",
       "\n",
       "    for (var ind in mpl.extensions) {\n",
       "        var fmt = mpl.extensions[ind];\n",
       "        var option = $(\n",
       "            '<option/>', {selected: fmt === mpl.default_extension}).html(fmt);\n",
       "        fmt_picker.append(option)\n",
       "    }\n",
       "\n",
       "    // Add hover states to the ui-buttons\n",
       "    $( \".ui-button\" ).hover(\n",
       "        function() { $(this).addClass(\"ui-state-hover\");},\n",
       "        function() { $(this).removeClass(\"ui-state-hover\");}\n",
       "    );\n",
       "\n",
       "    var status_bar = $('<span class=\"mpl-message\"/>');\n",
       "    nav_element.append(status_bar);\n",
       "    this.message = status_bar[0];\n",
       "}\n",
       "\n",
       "mpl.figure.prototype.request_resize = function(x_pixels, y_pixels) {\n",
       "    // Request matplotlib to resize the figure. Matplotlib will then trigger a resize in the client,\n",
       "    // which will in turn request a refresh of the image.\n",
       "    this.send_message('resize', {'width': x_pixels, 'height': y_pixels});\n",
       "}\n",
       "\n",
       "mpl.figure.prototype.send_message = function(type, properties) {\n",
       "    properties['type'] = type;\n",
       "    properties['figure_id'] = this.id;\n",
       "    this.ws.send(JSON.stringify(properties));\n",
       "}\n",
       "\n",
       "mpl.figure.prototype.send_draw_message = function() {\n",
       "    if (!this.waiting) {\n",
       "        this.waiting = true;\n",
       "        this.ws.send(JSON.stringify({type: \"draw\", figure_id: this.id}));\n",
       "    }\n",
       "}\n",
       "\n",
       "\n",
       "mpl.figure.prototype.handle_save = function(fig, msg) {\n",
       "    var format_dropdown = fig.format_dropdown;\n",
       "    var format = format_dropdown.options[format_dropdown.selectedIndex].value;\n",
       "    fig.ondownload(fig, format);\n",
       "}\n",
       "\n",
       "\n",
       "mpl.figure.prototype.handle_resize = function(fig, msg) {\n",
       "    var size = msg['size'];\n",
       "    if (size[0] != fig.canvas.width || size[1] != fig.canvas.height) {\n",
       "        fig._resize_canvas(size[0], size[1]);\n",
       "        fig.send_message(\"refresh\", {});\n",
       "    };\n",
       "}\n",
       "\n",
       "mpl.figure.prototype.handle_rubberband = function(fig, msg) {\n",
       "    var x0 = msg['x0'] / mpl.ratio;\n",
       "    var y0 = (fig.canvas.height - msg['y0']) / mpl.ratio;\n",
       "    var x1 = msg['x1'] / mpl.ratio;\n",
       "    var y1 = (fig.canvas.height - msg['y1']) / mpl.ratio;\n",
       "    x0 = Math.floor(x0) + 0.5;\n",
       "    y0 = Math.floor(y0) + 0.5;\n",
       "    x1 = Math.floor(x1) + 0.5;\n",
       "    y1 = Math.floor(y1) + 0.5;\n",
       "    var min_x = Math.min(x0, x1);\n",
       "    var min_y = Math.min(y0, y1);\n",
       "    var width = Math.abs(x1 - x0);\n",
       "    var height = Math.abs(y1 - y0);\n",
       "\n",
       "    fig.rubberband_context.clearRect(\n",
       "        0, 0, fig.canvas.width, fig.canvas.height);\n",
       "\n",
       "    fig.rubberband_context.strokeRect(min_x, min_y, width, height);\n",
       "}\n",
       "\n",
       "mpl.figure.prototype.handle_figure_label = function(fig, msg) {\n",
       "    // Updates the figure title.\n",
       "    fig.header.textContent = msg['label'];\n",
       "}\n",
       "\n",
       "mpl.figure.prototype.handle_cursor = function(fig, msg) {\n",
       "    var cursor = msg['cursor'];\n",
       "    switch(cursor)\n",
       "    {\n",
       "    case 0:\n",
       "        cursor = 'pointer';\n",
       "        break;\n",
       "    case 1:\n",
       "        cursor = 'default';\n",
       "        break;\n",
       "    case 2:\n",
       "        cursor = 'crosshair';\n",
       "        break;\n",
       "    case 3:\n",
       "        cursor = 'move';\n",
       "        break;\n",
       "    }\n",
       "    fig.rubberband_canvas.style.cursor = cursor;\n",
       "}\n",
       "\n",
       "mpl.figure.prototype.handle_message = function(fig, msg) {\n",
       "    fig.message.textContent = msg['message'];\n",
       "}\n",
       "\n",
       "mpl.figure.prototype.handle_draw = function(fig, msg) {\n",
       "    // Request the server to send over a new figure.\n",
       "    fig.send_draw_message();\n",
       "}\n",
       "\n",
       "mpl.figure.prototype.handle_image_mode = function(fig, msg) {\n",
       "    fig.image_mode = msg['mode'];\n",
       "}\n",
       "\n",
       "mpl.figure.prototype.updated_canvas_event = function() {\n",
       "    // Called whenever the canvas gets updated.\n",
       "    this.send_message(\"ack\", {});\n",
       "}\n",
       "\n",
       "// A function to construct a web socket function for onmessage handling.\n",
       "// Called in the figure constructor.\n",
       "mpl.figure.prototype._make_on_message_function = function(fig) {\n",
       "    return function socket_on_message(evt) {\n",
       "        if (evt.data instanceof Blob) {\n",
       "            /* FIXME: We get \"Resource interpreted as Image but\n",
       "             * transferred with MIME type text/plain:\" errors on\n",
       "             * Chrome.  But how to set the MIME type?  It doesn't seem\n",
       "             * to be part of the websocket stream */\n",
       "            evt.data.type = \"image/png\";\n",
       "\n",
       "            /* Free the memory for the previous frames */\n",
       "            if (fig.imageObj.src) {\n",
       "                (window.URL || window.webkitURL).revokeObjectURL(\n",
       "                    fig.imageObj.src);\n",
       "            }\n",
       "\n",
       "            fig.imageObj.src = (window.URL || window.webkitURL).createObjectURL(\n",
       "                evt.data);\n",
       "            fig.updated_canvas_event();\n",
       "            fig.waiting = false;\n",
       "            return;\n",
       "        }\n",
       "        else if (typeof evt.data === 'string' && evt.data.slice(0, 21) == \"data:image/png;base64\") {\n",
       "            fig.imageObj.src = evt.data;\n",
       "            fig.updated_canvas_event();\n",
       "            fig.waiting = false;\n",
       "            return;\n",
       "        }\n",
       "\n",
       "        var msg = JSON.parse(evt.data);\n",
       "        var msg_type = msg['type'];\n",
       "\n",
       "        // Call the  \"handle_{type}\" callback, which takes\n",
       "        // the figure and JSON message as its only arguments.\n",
       "        try {\n",
       "            var callback = fig[\"handle_\" + msg_type];\n",
       "        } catch (e) {\n",
       "            console.log(\"No handler for the '\" + msg_type + \"' message type: \", msg);\n",
       "            return;\n",
       "        }\n",
       "\n",
       "        if (callback) {\n",
       "            try {\n",
       "                // console.log(\"Handling '\" + msg_type + \"' message: \", msg);\n",
       "                callback(fig, msg);\n",
       "            } catch (e) {\n",
       "                console.log(\"Exception inside the 'handler_\" + msg_type + \"' callback:\", e, e.stack, msg);\n",
       "            }\n",
       "        }\n",
       "    };\n",
       "}\n",
       "\n",
       "// from http://stackoverflow.com/questions/1114465/getting-mouse-location-in-canvas\n",
       "mpl.findpos = function(e) {\n",
       "    //this section is from http://www.quirksmode.org/js/events_properties.html\n",
       "    var targ;\n",
       "    if (!e)\n",
       "        e = window.event;\n",
       "    if (e.target)\n",
       "        targ = e.target;\n",
       "    else if (e.srcElement)\n",
       "        targ = e.srcElement;\n",
       "    if (targ.nodeType == 3) // defeat Safari bug\n",
       "        targ = targ.parentNode;\n",
       "\n",
       "    // jQuery normalizes the pageX and pageY\n",
       "    // pageX,Y are the mouse positions relative to the document\n",
       "    // offset() returns the position of the element relative to the document\n",
       "    var x = e.pageX - $(targ).offset().left;\n",
       "    var y = e.pageY - $(targ).offset().top;\n",
       "\n",
       "    return {\"x\": x, \"y\": y};\n",
       "};\n",
       "\n",
       "/*\n",
       " * return a copy of an object with only non-object keys\n",
       " * we need this to avoid circular references\n",
       " * http://stackoverflow.com/a/24161582/3208463\n",
       " */\n",
       "function simpleKeys (original) {\n",
       "  return Object.keys(original).reduce(function (obj, key) {\n",
       "    if (typeof original[key] !== 'object')\n",
       "        obj[key] = original[key]\n",
       "    return obj;\n",
       "  }, {});\n",
       "}\n",
       "\n",
       "mpl.figure.prototype.mouse_event = function(event, name) {\n",
       "    var canvas_pos = mpl.findpos(event)\n",
       "\n",
       "    if (name === 'button_press')\n",
       "    {\n",
       "        this.canvas.focus();\n",
       "        this.canvas_div.focus();\n",
       "    }\n",
       "\n",
       "    var x = canvas_pos.x * mpl.ratio;\n",
       "    var y = canvas_pos.y * mpl.ratio;\n",
       "\n",
       "    this.send_message(name, {x: x, y: y, button: event.button,\n",
       "                             step: event.step,\n",
       "                             guiEvent: simpleKeys(event)});\n",
       "\n",
       "    /* This prevents the web browser from automatically changing to\n",
       "     * the text insertion cursor when the button is pressed.  We want\n",
       "     * to control all of the cursor setting manually through the\n",
       "     * 'cursor' event from matplotlib */\n",
       "    event.preventDefault();\n",
       "    return false;\n",
       "}\n",
       "\n",
       "mpl.figure.prototype._key_event_extra = function(event, name) {\n",
       "    // Handle any extra behaviour associated with a key event\n",
       "}\n",
       "\n",
       "mpl.figure.prototype.key_event = function(event, name) {\n",
       "\n",
       "    // Prevent repeat events\n",
       "    if (name == 'key_press')\n",
       "    {\n",
       "        if (event.which === this._key)\n",
       "            return;\n",
       "        else\n",
       "            this._key = event.which;\n",
       "    }\n",
       "    if (name == 'key_release')\n",
       "        this._key = null;\n",
       "\n",
       "    var value = '';\n",
       "    if (event.ctrlKey && event.which != 17)\n",
       "        value += \"ctrl+\";\n",
       "    if (event.altKey && event.which != 18)\n",
       "        value += \"alt+\";\n",
       "    if (event.shiftKey && event.which != 16)\n",
       "        value += \"shift+\";\n",
       "\n",
       "    value += 'k';\n",
       "    value += event.which.toString();\n",
       "\n",
       "    this._key_event_extra(event, name);\n",
       "\n",
       "    this.send_message(name, {key: value,\n",
       "                             guiEvent: simpleKeys(event)});\n",
       "    return false;\n",
       "}\n",
       "\n",
       "mpl.figure.prototype.toolbar_button_onclick = function(name) {\n",
       "    if (name == 'download') {\n",
       "        this.handle_save(this, null);\n",
       "    } else {\n",
       "        this.send_message(\"toolbar_button\", {name: name});\n",
       "    }\n",
       "};\n",
       "\n",
       "mpl.figure.prototype.toolbar_button_onmouseover = function(tooltip) {\n",
       "    this.message.textContent = tooltip;\n",
       "};\n",
       "mpl.toolbar_items = [[\"Home\", \"Reset original view\", \"fa fa-home icon-home\", \"home\"], [\"Back\", \"Back to  previous view\", \"fa fa-arrow-left icon-arrow-left\", \"back\"], [\"Forward\", \"Forward to next view\", \"fa fa-arrow-right icon-arrow-right\", \"forward\"], [\"\", \"\", \"\", \"\"], [\"Pan\", \"Pan axes with left mouse, zoom with right\", \"fa fa-arrows icon-move\", \"pan\"], [\"Zoom\", \"Zoom to rectangle\", \"fa fa-square-o icon-check-empty\", \"zoom\"], [\"\", \"\", \"\", \"\"], [\"Download\", \"Download plot\", \"fa fa-floppy-o icon-save\", \"download\"]];\n",
       "\n",
       "mpl.extensions = [\"eps\", \"jpeg\", \"pdf\", \"png\", \"ps\", \"raw\", \"svg\", \"tif\"];\n",
       "\n",
       "mpl.default_extension = \"png\";var comm_websocket_adapter = function(comm) {\n",
       "    // Create a \"websocket\"-like object which calls the given IPython comm\n",
       "    // object with the appropriate methods. Currently this is a non binary\n",
       "    // socket, so there is still some room for performance tuning.\n",
       "    var ws = {};\n",
       "\n",
       "    ws.close = function() {\n",
       "        comm.close()\n",
       "    };\n",
       "    ws.send = function(m) {\n",
       "        //console.log('sending', m);\n",
       "        comm.send(m);\n",
       "    };\n",
       "    // Register the callback with on_msg.\n",
       "    comm.on_msg(function(msg) {\n",
       "        //console.log('receiving', msg['content']['data'], msg);\n",
       "        // Pass the mpl event to the overriden (by mpl) onmessage function.\n",
       "        ws.onmessage(msg['content']['data'])\n",
       "    });\n",
       "    return ws;\n",
       "}\n",
       "\n",
       "mpl.mpl_figure_comm = function(comm, msg) {\n",
       "    // This is the function which gets called when the mpl process\n",
       "    // starts-up an IPython Comm through the \"matplotlib\" channel.\n",
       "\n",
       "    var id = msg.content.data.id;\n",
       "    // Get hold of the div created by the display call when the Comm\n",
       "    // socket was opened in Python.\n",
       "    var element = $(\"#\" + id);\n",
       "    var ws_proxy = comm_websocket_adapter(comm)\n",
       "\n",
       "    function ondownload(figure, format) {\n",
       "        window.open(figure.imageObj.src);\n",
       "    }\n",
       "\n",
       "    var fig = new mpl.figure(id, ws_proxy,\n",
       "                           ondownload,\n",
       "                           element.get(0));\n",
       "\n",
       "    // Call onopen now - mpl needs it, as it is assuming we've passed it a real\n",
       "    // web socket which is closed, not our websocket->open comm proxy.\n",
       "    ws_proxy.onopen();\n",
       "\n",
       "    fig.parent_element = element.get(0);\n",
       "    fig.cell_info = mpl.find_output_cell(\"<div id='\" + id + \"'></div>\");\n",
       "    if (!fig.cell_info) {\n",
       "        console.error(\"Failed to find cell for figure\", id, fig);\n",
       "        return;\n",
       "    }\n",
       "\n",
       "    var output_index = fig.cell_info[2]\n",
       "    var cell = fig.cell_info[0];\n",
       "\n",
       "};\n",
       "\n",
       "mpl.figure.prototype.handle_close = function(fig, msg) {\n",
       "    var width = fig.canvas.width/mpl.ratio\n",
       "    fig.root.unbind('remove')\n",
       "\n",
       "    // Update the output cell to use the data from the current canvas.\n",
       "    fig.push_to_output();\n",
       "    var dataURL = fig.canvas.toDataURL();\n",
       "    // Re-enable the keyboard manager in IPython - without this line, in FF,\n",
       "    // the notebook keyboard shortcuts fail.\n",
       "    IPython.keyboard_manager.enable()\n",
       "    $(fig.parent_element).html('<img src=\"' + dataURL + '\" width=\"' + width + '\">');\n",
       "    fig.close_ws(fig, msg);\n",
       "}\n",
       "\n",
       "mpl.figure.prototype.close_ws = function(fig, msg){\n",
       "    fig.send_message('closing', msg);\n",
       "    // fig.ws.close()\n",
       "}\n",
       "\n",
       "mpl.figure.prototype.push_to_output = function(remove_interactive) {\n",
       "    // Turn the data on the canvas into data in the output cell.\n",
       "    var width = this.canvas.width/mpl.ratio\n",
       "    var dataURL = this.canvas.toDataURL();\n",
       "    this.cell_info[1]['text/html'] = '<img src=\"' + dataURL + '\" width=\"' + width + '\">';\n",
       "}\n",
       "\n",
       "mpl.figure.prototype.updated_canvas_event = function() {\n",
       "    // Tell IPython that the notebook contents must change.\n",
       "    IPython.notebook.set_dirty(true);\n",
       "    this.send_message(\"ack\", {});\n",
       "    var fig = this;\n",
       "    // Wait a second, then push the new image to the DOM so\n",
       "    // that it is saved nicely (might be nice to debounce this).\n",
       "    setTimeout(function () { fig.push_to_output() }, 1000);\n",
       "}\n",
       "\n",
       "mpl.figure.prototype._init_toolbar = function() {\n",
       "    var fig = this;\n",
       "\n",
       "    var nav_element = $('<div/>')\n",
       "    nav_element.attr('style', 'width: 100%');\n",
       "    this.root.append(nav_element);\n",
       "\n",
       "    // Define a callback function for later on.\n",
       "    function toolbar_event(event) {\n",
       "        return fig.toolbar_button_onclick(event['data']);\n",
       "    }\n",
       "    function toolbar_mouse_event(event) {\n",
       "        return fig.toolbar_button_onmouseover(event['data']);\n",
       "    }\n",
       "\n",
       "    for(var toolbar_ind in mpl.toolbar_items){\n",
       "        var name = mpl.toolbar_items[toolbar_ind][0];\n",
       "        var tooltip = mpl.toolbar_items[toolbar_ind][1];\n",
       "        var image = mpl.toolbar_items[toolbar_ind][2];\n",
       "        var method_name = mpl.toolbar_items[toolbar_ind][3];\n",
       "\n",
       "        if (!name) { continue; };\n",
       "\n",
       "        var button = $('<button class=\"btn btn-default\" href=\"#\" title=\"' + name + '\"><i class=\"fa ' + image + ' fa-lg\"></i></button>');\n",
       "        button.click(method_name, toolbar_event);\n",
       "        button.mouseover(tooltip, toolbar_mouse_event);\n",
       "        nav_element.append(button);\n",
       "    }\n",
       "\n",
       "    // Add the status bar.\n",
       "    var status_bar = $('<span class=\"mpl-message\" style=\"text-align:right; float: right;\"/>');\n",
       "    nav_element.append(status_bar);\n",
       "    this.message = status_bar[0];\n",
       "\n",
       "    // Add the close button to the window.\n",
       "    var buttongrp = $('<div class=\"btn-group inline pull-right\"></div>');\n",
       "    var button = $('<button class=\"btn btn-mini btn-primary\" href=\"#\" title=\"Stop Interaction\"><i class=\"fa fa-power-off icon-remove icon-large\"></i></button>');\n",
       "    button.click(function (evt) { fig.handle_close(fig, {}); } );\n",
       "    button.mouseover('Stop Interaction', toolbar_mouse_event);\n",
       "    buttongrp.append(button);\n",
       "    var titlebar = this.root.find($('.ui-dialog-titlebar'));\n",
       "    titlebar.prepend(buttongrp);\n",
       "}\n",
       "\n",
       "mpl.figure.prototype._root_extra_style = function(el){\n",
       "    var fig = this\n",
       "    el.on(\"remove\", function(){\n",
       "\tfig.close_ws(fig, {});\n",
       "    });\n",
       "}\n",
       "\n",
       "mpl.figure.prototype._canvas_extra_style = function(el){\n",
       "    // this is important to make the div 'focusable\n",
       "    el.attr('tabindex', 0)\n",
       "    // reach out to IPython and tell the keyboard manager to turn it's self\n",
       "    // off when our div gets focus\n",
       "\n",
       "    // location in version 3\n",
       "    if (IPython.notebook.keyboard_manager) {\n",
       "        IPython.notebook.keyboard_manager.register_events(el);\n",
       "    }\n",
       "    else {\n",
       "        // location in version 2\n",
       "        IPython.keyboard_manager.register_events(el);\n",
       "    }\n",
       "\n",
       "}\n",
       "\n",
       "mpl.figure.prototype._key_event_extra = function(event, name) {\n",
       "    var manager = IPython.notebook.keyboard_manager;\n",
       "    if (!manager)\n",
       "        manager = IPython.keyboard_manager;\n",
       "\n",
       "    // Check for shift+enter\n",
       "    if (event.shiftKey && event.which == 13) {\n",
       "        this.canvas_div.blur();\n",
       "        // select the cell after this one\n",
       "        var index = IPython.notebook.find_cell_index(this.cell_info[0]);\n",
       "        IPython.notebook.select(index + 1);\n",
       "    }\n",
       "}\n",
       "\n",
       "mpl.figure.prototype.handle_save = function(fig, msg) {\n",
       "    fig.ondownload(fig, null);\n",
       "}\n",
       "\n",
       "\n",
       "mpl.find_output_cell = function(html_output) {\n",
       "    // Return the cell and output element which can be found *uniquely* in the notebook.\n",
       "    // Note - this is a bit hacky, but it is done because the \"notebook_saving.Notebook\"\n",
       "    // IPython event is triggered only after the cells have been serialised, which for\n",
       "    // our purposes (turning an active figure into a static one), is too late.\n",
       "    var cells = IPython.notebook.get_cells();\n",
       "    var ncells = cells.length;\n",
       "    for (var i=0; i<ncells; i++) {\n",
       "        var cell = cells[i];\n",
       "        if (cell.cell_type === 'code'){\n",
       "            for (var j=0; j<cell.output_area.outputs.length; j++) {\n",
       "                var data = cell.output_area.outputs[j];\n",
       "                if (data.data) {\n",
       "                    // IPython >= 3 moved mimebundle to data attribute of output\n",
       "                    data = data.data;\n",
       "                }\n",
       "                if (data['text/html'] == html_output) {\n",
       "                    return [cell, data, j];\n",
       "                }\n",
       "            }\n",
       "        }\n",
       "    }\n",
       "}\n",
       "\n",
       "// Register the function which deals with the matplotlib target/channel.\n",
       "// The kernel may be null if the page has been refreshed.\n",
       "if (IPython.notebook.kernel != null) {\n",
       "    IPython.notebook.kernel.comm_manager.register_target('matplotlib', mpl.mpl_figure_comm);\n",
       "}\n"
      ],
      "text/plain": [
       "<IPython.core.display.Javascript object>"
      ]
     },
     "metadata": {},
     "output_type": "display_data"
    },
    {
     "data": {
      "text/html": [
       "<img src=\"data:image/png;base64,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\" width=\"638.888905813665\">"
      ],
      "text/plain": [
       "<IPython.core.display.HTML object>"
      ]
     },
     "metadata": {},
     "output_type": "display_data"
    }
   ],
   "source": [
    "# Use the following data for this assignment:\n",
    "%matplotlib notebook\n",
    "import pandas as pd\n",
    "import numpy as np\n",
    "\n",
    "np.random.seed(12345)\n",
    "\n",
    "df = pd.DataFrame([np.random.normal(33500,150000,3650), \n",
    "                   np.random.normal(41000,90000,3650), \n",
    "                   np.random.normal(41000,120000,3650), \n",
    "                   np.random.normal(48000,55000,3650)], \n",
    "                  index=[1992,1993,1994,1995])\n",
    "from scipy import stats\n",
    "year_avg = df.mean(axis = 1)\n",
    "year_std = df.std(axis = 1)\n",
    "yerr = year_std / np.sqrt(df.shape[1]) * stats.t.ppf(1-0.05/2, df.shape[1]-1)\n",
    "import matplotlib.pyplot as plt\n",
    "plt.figure()\n",
    "plt.show()\n",
    "bars = plt.bar(range(df.shape[0]), year_avg, yerr = yerr, color = 'lightslategrey')"
   ]
  },
  {
   "cell_type": "code",
   "execution_count": 30,
   "metadata": {
    "collapsed": true
   },
   "outputs": [],
   "source": [
    "fig = plt.gcf()"
   ]
  },
  {
   "cell_type": "code",
   "execution_count": 31,
   "metadata": {
    "collapsed": false
   },
   "outputs": [
    {
     "data": {
      "text/plain": [
       "<matplotlib.lines.Line2D at 0x7f5e24b77d68>"
      ]
     },
     "execution_count": 31,
     "metadata": {},
     "output_type": "execute_result"
    }
   ],
   "source": [
    "threshold=42000\n",
    "plt.axhline(y = threshold, color = 'grey', alpha = 0.5)"
   ]
  },
  {
   "cell_type": "code",
   "execution_count": 32,
   "metadata": {
    "collapsed": false
   },
   "outputs": [
    {
     "data": {
      "text/plain": [
       "<matplotlib.cm.ScalarMappable at 0x7f5e24c340f0>"
      ]
     },
     "execution_count": 32,
     "metadata": {},
     "output_type": "execute_result"
    }
   ],
   "source": [
    "import matplotlib.colors as mcol\n",
    "import matplotlib.cm as cm\n",
    "\n",
    "cm1 = mcol.LinearSegmentedColormap.from_list(\"MyCmapName\",[\"b\", \"white\", \"purple\"])\n",
    "cpick = cm.ScalarMappable(cmap=cm1)\n",
    "cpick.set_array([])\n",
    "cpick"
   ]
  },
  {
   "cell_type": "code",
   "execution_count": 33,
   "metadata": {
    "collapsed": false
   },
   "outputs": [
    {
     "data": {
      "text/plain": [
       "[0, 0.14781207895166915, 0, 1]"
      ]
     },
     "execution_count": 33,
     "metadata": {},
     "output_type": "execute_result"
    }
   ],
   "source": [
    "percentages = []\n",
    "for bar, yerr_ in zip(bars, yerr):\n",
    "    low = bar.get_height() - yerr_\n",
    "    high = bar.get_height() + yerr_\n",
    "    percentage = (high-threshold)/(high-low)\n",
    "    if percentage>1: percentage = 1\n",
    "    if percentage<0: percentage=0\n",
    "    percentages.append(percentage)\n",
    "percentages"
   ]
  },
  {
   "cell_type": "code",
   "execution_count": 34,
   "metadata": {
    "collapsed": false
   },
   "outputs": [
    {
     "data": {
      "text/plain": [
       "array([[ 0.        ,  0.        ,  1.        ,  1.        ],\n",
       "       [ 0.29019608,  0.29019608,  1.        ,  1.        ],\n",
       "       [ 0.        ,  0.        ,  1.        ,  1.        ],\n",
       "       [ 0.50196078,  0.        ,  0.50196078,  1.        ]])"
      ]
     },
     "execution_count": 34,
     "metadata": {},
     "output_type": "execute_result"
    }
   ],
   "source": [
    "cpick.to_rgba(percentages)"
   ]
  },
  {
   "cell_type": "code",
   "execution_count": 35,
   "metadata": {
    "collapsed": false
   },
   "outputs": [
    {
     "data": {
      "text/plain": [
       "<matplotlib.colorbar.Colorbar at 0x7f5e24d5aa58>"
      ]
     },
     "execution_count": 35,
     "metadata": {},
     "output_type": "execute_result"
    }
   ],
   "source": [
    "bars = plt.bar(range(df.shape[0]), year_avg, yerr = yerr, color = cpick.to_rgba(percentages))\n",
    "plt.colorbar(cpick, orientation='horizontal')"
   ]
  },
  {
   "cell_type": "code",
   "execution_count": 28,
   "metadata": {
    "collapsed": false
   },
   "outputs": [
    {
     "data": {
      "text/plain": [
       "([<matplotlib.axis.XTick at 0x7f5e44344ef0>,\n",
       "  <matplotlib.axis.XTick at 0x7f5e44344c18>,\n",
       "  <matplotlib.axis.XTick at 0x7f5e24ca3f60>,\n",
       "  <matplotlib.axis.XTick at 0x7f5e21a85a90>],\n",
       " <a list of 4 Text xticklabel objects>)"
      ]
     },
     "execution_count": 28,
     "metadata": {},
     "output_type": "execute_result"
    }
   ],
   "source": [
    "plt.xticks(range(df.shape[0]), df.index, alpha = 0.8)"
   ]
  },
  {
   "cell_type": "code",
   "execution_count": null,
   "metadata": {
    "collapsed": true
   },
   "outputs": [],
   "source": []
  }
 ],
 "metadata": {
  "kernelspec": {
   "display_name": "Python 3",
   "language": "python",
   "name": "python3"
  },
  "language_info": {
   "codemirror_mode": {
    "name": "ipython",
    "version": 3
   },
   "file_extension": ".py",
   "mimetype": "text/x-python",
   "name": "python",
   "nbconvert_exporter": "python",
   "pygments_lexer": "ipython3",
   "version": "3.5.2"
  }
 },
 "nbformat": 4,
 "nbformat_minor": 2
}
