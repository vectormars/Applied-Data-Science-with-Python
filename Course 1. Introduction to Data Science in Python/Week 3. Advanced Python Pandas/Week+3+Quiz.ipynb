{
 "cells": [
  {
   "cell_type": "code",
   "execution_count": 1,
   "metadata": {
    "collapsed": false
   },
   "outputs": [],
   "source": [
    "import pandas as pd"
   ]
  },
  {
   "cell_type": "markdown",
   "metadata": {},
   "source": [
    "### Quiz 1: Chaining "
   ]
  },
  {
   "cell_type": "markdown",
   "metadata": {},
   "source": [
    "Use chaining method to modify the DataFrame df in one statement to drop any entries where 'Quantiy' is 0 and rename the column 'Weight' to 'Weight (oz.)'"
   ]
  },
  {
   "cell_type": "code",
   "execution_count": 2,
   "metadata": {
    "collapsed": false
   },
   "outputs": [
    {
     "data": {
      "text/html": [
       "<div>\n",
       "<table border=\"1\" class=\"dataframe\">\n",
       "  <thead>\n",
       "    <tr style=\"text-align: right;\">\n",
       "      <th></th>\n",
       "      <th>Category</th>\n",
       "      <th>Quantity</th>\n",
       "      <th>Weight</th>\n",
       "    </tr>\n",
       "    <tr>\n",
       "      <th>Item</th>\n",
       "      <th></th>\n",
       "      <th></th>\n",
       "      <th></th>\n",
       "    </tr>\n",
       "  </thead>\n",
       "  <tbody>\n",
       "    <tr>\n",
       "      <th>Pack</th>\n",
       "      <td>Pack</td>\n",
       "      <td>1</td>\n",
       "      <td>33.0</td>\n",
       "    </tr>\n",
       "    <tr>\n",
       "      <th>Tent</th>\n",
       "      <td>Shelter</td>\n",
       "      <td>1</td>\n",
       "      <td>80.0</td>\n",
       "    </tr>\n",
       "    <tr>\n",
       "      <th>Sleeping Pad</th>\n",
       "      <td>Sleep</td>\n",
       "      <td>0</td>\n",
       "      <td>27.0</td>\n",
       "    </tr>\n",
       "    <tr>\n",
       "      <th>Sleeping Bag</th>\n",
       "      <td>Sleep</td>\n",
       "      <td>1</td>\n",
       "      <td>20.0</td>\n",
       "    </tr>\n",
       "    <tr>\n",
       "      <th>Toothbrush/Toothpaste</th>\n",
       "      <td>Health</td>\n",
       "      <td>1</td>\n",
       "      <td>2.0</td>\n",
       "    </tr>\n",
       "    <tr>\n",
       "      <th>Sunscreen</th>\n",
       "      <td>Health</td>\n",
       "      <td>1</td>\n",
       "      <td>5.0</td>\n",
       "    </tr>\n",
       "    <tr>\n",
       "      <th>Medical kit</th>\n",
       "      <td>Health</td>\n",
       "      <td>1</td>\n",
       "      <td>3.7</td>\n",
       "    </tr>\n",
       "    <tr>\n",
       "      <th>Spoon</th>\n",
       "      <td>Kitchen</td>\n",
       "      <td>0</td>\n",
       "      <td>0.7</td>\n",
       "    </tr>\n",
       "    <tr>\n",
       "      <th>Stove</th>\n",
       "      <td>Kitchen</td>\n",
       "      <td>1</td>\n",
       "      <td>20.0</td>\n",
       "    </tr>\n",
       "    <tr>\n",
       "      <th>Water Filter</th>\n",
       "      <td>Kitchen</td>\n",
       "      <td>1</td>\n",
       "      <td>1.8</td>\n",
       "    </tr>\n",
       "    <tr>\n",
       "      <th>Water bottles</th>\n",
       "      <td>Kitchen</td>\n",
       "      <td>2</td>\n",
       "      <td>35.0</td>\n",
       "    </tr>\n",
       "    <tr>\n",
       "      <th>Pack Liner</th>\n",
       "      <td>Utility</td>\n",
       "      <td>1</td>\n",
       "      <td>1.0</td>\n",
       "    </tr>\n",
       "    <tr>\n",
       "      <th>Stuff Sack</th>\n",
       "      <td>Utility</td>\n",
       "      <td>0</td>\n",
       "      <td>1.0</td>\n",
       "    </tr>\n",
       "    <tr>\n",
       "      <th>Trekking Poles</th>\n",
       "      <td>Utility</td>\n",
       "      <td>1</td>\n",
       "      <td>16.0</td>\n",
       "    </tr>\n",
       "    <tr>\n",
       "      <th>Rain Poncho</th>\n",
       "      <td>Clothing</td>\n",
       "      <td>0</td>\n",
       "      <td>6.0</td>\n",
       "    </tr>\n",
       "    <tr>\n",
       "      <th>Shoes</th>\n",
       "      <td>Clothing</td>\n",
       "      <td>1</td>\n",
       "      <td>12.0</td>\n",
       "    </tr>\n",
       "    <tr>\n",
       "      <th>Hat</th>\n",
       "      <td>Clothing</td>\n",
       "      <td>1</td>\n",
       "      <td>2.5</td>\n",
       "    </tr>\n",
       "  </tbody>\n",
       "</table>\n",
       "</div>"
      ],
      "text/plain": [
       "                       Category  Quantity  Weight\n",
       "Item                                             \n",
       "Pack                       Pack         1    33.0\n",
       "Tent                    Shelter         1    80.0\n",
       "Sleeping Pad              Sleep         0    27.0\n",
       "Sleeping Bag              Sleep         1    20.0\n",
       "Toothbrush/Toothpaste    Health         1     2.0\n",
       "Sunscreen                Health         1     5.0\n",
       "Medical kit              Health         1     3.7\n",
       "Spoon                   Kitchen         0     0.7\n",
       "Stove                   Kitchen         1    20.0\n",
       "Water Filter            Kitchen         1     1.8\n",
       "Water bottles           Kitchen         2    35.0\n",
       "Pack Liner              Utility         1     1.0\n",
       "Stuff Sack              Utility         0     1.0\n",
       "Trekking Poles          Utility         1    16.0\n",
       "Rain Poncho            Clothing         0     6.0\n",
       "Shoes                  Clothing         1    12.0\n",
       "Hat                    Clothing         1     2.5"
      ]
     },
     "execution_count": 2,
     "metadata": {},
     "output_type": "execute_result"
    }
   ],
   "source": [
    "df = pd.DataFrame([{'Item': 'Pack', 'Category': 'Pack', 'Quantity': 1, 'Weight': 33.0},\n",
    "                   {'Item': 'Tent', 'Category': 'Shelter', 'Quantity': 1, 'Weight': 80.0},\n",
    "                   {'Item': 'Sleeping Pad', 'Category': 'Sleep', 'Quantity': 0, 'Weight': 27.0},\n",
    "                   {'Item': 'Sleeping Bag', 'Category': 'Sleep', 'Quantity': 1, 'Weight': 20.0},\n",
    "                   {'Item': 'Toothbrush/Toothpaste', 'Category': 'Health', 'Quantity': 1, 'Weight': 2.0},\n",
    "                   {'Item': 'Sunscreen', 'Category': 'Health', 'Quantity': 1, 'Weight': 5.0},\n",
    "                   {'Item': 'Medical kit', 'Category': 'Health', 'Quantity': 1, 'Weight': 3.7},\n",
    "                   {'Item': 'Spoon', 'Category': 'Kitchen', 'Quantity': 0, 'Weight': 0.7},\n",
    "                   {'Item': 'Stove', 'Category': 'Kitchen', 'Quantity': 1, 'Weight': 20.0},\n",
    "                   {'Item': 'Water Filter', 'Category': 'Kitchen', 'Quantity': 1, 'Weight': 1.8},\n",
    "                   {'Item': 'Water bottles', 'Category': 'Kitchen', 'Quantity': 2, 'Weight': 35.0},\n",
    "                   {'Item': 'Pack Liner', 'Category': 'Utility', 'Quantity': 1, 'Weight': 1.0},\n",
    "                   {'Item': 'Stuff Sack', 'Category': 'Utility', 'Quantity': 0, 'Weight': 1.0},\n",
    "                   {'Item': 'Trekking Poles', 'Category': 'Utility', 'Quantity': 1, 'Weight': 16.0},\n",
    "                   {'Item': 'Rain Poncho', 'Category': 'Clothing', 'Quantity': 0, 'Weight': 6.0},\n",
    "                   {'Item': 'Shoes', 'Category': 'Clothing', 'Quantity': 1, 'Weight': 12.0},\n",
    "                   {'Item': 'Hat', 'Category': 'Clothing', 'Quantity': 1, 'Weight': 2.5}\n",
    "                  ]).set_index('Item')\n",
    "df"
   ]
  },
  {
   "cell_type": "code",
   "execution_count": 3,
   "metadata": {
    "collapsed": false
   },
   "outputs": [
    {
     "data": {
      "text/html": [
       "<div>\n",
       "<table border=\"1\" class=\"dataframe\">\n",
       "  <thead>\n",
       "    <tr style=\"text-align: right;\">\n",
       "      <th></th>\n",
       "      <th>Category</th>\n",
       "      <th>Quantity</th>\n",
       "      <th>Weight (oz.)</th>\n",
       "    </tr>\n",
       "    <tr>\n",
       "      <th>Item</th>\n",
       "      <th></th>\n",
       "      <th></th>\n",
       "      <th></th>\n",
       "    </tr>\n",
       "  </thead>\n",
       "  <tbody>\n",
       "    <tr>\n",
       "      <th>Pack</th>\n",
       "      <td>Pack</td>\n",
       "      <td>1</td>\n",
       "      <td>33.0</td>\n",
       "    </tr>\n",
       "    <tr>\n",
       "      <th>Tent</th>\n",
       "      <td>Shelter</td>\n",
       "      <td>1</td>\n",
       "      <td>80.0</td>\n",
       "    </tr>\n",
       "    <tr>\n",
       "      <th>Sleeping Bag</th>\n",
       "      <td>Sleep</td>\n",
       "      <td>1</td>\n",
       "      <td>20.0</td>\n",
       "    </tr>\n",
       "    <tr>\n",
       "      <th>Toothbrush/Toothpaste</th>\n",
       "      <td>Health</td>\n",
       "      <td>1</td>\n",
       "      <td>2.0</td>\n",
       "    </tr>\n",
       "    <tr>\n",
       "      <th>Sunscreen</th>\n",
       "      <td>Health</td>\n",
       "      <td>1</td>\n",
       "      <td>5.0</td>\n",
       "    </tr>\n",
       "    <tr>\n",
       "      <th>Medical kit</th>\n",
       "      <td>Health</td>\n",
       "      <td>1</td>\n",
       "      <td>3.7</td>\n",
       "    </tr>\n",
       "    <tr>\n",
       "      <th>Stove</th>\n",
       "      <td>Kitchen</td>\n",
       "      <td>1</td>\n",
       "      <td>20.0</td>\n",
       "    </tr>\n",
       "    <tr>\n",
       "      <th>Water Filter</th>\n",
       "      <td>Kitchen</td>\n",
       "      <td>1</td>\n",
       "      <td>1.8</td>\n",
       "    </tr>\n",
       "    <tr>\n",
       "      <th>Water bottles</th>\n",
       "      <td>Kitchen</td>\n",
       "      <td>2</td>\n",
       "      <td>35.0</td>\n",
       "    </tr>\n",
       "    <tr>\n",
       "      <th>Pack Liner</th>\n",
       "      <td>Utility</td>\n",
       "      <td>1</td>\n",
       "      <td>1.0</td>\n",
       "    </tr>\n",
       "    <tr>\n",
       "      <th>Trekking Poles</th>\n",
       "      <td>Utility</td>\n",
       "      <td>1</td>\n",
       "      <td>16.0</td>\n",
       "    </tr>\n",
       "    <tr>\n",
       "      <th>Shoes</th>\n",
       "      <td>Clothing</td>\n",
       "      <td>1</td>\n",
       "      <td>12.0</td>\n",
       "    </tr>\n",
       "    <tr>\n",
       "      <th>Hat</th>\n",
       "      <td>Clothing</td>\n",
       "      <td>1</td>\n",
       "      <td>2.5</td>\n",
       "    </tr>\n",
       "  </tbody>\n",
       "</table>\n",
       "</div>"
      ],
      "text/plain": [
       "                       Category  Quantity  Weight (oz.)\n",
       "Item                                                   \n",
       "Pack                       Pack         1          33.0\n",
       "Tent                    Shelter         1          80.0\n",
       "Sleeping Bag              Sleep         1          20.0\n",
       "Toothbrush/Toothpaste    Health         1           2.0\n",
       "Sunscreen                Health         1           5.0\n",
       "Medical kit              Health         1           3.7\n",
       "Stove                   Kitchen         1          20.0\n",
       "Water Filter            Kitchen         1           1.8\n",
       "Water bottles           Kitchen         2          35.0\n",
       "Pack Liner              Utility         1           1.0\n",
       "Trekking Poles          Utility         1          16.0\n",
       "Shoes                  Clothing         1          12.0\n",
       "Hat                    Clothing         1           2.5"
      ]
     },
     "execution_count": 3,
     "metadata": {},
     "output_type": "execute_result"
    }
   ],
   "source": [
    "(df.drop(df[df['Quantity'] == 0].index).rename(columns={'Weight': 'Weight (oz.)'}))"
   ]
  },
  {
   "cell_type": "code",
   "execution_count": 4,
   "metadata": {
    "collapsed": false
   },
   "outputs": [
    {
     "data": {
      "text/plain": [
       "(13, 3)"
      ]
     },
     "execution_count": 4,
     "metadata": {},
     "output_type": "execute_result"
    }
   ],
   "source": [
    "(df.drop(df[df['Quantity'] == 0].index).rename(columns={'Weight': 'Weight (oz.)'}).shape)"
   ]
  },
  {
   "cell_type": "markdown",
   "metadata": {
    "collapsed": true
   },
   "source": [
    "### Quiz 2: Aggregation"
   ]
  },
  {
   "cell_type": "markdown",
   "metadata": {},
   "source": [
    "Use groupby along with agg to find the number of items in each 'Category' along with the weight of each 'Category'"
   ]
  },
  {
   "cell_type": "code",
   "execution_count": 5,
   "metadata": {
    "collapsed": false
   },
   "outputs": [
    {
     "name": "stdout",
     "output_type": "stream",
     "text": [
      "(17, 4)\n"
     ]
    },
    {
     "data": {
      "text/html": [
       "<div>\n",
       "<table border=\"1\" class=\"dataframe\">\n",
       "  <thead>\n",
       "    <tr style=\"text-align: right;\">\n",
       "      <th></th>\n",
       "      <th>Category</th>\n",
       "      <th>Item</th>\n",
       "      <th>Quantity</th>\n",
       "      <th>Weight (oz.)</th>\n",
       "    </tr>\n",
       "  </thead>\n",
       "  <tbody>\n",
       "    <tr>\n",
       "      <th>0</th>\n",
       "      <td>Pack</td>\n",
       "      <td>Pack</td>\n",
       "      <td>1</td>\n",
       "      <td>33.0</td>\n",
       "    </tr>\n",
       "    <tr>\n",
       "      <th>1</th>\n",
       "      <td>Shelter</td>\n",
       "      <td>Tent</td>\n",
       "      <td>1</td>\n",
       "      <td>80.0</td>\n",
       "    </tr>\n",
       "    <tr>\n",
       "      <th>2</th>\n",
       "      <td>Sleep</td>\n",
       "      <td>Sleeping Pad</td>\n",
       "      <td>1</td>\n",
       "      <td>27.0</td>\n",
       "    </tr>\n",
       "    <tr>\n",
       "      <th>3</th>\n",
       "      <td>Sleep</td>\n",
       "      <td>Sleeping Bag</td>\n",
       "      <td>1</td>\n",
       "      <td>20.0</td>\n",
       "    </tr>\n",
       "    <tr>\n",
       "      <th>4</th>\n",
       "      <td>Health</td>\n",
       "      <td>Toothbrush/Toothpaste</td>\n",
       "      <td>1</td>\n",
       "      <td>2.0</td>\n",
       "    </tr>\n",
       "    <tr>\n",
       "      <th>5</th>\n",
       "      <td>Health</td>\n",
       "      <td>Sunscreen</td>\n",
       "      <td>1</td>\n",
       "      <td>5.0</td>\n",
       "    </tr>\n",
       "    <tr>\n",
       "      <th>6</th>\n",
       "      <td>Health</td>\n",
       "      <td>Medical kit</td>\n",
       "      <td>1</td>\n",
       "      <td>3.7</td>\n",
       "    </tr>\n",
       "    <tr>\n",
       "      <th>7</th>\n",
       "      <td>Kitchen</td>\n",
       "      <td>Spoon</td>\n",
       "      <td>1</td>\n",
       "      <td>0.7</td>\n",
       "    </tr>\n",
       "    <tr>\n",
       "      <th>8</th>\n",
       "      <td>Kitchen</td>\n",
       "      <td>Stove</td>\n",
       "      <td>1</td>\n",
       "      <td>20.0</td>\n",
       "    </tr>\n",
       "    <tr>\n",
       "      <th>9</th>\n",
       "      <td>Kitchen</td>\n",
       "      <td>Water Filter</td>\n",
       "      <td>1</td>\n",
       "      <td>1.8</td>\n",
       "    </tr>\n",
       "    <tr>\n",
       "      <th>10</th>\n",
       "      <td>Kitchen</td>\n",
       "      <td>Water bottles</td>\n",
       "      <td>2</td>\n",
       "      <td>35.0</td>\n",
       "    </tr>\n",
       "    <tr>\n",
       "      <th>11</th>\n",
       "      <td>Utility</td>\n",
       "      <td>Pack Liner</td>\n",
       "      <td>1</td>\n",
       "      <td>1.0</td>\n",
       "    </tr>\n",
       "    <tr>\n",
       "      <th>12</th>\n",
       "      <td>Utility</td>\n",
       "      <td>Stuff Sack</td>\n",
       "      <td>1</td>\n",
       "      <td>1.0</td>\n",
       "    </tr>\n",
       "    <tr>\n",
       "      <th>13</th>\n",
       "      <td>Utility</td>\n",
       "      <td>Trekking Poles</td>\n",
       "      <td>1</td>\n",
       "      <td>16.0</td>\n",
       "    </tr>\n",
       "    <tr>\n",
       "      <th>14</th>\n",
       "      <td>Clothing</td>\n",
       "      <td>Rain Poncho</td>\n",
       "      <td>1</td>\n",
       "      <td>6.0</td>\n",
       "    </tr>\n",
       "    <tr>\n",
       "      <th>15</th>\n",
       "      <td>Clothing</td>\n",
       "      <td>Shoes</td>\n",
       "      <td>1</td>\n",
       "      <td>12.0</td>\n",
       "    </tr>\n",
       "    <tr>\n",
       "      <th>16</th>\n",
       "      <td>Clothing</td>\n",
       "      <td>Hat</td>\n",
       "      <td>1</td>\n",
       "      <td>2.5</td>\n",
       "    </tr>\n",
       "  </tbody>\n",
       "</table>\n",
       "</div>"
      ],
      "text/plain": [
       "    Category                   Item  Quantity  Weight (oz.)\n",
       "0       Pack                   Pack         1          33.0\n",
       "1    Shelter                   Tent         1          80.0\n",
       "2      Sleep           Sleeping Pad         1          27.0\n",
       "3      Sleep           Sleeping Bag         1          20.0\n",
       "4     Health  Toothbrush/Toothpaste         1           2.0\n",
       "5     Health              Sunscreen         1           5.0\n",
       "6     Health            Medical kit         1           3.7\n",
       "7    Kitchen                  Spoon         1           0.7\n",
       "8    Kitchen                  Stove         1          20.0\n",
       "9    Kitchen           Water Filter         1           1.8\n",
       "10   Kitchen          Water bottles         2          35.0\n",
       "11   Utility             Pack Liner         1           1.0\n",
       "12   Utility             Stuff Sack         1           1.0\n",
       "13   Utility         Trekking Poles         1          16.0\n",
       "14  Clothing            Rain Poncho         1           6.0\n",
       "15  Clothing                  Shoes         1          12.0\n",
       "16  Clothing                    Hat         1           2.5"
      ]
     },
     "execution_count": 5,
     "metadata": {},
     "output_type": "execute_result"
    }
   ],
   "source": [
    "df = pd.DataFrame([{'Item': 'Pack', 'Category': 'Pack', 'Quantity': 1, 'Weight (oz.)': 33.0},\n",
    "                   {'Item': 'Tent', 'Category': 'Shelter', 'Quantity': 1, 'Weight (oz.)': 80.0},\n",
    "                   {'Item': 'Sleeping Pad', 'Category': 'Sleep', 'Quantity': 1, 'Weight (oz.)': 27.0},\n",
    "                   {'Item': 'Sleeping Bag', 'Category': 'Sleep', 'Quantity': 1, 'Weight (oz.)': 20.0},\n",
    "                   {'Item': 'Toothbrush/Toothpaste', 'Category': 'Health', 'Quantity': 1, 'Weight (oz.)': 2.0},\n",
    "                   {'Item': 'Sunscreen', 'Category': 'Health', 'Quantity': 1, 'Weight (oz.)': 5.0},\n",
    "                   {'Item': 'Medical kit', 'Category': 'Health', 'Quantity': 1, 'Weight (oz.)': 3.7},\n",
    "                   {'Item': 'Spoon', 'Category': 'Kitchen', 'Quantity': 1, 'Weight (oz.)': 0.7},\n",
    "                   {'Item': 'Stove', 'Category': 'Kitchen', 'Quantity': 1, 'Weight (oz.)': 20.0},\n",
    "                   {'Item': 'Water Filter', 'Category': 'Kitchen', 'Quantity': 1, 'Weight (oz.)': 1.8},\n",
    "                   {'Item': 'Water bottles', 'Category': 'Kitchen', 'Quantity': 2, 'Weight (oz.)': 35.0},\n",
    "                   {'Item': 'Pack Liner', 'Category': 'Utility', 'Quantity': 1, 'Weight (oz.)': 1.0},\n",
    "                   {'Item': 'Stuff Sack', 'Category': 'Utility', 'Quantity': 1, 'Weight (oz.)': 1.0},\n",
    "                   {'Item': 'Trekking Poles', 'Category': 'Utility', 'Quantity': 1, 'Weight (oz.)': 16.0},\n",
    "                   {'Item': 'Rain Poncho', 'Category': 'Clothing', 'Quantity': 1, 'Weight (oz.)': 6.0},\n",
    "                   {'Item': 'Shoes', 'Category': 'Clothing', 'Quantity': 1, 'Weight (oz.)': 12.0},\n",
    "                   {'Item': 'Hat', 'Category': 'Clothing', 'Quantity': 1, 'Weight (oz.)': 2.5}\n",
    "                  ])\n",
    "print(df.shape)\n",
    "df"
   ]
  },
  {
   "cell_type": "code",
   "execution_count": 6,
   "metadata": {
    "collapsed": false
   },
   "outputs": [
    {
     "data": {
      "text/html": [
       "<div>\n",
       "<table border=\"1\" class=\"dataframe\">\n",
       "  <thead>\n",
       "    <tr style=\"text-align: right;\">\n",
       "      <th></th>\n",
       "      <th>Category</th>\n",
       "      <th>Quantity</th>\n",
       "      <th>Weight (oz.)</th>\n",
       "    </tr>\n",
       "    <tr>\n",
       "      <th>Item</th>\n",
       "      <th></th>\n",
       "      <th></th>\n",
       "      <th></th>\n",
       "    </tr>\n",
       "  </thead>\n",
       "  <tbody>\n",
       "    <tr>\n",
       "      <th>Pack</th>\n",
       "      <td>Pack</td>\n",
       "      <td>1</td>\n",
       "      <td>33.0</td>\n",
       "    </tr>\n",
       "    <tr>\n",
       "      <th>Tent</th>\n",
       "      <td>Shelter</td>\n",
       "      <td>1</td>\n",
       "      <td>80.0</td>\n",
       "    </tr>\n",
       "    <tr>\n",
       "      <th>Sleeping Pad</th>\n",
       "      <td>Sleep</td>\n",
       "      <td>1</td>\n",
       "      <td>27.0</td>\n",
       "    </tr>\n",
       "    <tr>\n",
       "      <th>Sleeping Bag</th>\n",
       "      <td>Sleep</td>\n",
       "      <td>1</td>\n",
       "      <td>20.0</td>\n",
       "    </tr>\n",
       "    <tr>\n",
       "      <th>Toothbrush/Toothpaste</th>\n",
       "      <td>Health</td>\n",
       "      <td>1</td>\n",
       "      <td>2.0</td>\n",
       "    </tr>\n",
       "    <tr>\n",
       "      <th>Sunscreen</th>\n",
       "      <td>Health</td>\n",
       "      <td>1</td>\n",
       "      <td>5.0</td>\n",
       "    </tr>\n",
       "    <tr>\n",
       "      <th>Medical kit</th>\n",
       "      <td>Health</td>\n",
       "      <td>1</td>\n",
       "      <td>3.7</td>\n",
       "    </tr>\n",
       "    <tr>\n",
       "      <th>Spoon</th>\n",
       "      <td>Kitchen</td>\n",
       "      <td>1</td>\n",
       "      <td>0.7</td>\n",
       "    </tr>\n",
       "    <tr>\n",
       "      <th>Stove</th>\n",
       "      <td>Kitchen</td>\n",
       "      <td>1</td>\n",
       "      <td>20.0</td>\n",
       "    </tr>\n",
       "    <tr>\n",
       "      <th>Water Filter</th>\n",
       "      <td>Kitchen</td>\n",
       "      <td>1</td>\n",
       "      <td>1.8</td>\n",
       "    </tr>\n",
       "    <tr>\n",
       "      <th>Water bottles</th>\n",
       "      <td>Kitchen</td>\n",
       "      <td>2</td>\n",
       "      <td>35.0</td>\n",
       "    </tr>\n",
       "    <tr>\n",
       "      <th>Pack Liner</th>\n",
       "      <td>Utility</td>\n",
       "      <td>1</td>\n",
       "      <td>1.0</td>\n",
       "    </tr>\n",
       "    <tr>\n",
       "      <th>Stuff Sack</th>\n",
       "      <td>Utility</td>\n",
       "      <td>1</td>\n",
       "      <td>1.0</td>\n",
       "    </tr>\n",
       "    <tr>\n",
       "      <th>Trekking Poles</th>\n",
       "      <td>Utility</td>\n",
       "      <td>1</td>\n",
       "      <td>16.0</td>\n",
       "    </tr>\n",
       "    <tr>\n",
       "      <th>Rain Poncho</th>\n",
       "      <td>Clothing</td>\n",
       "      <td>1</td>\n",
       "      <td>6.0</td>\n",
       "    </tr>\n",
       "    <tr>\n",
       "      <th>Shoes</th>\n",
       "      <td>Clothing</td>\n",
       "      <td>1</td>\n",
       "      <td>12.0</td>\n",
       "    </tr>\n",
       "    <tr>\n",
       "      <th>Hat</th>\n",
       "      <td>Clothing</td>\n",
       "      <td>1</td>\n",
       "      <td>2.5</td>\n",
       "    </tr>\n",
       "  </tbody>\n",
       "</table>\n",
       "</div>"
      ],
      "text/plain": [
       "                       Category  Quantity  Weight (oz.)\n",
       "Item                                                   \n",
       "Pack                       Pack         1          33.0\n",
       "Tent                    Shelter         1          80.0\n",
       "Sleeping Pad              Sleep         1          27.0\n",
       "Sleeping Bag              Sleep         1          20.0\n",
       "Toothbrush/Toothpaste    Health         1           2.0\n",
       "Sunscreen                Health         1           5.0\n",
       "Medical kit              Health         1           3.7\n",
       "Spoon                   Kitchen         1           0.7\n",
       "Stove                   Kitchen         1          20.0\n",
       "Water Filter            Kitchen         1           1.8\n",
       "Water bottles           Kitchen         2          35.0\n",
       "Pack Liner              Utility         1           1.0\n",
       "Stuff Sack              Utility         1           1.0\n",
       "Trekking Poles          Utility         1          16.0\n",
       "Rain Poncho            Clothing         1           6.0\n",
       "Shoes                  Clothing         1          12.0\n",
       "Hat                    Clothing         1           2.5"
      ]
     },
     "execution_count": 6,
     "metadata": {},
     "output_type": "execute_result"
    }
   ],
   "source": [
    "df=df.set_index('Item')\n",
    "df"
   ]
  },
  {
   "cell_type": "markdown",
   "metadata": {},
   "source": [
    "##### agg('sum')"
   ]
  },
  {
   "cell_type": "code",
   "execution_count": 7,
   "metadata": {
    "collapsed": false
   },
   "outputs": [
    {
     "data": {
      "text/html": [
       "<div>\n",
       "<table border=\"1\" class=\"dataframe\">\n",
       "  <thead>\n",
       "    <tr style=\"text-align: right;\">\n",
       "      <th></th>\n",
       "      <th>Quantity</th>\n",
       "      <th>Weight (oz.)</th>\n",
       "    </tr>\n",
       "    <tr>\n",
       "      <th>Category</th>\n",
       "      <th></th>\n",
       "      <th></th>\n",
       "    </tr>\n",
       "  </thead>\n",
       "  <tbody>\n",
       "    <tr>\n",
       "      <th>Clothing</th>\n",
       "      <td>3</td>\n",
       "      <td>20.5</td>\n",
       "    </tr>\n",
       "    <tr>\n",
       "      <th>Health</th>\n",
       "      <td>3</td>\n",
       "      <td>10.7</td>\n",
       "    </tr>\n",
       "    <tr>\n",
       "      <th>Kitchen</th>\n",
       "      <td>5</td>\n",
       "      <td>57.5</td>\n",
       "    </tr>\n",
       "    <tr>\n",
       "      <th>Pack</th>\n",
       "      <td>1</td>\n",
       "      <td>33.0</td>\n",
       "    </tr>\n",
       "    <tr>\n",
       "      <th>Shelter</th>\n",
       "      <td>1</td>\n",
       "      <td>80.0</td>\n",
       "    </tr>\n",
       "    <tr>\n",
       "      <th>Sleep</th>\n",
       "      <td>2</td>\n",
       "      <td>47.0</td>\n",
       "    </tr>\n",
       "    <tr>\n",
       "      <th>Utility</th>\n",
       "      <td>3</td>\n",
       "      <td>18.0</td>\n",
       "    </tr>\n",
       "  </tbody>\n",
       "</table>\n",
       "</div>"
      ],
      "text/plain": [
       "          Quantity  Weight (oz.)\n",
       "Category                        \n",
       "Clothing         3          20.5\n",
       "Health           3          10.7\n",
       "Kitchen          5          57.5\n",
       "Pack             1          33.0\n",
       "Shelter          1          80.0\n",
       "Sleep            2          47.0\n",
       "Utility          3          18.0"
      ]
     },
     "execution_count": 7,
     "metadata": {},
     "output_type": "execute_result"
    }
   ],
   "source": [
    "df.groupby('Category').agg('sum')"
   ]
  },
  {
   "cell_type": "markdown",
   "metadata": {},
   "source": [
    "##### agg(['sum'])"
   ]
  },
  {
   "cell_type": "code",
   "execution_count": 8,
   "metadata": {
    "collapsed": false
   },
   "outputs": [
    {
     "data": {
      "text/html": [
       "<div>\n",
       "<table border=\"1\" class=\"dataframe\">\n",
       "  <thead>\n",
       "    <tr>\n",
       "      <th></th>\n",
       "      <th>Quantity</th>\n",
       "      <th>Weight (oz.)</th>\n",
       "    </tr>\n",
       "    <tr>\n",
       "      <th></th>\n",
       "      <th>sum</th>\n",
       "      <th>sum</th>\n",
       "    </tr>\n",
       "    <tr>\n",
       "      <th>Category</th>\n",
       "      <th></th>\n",
       "      <th></th>\n",
       "    </tr>\n",
       "  </thead>\n",
       "  <tbody>\n",
       "    <tr>\n",
       "      <th>Clothing</th>\n",
       "      <td>3</td>\n",
       "      <td>20.5</td>\n",
       "    </tr>\n",
       "    <tr>\n",
       "      <th>Health</th>\n",
       "      <td>3</td>\n",
       "      <td>10.7</td>\n",
       "    </tr>\n",
       "    <tr>\n",
       "      <th>Kitchen</th>\n",
       "      <td>5</td>\n",
       "      <td>57.5</td>\n",
       "    </tr>\n",
       "    <tr>\n",
       "      <th>Pack</th>\n",
       "      <td>1</td>\n",
       "      <td>33.0</td>\n",
       "    </tr>\n",
       "    <tr>\n",
       "      <th>Shelter</th>\n",
       "      <td>1</td>\n",
       "      <td>80.0</td>\n",
       "    </tr>\n",
       "    <tr>\n",
       "      <th>Sleep</th>\n",
       "      <td>2</td>\n",
       "      <td>47.0</td>\n",
       "    </tr>\n",
       "    <tr>\n",
       "      <th>Utility</th>\n",
       "      <td>3</td>\n",
       "      <td>18.0</td>\n",
       "    </tr>\n",
       "  </tbody>\n",
       "</table>\n",
       "</div>"
      ],
      "text/plain": [
       "         Quantity Weight (oz.)\n",
       "              sum          sum\n",
       "Category                      \n",
       "Clothing        3         20.5\n",
       "Health          3         10.7\n",
       "Kitchen         5         57.5\n",
       "Pack            1         33.0\n",
       "Shelter         1         80.0\n",
       "Sleep           2         47.0\n",
       "Utility         3         18.0"
      ]
     },
     "execution_count": 8,
     "metadata": {},
     "output_type": "execute_result"
    }
   ],
   "source": [
    "df.groupby('Category').agg(['sum'])"
   ]
  },
  {
   "cell_type": "markdown",
   "metadata": {},
   "source": [
    "### Quiz 3. Ordinal scale"
   ]
  },
  {
   "cell_type": "markdown",
   "metadata": {},
   "source": [
    "Casting the series to categorical with the ordering Low < Medium < High"
   ]
  },
  {
   "cell_type": "code",
   "execution_count": 9,
   "metadata": {
    "collapsed": false
   },
   "outputs": [],
   "source": [
    "s=pd.Series(['Low','Low','High','Medium','Low','High','Low'])"
   ]
  },
  {
   "cell_type": "code",
   "execution_count": 10,
   "metadata": {
    "collapsed": false
   },
   "outputs": [
    {
     "data": {
      "text/plain": [
       "0       Low\n",
       "1       Low\n",
       "2      High\n",
       "3    Medium\n",
       "4       Low\n",
       "5      High\n",
       "6       Low\n",
       "dtype: category\n",
       "Categories (3, object): [Low < Medium < High]"
      ]
     },
     "execution_count": 10,
     "metadata": {},
     "output_type": "execute_result"
    }
   ],
   "source": [
    "s.astype('category',categories=['Low', 'Medium', 'High'],ordered=True)"
   ]
  },
  {
   "cell_type": "markdown",
   "metadata": {},
   "source": [
    "Suppose we have a series that holds height data for jacket wearers. Use pd.cut to bin this data into 3 bins"
   ]
  },
  {
   "cell_type": "code",
   "execution_count": 11,
   "metadata": {
    "collapsed": true
   },
   "outputs": [],
   "source": [
    "s=pd.Series([168,180,174,190,170,185,179,181,175,169,182,177,180,171])"
   ]
  },
  {
   "cell_type": "code",
   "execution_count": 12,
   "metadata": {
    "collapsed": false
   },
   "outputs": [
    {
     "data": {
      "text/plain": [
       "0     (167.978, 175.333]\n",
       "1     (175.333, 182.667]\n",
       "2     (167.978, 175.333]\n",
       "3         (182.667, 190]\n",
       "4     (167.978, 175.333]\n",
       "5         (182.667, 190]\n",
       "6     (175.333, 182.667]\n",
       "7     (175.333, 182.667]\n",
       "8     (167.978, 175.333]\n",
       "9     (167.978, 175.333]\n",
       "10    (175.333, 182.667]\n",
       "11    (175.333, 182.667]\n",
       "12    (175.333, 182.667]\n",
       "13    (167.978, 175.333]\n",
       "dtype: category\n",
       "Categories (3, object): [(167.978, 175.333] < (175.333, 182.667] < (182.667, 190]]"
      ]
     },
     "execution_count": 12,
     "metadata": {},
     "output_type": "execute_result"
    }
   ],
   "source": [
    "pd.cut(s,3)"
   ]
  },
  {
   "cell_type": "code",
   "execution_count": 13,
   "metadata": {
    "collapsed": false
   },
   "outputs": [
    {
     "data": {
      "text/plain": [
       "0      Small\n",
       "1     Medium\n",
       "2      Small\n",
       "3      Large\n",
       "4      Small\n",
       "5      Large\n",
       "6     Medium\n",
       "7     Medium\n",
       "8      Small\n",
       "9      Small\n",
       "10    Medium\n",
       "11    Medium\n",
       "12    Medium\n",
       "13     Small\n",
       "dtype: category\n",
       "Categories (3, object): [Small < Medium < Large]"
      ]
     },
     "execution_count": 13,
     "metadata": {},
     "output_type": "execute_result"
    }
   ],
   "source": [
    "pd.cut(s, 3, labels=['Small', 'Medium', 'Large'])"
   ]
  },
  {
   "cell_type": "markdown",
   "metadata": {},
   "source": [
    "### Quiz 4. Pivot Table"
   ]
  },
  {
   "cell_type": "markdown",
   "metadata": {},
   "source": [
    "Suppose we have a DataFrame with price and ratings for different bikes, broken down by manufacturer and type of bicycle.    \n",
    "Create a pivot table that shows the mean price and mean rating for every 'Manufacturer'/'Bike type' combination"
   ]
  },
  {
   "cell_type": "code",
   "execution_count": 14,
   "metadata": {
    "collapsed": false
   },
   "outputs": [
    {
     "data": {
      "text/html": [
       "<div>\n",
       "<table border=\"1\" class=\"dataframe\">\n",
       "  <thead>\n",
       "    <tr style=\"text-align: right;\">\n",
       "      <th></th>\n",
       "      <th>Bike Type</th>\n",
       "      <th>Manufacturer</th>\n",
       "      <th>Price</th>\n",
       "      <th>Rating</th>\n",
       "    </tr>\n",
       "  </thead>\n",
       "  <tbody>\n",
       "    <tr>\n",
       "      <th>0</th>\n",
       "      <td>Mountain</td>\n",
       "      <td>A</td>\n",
       "      <td>400</td>\n",
       "      <td>8</td>\n",
       "    </tr>\n",
       "    <tr>\n",
       "      <th>1</th>\n",
       "      <td>Mountain</td>\n",
       "      <td>A</td>\n",
       "      <td>600</td>\n",
       "      <td>9</td>\n",
       "    </tr>\n",
       "    <tr>\n",
       "      <th>2</th>\n",
       "      <td>Road</td>\n",
       "      <td>A</td>\n",
       "      <td>400</td>\n",
       "      <td>4</td>\n",
       "    </tr>\n",
       "    <tr>\n",
       "      <th>3</th>\n",
       "      <td>Road</td>\n",
       "      <td>A</td>\n",
       "      <td>450</td>\n",
       "      <td>4</td>\n",
       "    </tr>\n",
       "    <tr>\n",
       "      <th>4</th>\n",
       "      <td>Mountain</td>\n",
       "      <td>B</td>\n",
       "      <td>300</td>\n",
       "      <td>6</td>\n",
       "    </tr>\n",
       "    <tr>\n",
       "      <th>5</th>\n",
       "      <td>Mountain</td>\n",
       "      <td>B</td>\n",
       "      <td>250</td>\n",
       "      <td>5</td>\n",
       "    </tr>\n",
       "    <tr>\n",
       "      <th>6</th>\n",
       "      <td>Road</td>\n",
       "      <td>B</td>\n",
       "      <td>400</td>\n",
       "      <td>4</td>\n",
       "    </tr>\n",
       "    <tr>\n",
       "      <th>7</th>\n",
       "      <td>Road</td>\n",
       "      <td>B</td>\n",
       "      <td>500</td>\n",
       "      <td>6</td>\n",
       "    </tr>\n",
       "    <tr>\n",
       "      <th>8</th>\n",
       "      <td>Mountain</td>\n",
       "      <td>C</td>\n",
       "      <td>400</td>\n",
       "      <td>5</td>\n",
       "    </tr>\n",
       "    <tr>\n",
       "      <th>9</th>\n",
       "      <td>Mountain</td>\n",
       "      <td>C</td>\n",
       "      <td>500</td>\n",
       "      <td>6</td>\n",
       "    </tr>\n",
       "    <tr>\n",
       "      <th>10</th>\n",
       "      <td>Road</td>\n",
       "      <td>C</td>\n",
       "      <td>800</td>\n",
       "      <td>9</td>\n",
       "    </tr>\n",
       "    <tr>\n",
       "      <th>11</th>\n",
       "      <td>Road</td>\n",
       "      <td>C</td>\n",
       "      <td>950</td>\n",
       "      <td>10</td>\n",
       "    </tr>\n",
       "  </tbody>\n",
       "</table>\n",
       "</div>"
      ],
      "text/plain": [
       "   Bike Type Manufacturer  Price  Rating\n",
       "0   Mountain            A    400       8\n",
       "1   Mountain            A    600       9\n",
       "2       Road            A    400       4\n",
       "3       Road            A    450       4\n",
       "4   Mountain            B    300       6\n",
       "5   Mountain            B    250       5\n",
       "6       Road            B    400       4\n",
       "7       Road            B    500       6\n",
       "8   Mountain            C    400       5\n",
       "9   Mountain            C    500       6\n",
       "10      Road            C    800       9\n",
       "11      Road            C    950      10"
      ]
     },
     "execution_count": 14,
     "metadata": {},
     "output_type": "execute_result"
    }
   ],
   "source": [
    "df=pd.DataFrame([\n",
    "        {'Bike Type': 'Mountain', 'Manufacturer': 'A', 'Price': 400,'Rating':8},\n",
    "        {'Bike Type': 'Mountain', 'Manufacturer': 'A', 'Price': 600,'Rating':9},\n",
    "        {'Bike Type': 'Road', 'Manufacturer': 'A', 'Price': 400,'Rating':4},\n",
    "        {'Bike Type': 'Road', 'Manufacturer': 'A', 'Price': 450,'Rating':4},\n",
    "        {'Bike Type': 'Mountain', 'Manufacturer': 'B', 'Price': 300,'Rating':6},\n",
    "        {'Bike Type': 'Mountain', 'Manufacturer': 'B', 'Price': 250,'Rating':5},\n",
    "        {'Bike Type': 'Road', 'Manufacturer': 'B', 'Price': 400,'Rating':4},\n",
    "        {'Bike Type': 'Road', 'Manufacturer': 'B', 'Price': 500,'Rating':6},\n",
    "        {'Bike Type': 'Mountain', 'Manufacturer': 'C', 'Price': 400,'Rating':5},\n",
    "        {'Bike Type': 'Mountain', 'Manufacturer': 'C', 'Price': 500,'Rating':6},\n",
    "        {'Bike Type': 'Road', 'Manufacturer': 'C', 'Price': 800,'Rating':9},\n",
    "        {'Bike Type': 'Road', 'Manufacturer': 'C', 'Price': 950,'Rating':10}\n",
    "    ])\n",
    "df"
   ]
  },
  {
   "cell_type": "code",
   "execution_count": 15,
   "metadata": {
    "collapsed": false
   },
   "outputs": [
    {
     "data": {
      "text/html": [
       "<div>\n",
       "<table border=\"1\" class=\"dataframe\">\n",
       "  <thead>\n",
       "    <tr>\n",
       "      <th></th>\n",
       "      <th colspan=\"2\" halign=\"left\">Price</th>\n",
       "      <th colspan=\"2\" halign=\"left\">Rating</th>\n",
       "    </tr>\n",
       "    <tr>\n",
       "      <th>Bike Type</th>\n",
       "      <th>Mountain</th>\n",
       "      <th>Road</th>\n",
       "      <th>Mountain</th>\n",
       "      <th>Road</th>\n",
       "    </tr>\n",
       "    <tr>\n",
       "      <th>Manufacturer</th>\n",
       "      <th></th>\n",
       "      <th></th>\n",
       "      <th></th>\n",
       "      <th></th>\n",
       "    </tr>\n",
       "  </thead>\n",
       "  <tbody>\n",
       "    <tr>\n",
       "      <th>A</th>\n",
       "      <td>500.0</td>\n",
       "      <td>425.0</td>\n",
       "      <td>8.5</td>\n",
       "      <td>4.0</td>\n",
       "    </tr>\n",
       "    <tr>\n",
       "      <th>B</th>\n",
       "      <td>275.0</td>\n",
       "      <td>450.0</td>\n",
       "      <td>5.5</td>\n",
       "      <td>5.0</td>\n",
       "    </tr>\n",
       "    <tr>\n",
       "      <th>C</th>\n",
       "      <td>450.0</td>\n",
       "      <td>875.0</td>\n",
       "      <td>5.5</td>\n",
       "      <td>9.5</td>\n",
       "    </tr>\n",
       "  </tbody>\n",
       "</table>\n",
       "</div>"
      ],
      "text/plain": [
       "                Price          Rating     \n",
       "Bike Type    Mountain   Road Mountain Road\n",
       "Manufacturer                              \n",
       "A               500.0  425.0      8.5  4.0\n",
       "B               275.0  450.0      5.5  5.0\n",
       "C               450.0  875.0      5.5  9.5"
      ]
     },
     "execution_count": 15,
     "metadata": {},
     "output_type": "execute_result"
    }
   ],
   "source": [
    "import numpy as np\n",
    "df.pivot_table(values=['Price','Rating'], index='Manufacturer', columns='Bike Type', aggfunc=np.mean)"
   ]
  },
  {
   "cell_type": "code",
   "execution_count": 16,
   "metadata": {
    "collapsed": false
   },
   "outputs": [
    {
     "name": "stdout",
     "output_type": "stream",
     "text": [
      "                        Price  Rating\n",
      "Manufacturer Bike Type               \n",
      "A            Mountain   500.0     8.5\n",
      "             Road       425.0     4.0\n",
      "B            Mountain   275.0     5.5\n",
      "             Road       450.0     5.0\n",
      "C            Mountain   450.0     5.5\n",
      "             Road       875.0     9.5\n"
     ]
    }
   ],
   "source": [
    "print(pd.pivot_table(df, index=['Manufacturer','Bike Type']))"
   ]
  }
 ],
 "metadata": {
  "kernelspec": {
   "display_name": "Python 3",
   "language": "python",
   "name": "python3"
  },
  "language_info": {
   "codemirror_mode": {
    "name": "ipython",
    "version": 3
   },
   "file_extension": ".py",
   "mimetype": "text/x-python",
   "name": "python",
   "nbconvert_exporter": "python",
   "pygments_lexer": "ipython3",
   "version": "3.5.2"
  }
 },
 "nbformat": 4,
 "nbformat_minor": 1
}
