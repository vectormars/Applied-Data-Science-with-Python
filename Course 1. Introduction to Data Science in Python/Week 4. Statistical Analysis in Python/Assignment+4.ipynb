{
 "cells": [
  {
   "cell_type": "markdown",
   "metadata": {},
   "source": [
    "---\n",
    "\n",
    "_You are currently looking at **version 1.1** of this notebook. To download notebooks and datafiles, as well as get help on Jupyter notebooks in the Coursera platform, visit the [Jupyter Notebook FAQ](https://www.coursera.org/learn/python-data-analysis/resources/0dhYG) course resource._\n",
    "\n",
    "---"
   ]
  },
  {
   "cell_type": "code",
   "execution_count": 1,
   "metadata": {
    "collapsed": true
   },
   "outputs": [],
   "source": [
    "import pandas as pd\n",
    "import numpy as np\n",
    "from scipy.stats import ttest_ind"
   ]
  },
  {
   "cell_type": "markdown",
   "metadata": {},
   "source": [
    "# Assignment 4 - Hypothesis Testing\n",
    "This assignment requires more individual learning than previous assignments - you are encouraged to check out the [pandas documentation](http://pandas.pydata.org/pandas-docs/stable/) to find functions or methods you might not have used yet, or ask questions on [Stack Overflow](http://stackoverflow.com/) and tag them as pandas and python related. And of course, the discussion forums are open for interaction with your peers and the course staff.\n",
    "\n",
    "Definitions:\n",
    "* A _quarter_ is a specific three month period, Q1 is January through March, Q2 is April through June, Q3 is July through September, Q4 is October through December.\n",
    "* A _recession_ is defined as starting with two consecutive quarters of GDP decline, and ending with two consecutive quarters of GDP growth.\n",
    "* A _recession bottom_ is the quarter within a recession which had the lowest GDP.\n",
    "* A _university town_ is a city which has a high percentage of university students compared to the total population of the city.\n",
    "\n",
    "**Hypothesis**: University towns have their mean housing prices less effected by recessions. Run a t-test to compare the ratio of the mean price of houses in university towns the quarter before the recession starts compared to the recession bottom. (`price_ratio=quarter_before_recession/recession_bottom`)\n",
    "\n",
    "The following data files are available for this assignment:\n",
    "* From the [Zillow research data site](http://www.zillow.com/research/data/) there is housing data for the United States. In particular the datafile for [all homes at a city level](http://files.zillowstatic.com/research/public/City/City_Zhvi_AllHomes.csv), ```City_Zhvi_AllHomes.csv```, has median home sale prices at a fine grained level.\n",
    "* From the Wikipedia page on college towns is a list of [university towns in the United States](https://en.wikipedia.org/wiki/List_of_college_towns#College_towns_in_the_United_States) which has been copy and pasted into the file ```university_towns.txt```.\n",
    "* From Bureau of Economic Analysis, US Department of Commerce, the [GDP over time](http://www.bea.gov/national/index.htm#gdp) of the United States in current dollars (use the chained value in 2009 dollars), in quarterly intervals, in the file ```gdplev.xls```. For this assignment, only look at GDP data from the first quarter of 2000 onward.\n",
    "\n",
    "Each function in this assignment below is worth 10%, with the exception of ```run_ttest()```, which is worth 50%."
   ]
  },
  {
   "cell_type": "code",
   "execution_count": 2,
   "metadata": {
    "collapsed": false
   },
   "outputs": [],
   "source": [
    "# Use this dictionary to map state names to two letter acronyms\n",
    "states = {'OH': 'Ohio', 'KY': 'Kentucky', 'AS': 'American Samoa', 'NV': 'Nevada', 'WY': 'Wyoming', 'NA': 'National', 'AL': 'Alabama', 'MD': 'Maryland', 'AK': 'Alaska', 'UT': 'Utah', 'OR': 'Oregon', 'MT': 'Montana', 'IL': 'Illinois', 'TN': 'Tennessee', 'DC': 'District of Columbia', 'VT': 'Vermont', 'ID': 'Idaho', 'AR': 'Arkansas', 'ME': 'Maine', 'WA': 'Washington', 'HI': 'Hawaii', 'WI': 'Wisconsin', 'MI': 'Michigan', 'IN': 'Indiana', 'NJ': 'New Jersey', 'AZ': 'Arizona', 'GU': 'Guam', 'MS': 'Mississippi', 'PR': 'Puerto Rico', 'NC': 'North Carolina', 'TX': 'Texas', 'SD': 'South Dakota', 'MP': 'Northern Mariana Islands', 'IA': 'Iowa', 'MO': 'Missouri', 'CT': 'Connecticut', 'WV': 'West Virginia', 'SC': 'South Carolina', 'LA': 'Louisiana', 'KS': 'Kansas', 'NY': 'New York', 'NE': 'Nebraska', 'OK': 'Oklahoma', 'FL': 'Florida', 'CA': 'California', 'CO': 'Colorado', 'PA': 'Pennsylvania', 'DE': 'Delaware', 'NM': 'New Mexico', 'RI': 'Rhode Island', 'MN': 'Minnesota', 'VI': 'Virgin Islands', 'NH': 'New Hampshire', 'MA': 'Massachusetts', 'GA': 'Georgia', 'ND': 'North Dakota', 'VA': 'Virginia'}"
   ]
  },
  {
   "cell_type": "code",
   "execution_count": 3,
   "metadata": {
    "collapsed": false
   },
   "outputs": [
    {
     "data": {
      "text/plain": [
       "57"
      ]
     },
     "execution_count": 3,
     "metadata": {},
     "output_type": "execute_result"
    }
   ],
   "source": [
    "len(states)"
   ]
  },
  {
   "cell_type": "markdown",
   "metadata": {},
   "source": [
    "## Question 1"
   ]
  },
  {
   "cell_type": "code",
   "execution_count": 3,
   "metadata": {
    "collapsed": false
   },
   "outputs": [
    {
     "data": {
      "text/html": [
       "<div>\n",
       "<table border=\"1\" class=\"dataframe\">\n",
       "  <thead>\n",
       "    <tr style=\"text-align: right;\">\n",
       "      <th></th>\n",
       "      <th>0</th>\n",
       "    </tr>\n",
       "  </thead>\n",
       "  <tbody>\n",
       "    <tr>\n",
       "      <th>0</th>\n",
       "      <td>Alabama[edit]</td>\n",
       "    </tr>\n",
       "    <tr>\n",
       "      <th>1</th>\n",
       "      <td>Auburn (Auburn University)[1]</td>\n",
       "    </tr>\n",
       "    <tr>\n",
       "      <th>2</th>\n",
       "      <td>Florence (University of North Alabama)</td>\n",
       "    </tr>\n",
       "    <tr>\n",
       "      <th>3</th>\n",
       "      <td>Jacksonville (Jacksonville State University)[2]</td>\n",
       "    </tr>\n",
       "    <tr>\n",
       "      <th>4</th>\n",
       "      <td>Livingston (University of West Alabama)[2]</td>\n",
       "    </tr>\n",
       "    <tr>\n",
       "      <th>5</th>\n",
       "      <td>Montevallo (University of Montevallo)[2]</td>\n",
       "    </tr>\n",
       "    <tr>\n",
       "      <th>6</th>\n",
       "      <td>Troy (Troy University)[2]</td>\n",
       "    </tr>\n",
       "    <tr>\n",
       "      <th>7</th>\n",
       "      <td>Tuscaloosa (University of Alabama, Stillman Co...</td>\n",
       "    </tr>\n",
       "    <tr>\n",
       "      <th>8</th>\n",
       "      <td>Tuskegee (Tuskegee University)[5]</td>\n",
       "    </tr>\n",
       "    <tr>\n",
       "      <th>9</th>\n",
       "      <td>Alaska[edit]</td>\n",
       "    </tr>\n",
       "  </tbody>\n",
       "</table>\n",
       "</div>"
      ],
      "text/plain": [
       "                                                   0\n",
       "0                                      Alabama[edit]\n",
       "1                      Auburn (Auburn University)[1]\n",
       "2             Florence (University of North Alabama)\n",
       "3    Jacksonville (Jacksonville State University)[2]\n",
       "4         Livingston (University of West Alabama)[2]\n",
       "5           Montevallo (University of Montevallo)[2]\n",
       "6                          Troy (Troy University)[2]\n",
       "7  Tuscaloosa (University of Alabama, Stillman Co...\n",
       "8                  Tuskegee (Tuskegee University)[5]\n",
       "9                                       Alaska[edit]"
      ]
     },
     "execution_count": 3,
     "metadata": {},
     "output_type": "execute_result"
    }
   ],
   "source": [
    "UT=pd.read_table('university_towns.txt', header = None)\n",
    "UT.head(10)"
   ]
  },
  {
   "cell_type": "code",
   "execution_count": 4,
   "metadata": {
    "collapsed": false
   },
   "outputs": [
    {
     "name": "stdout",
     "output_type": "stream",
     "text": [
      "Type  <class 'pandas.core.frame.DataFrame'>\n",
      "Length  50\n"
     ]
    }
   ],
   "source": [
    "UT_State = UT.copy()\n",
    "UT_State = UT_State[UT_State[0].str.contains(r\"\\[edit\\]\")]\n"
   ]
  },
  {
   "cell_type": "code",
   "execution_count": 5,
   "metadata": {
    "collapsed": false
   },
   "outputs": [
    {
     "data": {
      "text/plain": [
       "50"
      ]
     },
     "execution_count": 5,
     "metadata": {},
     "output_type": "execute_result"
    }
   ],
   "source": [
    "UT_State_List = UT_State[0].str.replace(r\"\\[.*\\]\",\"\").str.strip().tolist()\n",
    "len(UT_State_List)"
   ]
  },
  {
   "cell_type": "code",
   "execution_count": 7,
   "metadata": {
    "collapsed": false
   },
   "outputs": [
    {
     "name": "stdout",
     "output_type": "stream",
     "text": [
      "Type  <class 'pandas.core.frame.DataFrame'>\n",
      "Length  567\n"
     ]
    },
    {
     "data": {
      "text/html": [
       "<div>\n",
       "<table border=\"1\" class=\"dataframe\">\n",
       "  <thead>\n",
       "    <tr style=\"text-align: right;\">\n",
       "      <th></th>\n",
       "      <th>0</th>\n",
       "    </tr>\n",
       "  </thead>\n",
       "  <tbody>\n",
       "    <tr>\n",
       "      <th>0</th>\n",
       "      <td>Alabama</td>\n",
       "    </tr>\n",
       "    <tr>\n",
       "      <th>1</th>\n",
       "      <td>Auburn</td>\n",
       "    </tr>\n",
       "    <tr>\n",
       "      <th>2</th>\n",
       "      <td>Florence</td>\n",
       "    </tr>\n",
       "    <tr>\n",
       "      <th>3</th>\n",
       "      <td>Jacksonville</td>\n",
       "    </tr>\n",
       "    <tr>\n",
       "      <th>4</th>\n",
       "      <td>Livingston</td>\n",
       "    </tr>\n",
       "    <tr>\n",
       "      <th>5</th>\n",
       "      <td>Montevallo</td>\n",
       "    </tr>\n",
       "    <tr>\n",
       "      <th>6</th>\n",
       "      <td>Troy</td>\n",
       "    </tr>\n",
       "    <tr>\n",
       "      <th>7</th>\n",
       "      <td>Tuscaloosa</td>\n",
       "    </tr>\n",
       "    <tr>\n",
       "      <th>8</th>\n",
       "      <td>Tuskegee</td>\n",
       "    </tr>\n",
       "    <tr>\n",
       "      <th>9</th>\n",
       "      <td>Alaska</td>\n",
       "    </tr>\n",
       "  </tbody>\n",
       "</table>\n",
       "</div>"
      ],
      "text/plain": [
       "              0\n",
       "0       Alabama\n",
       "1        Auburn\n",
       "2      Florence\n",
       "3  Jacksonville\n",
       "4    Livingston\n",
       "5    Montevallo\n",
       "6          Troy\n",
       "7    Tuscaloosa\n",
       "8      Tuskegee\n",
       "9        Alaska"
      ]
     },
     "execution_count": 7,
     "metadata": {},
     "output_type": "execute_result"
    }
   ],
   "source": [
    "UT[0]=UT[0].str.replace(r\"\\(.*\\)\",\"\").str.replace(r\"\\[.*\\]\",\"\").str.strip()\n",
    "print(\"Type \",type(UT))\n",
    "print(\"Length \",len(UT))\n",
    "UT.head(10)"
   ]
  },
  {
   "cell_type": "code",
   "execution_count": 8,
   "metadata": {
    "collapsed": false
   },
   "outputs": [
    {
     "data": {
      "text/plain": [
       "'Alabama'"
      ]
     },
     "execution_count": 8,
     "metadata": {},
     "output_type": "execute_result"
    }
   ],
   "source": [
    "UT.loc[0,0]"
   ]
  },
  {
   "cell_type": "code",
   "execution_count": 9,
   "metadata": {
    "collapsed": false
   },
   "outputs": [
    {
     "data": {
      "text/plain": [
       "True"
      ]
     },
     "execution_count": 9,
     "metadata": {},
     "output_type": "execute_result"
    }
   ],
   "source": [
    "UT.loc[0,0] in UT_State_List"
   ]
  },
  {
   "cell_type": "code",
   "execution_count": 10,
   "metadata": {
    "collapsed": false
   },
   "outputs": [],
   "source": [
    "data = []\n",
    "\n",
    "for index, row in UT.iterrows():\n",
    "    if(UT.loc[index,0] in UT_State_List):\n",
    "        state = UT.loc[index,0]\n",
    "        UT_State_List.remove(state)\n",
    "    else:\n",
    "        town = UT.loc[index,0]\n",
    "        data.append([state,town])"
   ]
  },
  {
   "cell_type": "code",
   "execution_count": 11,
   "metadata": {
    "collapsed": false
   },
   "outputs": [
    {
     "data": {
      "text/plain": [
       "(517, 2)"
      ]
     },
     "execution_count": 11,
     "metadata": {},
     "output_type": "execute_result"
    }
   ],
   "source": [
    "unitowns = pd.DataFrame(data,columns=[\"State\",\"RegionName\"])\n",
    "unitowns.shape"
   ]
  },
  {
   "cell_type": "code",
   "execution_count": 12,
   "metadata": {
    "collapsed": false
   },
   "outputs": [],
   "source": [
    "def get_list_of_university_towns():\n",
    "    '''Returns a DataFrame of towns and the states they are in from the \n",
    "    university_towns.txt list. The format of the DataFrame should be:\n",
    "    DataFrame( [ [\"Michigan\", \"Ann Arbor\"], [\"Michigan\", \"Yipsilanti\"] ], \n",
    "    columns=[\"State\", \"RegionName\"]  )\n",
    "    \n",
    "    The following cleaning needs to be done:\n",
    "\n",
    "    1. For \"State\", removing characters from \"[\" to the end.\n",
    "    2. For \"RegionName\", when applicable, removing every character from \" (\" to the end.\n",
    "    3. Depending on how you read the data, you may need to remove newline character '\\n'. '''\n",
    "    UT=pd.read_table('university_towns.txt', header = None)\n",
    "    \n",
    "    UT_State = UT[UT[0].str.contains(r\"\\[edit\\]\")]\n",
    "    UT_State_List = UT_State[0].str.replace(r\"\\[.*\\]\",\"\").str.strip().tolist()\n",
    "    \n",
    "    UT[0]=UT[0].str.replace(r\"\\(.*\",\"\").str.replace(r\"\\[.*\\]\",\"\").str.rstrip()\n",
    "    \n",
    "    data = []\n",
    "\n",
    "    for index, row in UT.iterrows():\n",
    "        if(UT.loc[index,0] in UT_State_List):\n",
    "            state = UT.loc[index,0]\n",
    "            UT_State_List.remove(state)\n",
    "        else:\n",
    "            town = UT.loc[index,0]\n",
    "            data.append([state,town])\n",
    "\n",
    "    unitowns = pd.DataFrame(data,columns=[\"State\",\"RegionName\"])\n",
    "    \n",
    "    return unitowns"
   ]
  },
  {
   "cell_type": "code",
   "execution_count": 15,
   "metadata": {
    "collapsed": false
   },
   "outputs": [],
   "source": [
    "df = get_list_of_university_towns()"
   ]
  },
  {
   "cell_type": "code",
   "execution_count": 16,
   "metadata": {
    "collapsed": false
   },
   "outputs": [
    {
     "name": "stdout",
     "output_type": "stream",
     "text": [
      "Shape test:  Passed\n"
     ]
    }
   ],
   "source": [
    "cols = [\"State\", \"RegionName\"]\n",
    "\n",
    "print('Shape test: ', \"Passed\" if df.shape ==\n",
    "      (517, 2) else 'Failed')"
   ]
  },
  {
   "cell_type": "code",
   "execution_count": 17,
   "metadata": {
    "collapsed": false
   },
   "outputs": [
    {
     "name": "stdout",
     "output_type": "stream",
     "text": [
      "Index test:  Passed\n"
     ]
    }
   ],
   "source": [
    "print('Index test: ',\n",
    "      \"Passed\" if df.index.tolist() == list(range(517))\n",
    "      else 'Failed')"
   ]
  },
  {
   "cell_type": "code",
   "execution_count": 18,
   "metadata": {
    "collapsed": false
   },
   "outputs": [
    {
     "name": "stdout",
     "output_type": "stream",
     "text": [
      "Column test:  Passed\n"
     ]
    }
   ],
   "source": [
    "print('Column test: ',\n",
    "      \"Passed\" if df.columns.tolist() == cols else 'Failed')"
   ]
  },
  {
   "cell_type": "code",
   "execution_count": 19,
   "metadata": {
    "collapsed": false
   },
   "outputs": [
    {
     "name": "stdout",
     "output_type": "stream",
     "text": [
      "\\n test:  Passed\n"
     ]
    }
   ],
   "source": [
    "print('\\\\n test: ',\n",
    "      \"Failed\" if any(df[cols[0]].str.contains(\n",
    "          '\\n')) or any(df[cols[1]].str.contains('\\n'))\n",
    "      else 'Passed')"
   ]
  },
  {
   "cell_type": "code",
   "execution_count": 20,
   "metadata": {
    "collapsed": false
   },
   "outputs": [
    {
     "name": "stdout",
     "output_type": "stream",
     "text": [
      "Trailing whitespace test: Passed\n"
     ]
    }
   ],
   "source": [
    "print('Trailing whitespace test:',\n",
    "      \"Failed\" if any(df[cols[0]].str.contains(\n",
    "          '\\s+$')) or any(df[cols[1]].str.contains(\n",
    "              '\\s+$'))\n",
    "      else 'Passed')"
   ]
  },
  {
   "cell_type": "code",
   "execution_count": 21,
   "metadata": {
    "collapsed": false
   },
   "outputs": [
    {
     "name": "stdout",
     "output_type": "stream",
     "text": [
      "\"(\" test: Passed\n"
     ]
    }
   ],
   "source": [
    "print('\"(\" test:',\n",
    "      \"Failed\" if any(df[cols[0]].str.contains(\n",
    "          '\\(')) or any(df[cols[1]].str.contains(\n",
    "              '\\('))\n",
    "      else 'Passed')"
   ]
  },
  {
   "cell_type": "markdown",
   "metadata": {},
   "source": [
    "## Question 2"
   ]
  },
  {
   "cell_type": "code",
   "execution_count": 68,
   "metadata": {
    "collapsed": false
   },
   "outputs": [
    {
     "data": {
      "text/html": [
       "<div>\n",
       "<table border=\"1\" class=\"dataframe\">\n",
       "  <thead>\n",
       "    <tr style=\"text-align: right;\">\n",
       "      <th></th>\n",
       "      <th>0</th>\n",
       "      <th>1</th>\n",
       "      <th>2</th>\n",
       "      <th>3</th>\n",
       "      <th>4</th>\n",
       "      <th>5</th>\n",
       "      <th>6</th>\n",
       "      <th>7</th>\n",
       "    </tr>\n",
       "  </thead>\n",
       "  <tbody>\n",
       "    <tr>\n",
       "      <th>0</th>\n",
       "      <td>NaN</td>\n",
       "      <td>NaN</td>\n",
       "      <td>NaN</td>\n",
       "      <td>NaN</td>\n",
       "      <td>2000q1</td>\n",
       "      <td>10031.0</td>\n",
       "      <td>12359.1</td>\n",
       "      <td>NaN</td>\n",
       "    </tr>\n",
       "    <tr>\n",
       "      <th>1</th>\n",
       "      <td>NaN</td>\n",
       "      <td>NaN</td>\n",
       "      <td>NaN</td>\n",
       "      <td>NaN</td>\n",
       "      <td>2000q2</td>\n",
       "      <td>10278.3</td>\n",
       "      <td>12592.5</td>\n",
       "      <td>NaN</td>\n",
       "    </tr>\n",
       "    <tr>\n",
       "      <th>2</th>\n",
       "      <td>NaN</td>\n",
       "      <td>NaN</td>\n",
       "      <td>NaN</td>\n",
       "      <td>NaN</td>\n",
       "      <td>2000q3</td>\n",
       "      <td>10357.4</td>\n",
       "      <td>12607.7</td>\n",
       "      <td>NaN</td>\n",
       "    </tr>\n",
       "    <tr>\n",
       "      <th>3</th>\n",
       "      <td>NaN</td>\n",
       "      <td>NaN</td>\n",
       "      <td>NaN</td>\n",
       "      <td>NaN</td>\n",
       "      <td>2000q4</td>\n",
       "      <td>10472.3</td>\n",
       "      <td>12679.3</td>\n",
       "      <td>NaN</td>\n",
       "    </tr>\n",
       "    <tr>\n",
       "      <th>4</th>\n",
       "      <td>NaN</td>\n",
       "      <td>NaN</td>\n",
       "      <td>NaN</td>\n",
       "      <td>NaN</td>\n",
       "      <td>2001q1</td>\n",
       "      <td>10508.1</td>\n",
       "      <td>12643.3</td>\n",
       "      <td>NaN</td>\n",
       "    </tr>\n",
       "    <tr>\n",
       "      <th>5</th>\n",
       "      <td>NaN</td>\n",
       "      <td>NaN</td>\n",
       "      <td>NaN</td>\n",
       "      <td>NaN</td>\n",
       "      <td>2001q2</td>\n",
       "      <td>10638.4</td>\n",
       "      <td>12710.3</td>\n",
       "      <td>NaN</td>\n",
       "    </tr>\n",
       "    <tr>\n",
       "      <th>6</th>\n",
       "      <td>NaN</td>\n",
       "      <td>NaN</td>\n",
       "      <td>NaN</td>\n",
       "      <td>NaN</td>\n",
       "      <td>2001q3</td>\n",
       "      <td>10639.5</td>\n",
       "      <td>12670.1</td>\n",
       "      <td>NaN</td>\n",
       "    </tr>\n",
       "    <tr>\n",
       "      <th>7</th>\n",
       "      <td>NaN</td>\n",
       "      <td>NaN</td>\n",
       "      <td>NaN</td>\n",
       "      <td>NaN</td>\n",
       "      <td>2001q4</td>\n",
       "      <td>10701.3</td>\n",
       "      <td>12705.3</td>\n",
       "      <td>NaN</td>\n",
       "    </tr>\n",
       "    <tr>\n",
       "      <th>8</th>\n",
       "      <td>NaN</td>\n",
       "      <td>NaN</td>\n",
       "      <td>NaN</td>\n",
       "      <td>NaN</td>\n",
       "      <td>2002q1</td>\n",
       "      <td>10834.4</td>\n",
       "      <td>12822.3</td>\n",
       "      <td>NaN</td>\n",
       "    </tr>\n",
       "    <tr>\n",
       "      <th>9</th>\n",
       "      <td>NaN</td>\n",
       "      <td>NaN</td>\n",
       "      <td>NaN</td>\n",
       "      <td>NaN</td>\n",
       "      <td>2002q2</td>\n",
       "      <td>10934.8</td>\n",
       "      <td>12893.0</td>\n",
       "      <td>NaN</td>\n",
       "    </tr>\n",
       "  </tbody>\n",
       "</table>\n",
       "</div>"
      ],
      "text/plain": [
       "    0   1   2   3       4        5        6   7\n",
       "0 NaN NaN NaN NaN  2000q1  10031.0  12359.1 NaN\n",
       "1 NaN NaN NaN NaN  2000q2  10278.3  12592.5 NaN\n",
       "2 NaN NaN NaN NaN  2000q3  10357.4  12607.7 NaN\n",
       "3 NaN NaN NaN NaN  2000q4  10472.3  12679.3 NaN\n",
       "4 NaN NaN NaN NaN  2001q1  10508.1  12643.3 NaN\n",
       "5 NaN NaN NaN NaN  2001q2  10638.4  12710.3 NaN\n",
       "6 NaN NaN NaN NaN  2001q3  10639.5  12670.1 NaN\n",
       "7 NaN NaN NaN NaN  2001q4  10701.3  12705.3 NaN\n",
       "8 NaN NaN NaN NaN  2002q1  10834.4  12822.3 NaN\n",
       "9 NaN NaN NaN NaN  2002q2  10934.8  12893.0 NaN"
      ]
     },
     "execution_count": 68,
     "metadata": {},
     "output_type": "execute_result"
    }
   ],
   "source": [
    "GDP = pd.read_excel('gdplev.xls',skiprows=220,header = None)\n",
    "GDP.head(10)"
   ]
  },
  {
   "cell_type": "code",
   "execution_count": 70,
   "metadata": {
    "collapsed": false
   },
   "outputs": [
    {
     "name": "stdout",
     "output_type": "stream",
     "text": [
      "(66, 3)\n"
     ]
    },
    {
     "data": {
      "text/html": [
       "<div>\n",
       "<table border=\"1\" class=\"dataframe\">\n",
       "  <thead>\n",
       "    <tr style=\"text-align: right;\">\n",
       "      <th></th>\n",
       "      <th>4</th>\n",
       "      <th>5</th>\n",
       "      <th>6</th>\n",
       "    </tr>\n",
       "  </thead>\n",
       "  <tbody>\n",
       "    <tr>\n",
       "      <th>0</th>\n",
       "      <td>2000q1</td>\n",
       "      <td>10031.0</td>\n",
       "      <td>12359.1</td>\n",
       "    </tr>\n",
       "    <tr>\n",
       "      <th>1</th>\n",
       "      <td>2000q2</td>\n",
       "      <td>10278.3</td>\n",
       "      <td>12592.5</td>\n",
       "    </tr>\n",
       "    <tr>\n",
       "      <th>2</th>\n",
       "      <td>2000q3</td>\n",
       "      <td>10357.4</td>\n",
       "      <td>12607.7</td>\n",
       "    </tr>\n",
       "    <tr>\n",
       "      <th>3</th>\n",
       "      <td>2000q4</td>\n",
       "      <td>10472.3</td>\n",
       "      <td>12679.3</td>\n",
       "    </tr>\n",
       "    <tr>\n",
       "      <th>4</th>\n",
       "      <td>2001q1</td>\n",
       "      <td>10508.1</td>\n",
       "      <td>12643.3</td>\n",
       "    </tr>\n",
       "    <tr>\n",
       "      <th>5</th>\n",
       "      <td>2001q2</td>\n",
       "      <td>10638.4</td>\n",
       "      <td>12710.3</td>\n",
       "    </tr>\n",
       "    <tr>\n",
       "      <th>6</th>\n",
       "      <td>2001q3</td>\n",
       "      <td>10639.5</td>\n",
       "      <td>12670.1</td>\n",
       "    </tr>\n",
       "    <tr>\n",
       "      <th>7</th>\n",
       "      <td>2001q4</td>\n",
       "      <td>10701.3</td>\n",
       "      <td>12705.3</td>\n",
       "    </tr>\n",
       "    <tr>\n",
       "      <th>8</th>\n",
       "      <td>2002q1</td>\n",
       "      <td>10834.4</td>\n",
       "      <td>12822.3</td>\n",
       "    </tr>\n",
       "    <tr>\n",
       "      <th>9</th>\n",
       "      <td>2002q2</td>\n",
       "      <td>10934.8</td>\n",
       "      <td>12893.0</td>\n",
       "    </tr>\n",
       "  </tbody>\n",
       "</table>\n",
       "</div>"
      ],
      "text/plain": [
       "        4        5        6\n",
       "0  2000q1  10031.0  12359.1\n",
       "1  2000q2  10278.3  12592.5\n",
       "2  2000q3  10357.4  12607.7\n",
       "3  2000q4  10472.3  12679.3\n",
       "4  2001q1  10508.1  12643.3\n",
       "5  2001q2  10638.4  12710.3\n",
       "6  2001q3  10639.5  12670.1\n",
       "7  2001q4  10701.3  12705.3\n",
       "8  2002q1  10834.4  12822.3\n",
       "9  2002q2  10934.8  12893.0"
      ]
     },
     "execution_count": 70,
     "metadata": {},
     "output_type": "execute_result"
    }
   ],
   "source": [
    "GDP=GDP[[4,5,6]]\n",
    "print(GDP.shape)\n",
    "GDP.head(10)"
   ]
  },
  {
   "cell_type": "code",
   "execution_count": 73,
   "metadata": {
    "collapsed": true
   },
   "outputs": [],
   "source": [
    "recession_start = []\n",
    "for i in range(len(GDP) - 2):\n",
    "    if(GDP.iloc[i][5] > GDP.iloc[i+1][5]) & (GDP.iloc[i+1][5] > GDP.iloc[i+2][5]):\n",
    "        recession_start.append(GDP.iloc[i][4])"
   ]
  },
  {
   "cell_type": "code",
   "execution_count": 74,
   "metadata": {
    "collapsed": false
   },
   "outputs": [
    {
     "data": {
      "text/plain": [
       "['2008q3', '2008q4']"
      ]
     },
     "execution_count": 74,
     "metadata": {},
     "output_type": "execute_result"
    }
   ],
   "source": [
    "recession_start"
   ]
  },
  {
   "cell_type": "code",
   "execution_count": 77,
   "metadata": {
    "collapsed": false
   },
   "outputs": [],
   "source": [
    "def get_recession_start():\n",
    "    '''Returns the year and quarter of the recession start time as a \n",
    "    string value in a format such as 2005q3'''\n",
    "    GDP = pd.read_excel('gdplev.xls',skiprows=220,header = None)\n",
    "    GDP=GDP[[4,5,6]]\n",
    "    \n",
    "    recession_start = []\n",
    "    for i in range(len(GDP) - 2):\n",
    "        if(GDP.iloc[i][5] > GDP.iloc[i+1][5]) & (GDP.iloc[i+1][5] > GDP.iloc[i+2][5]):\n",
    "            recession_start.append(GDP.iloc[i][4])\n",
    "    \n",
    "    return recession_start[0]"
   ]
  },
  {
   "cell_type": "code",
   "execution_count": 92,
   "metadata": {
    "collapsed": false
   },
   "outputs": [
    {
     "data": {
      "text/plain": [
       "'2008q3'"
      ]
     },
     "execution_count": 92,
     "metadata": {},
     "output_type": "execute_result"
    }
   ],
   "source": [
    "recession_start = get_recession_start()\n",
    "recession_start"
   ]
  },
  {
   "cell_type": "markdown",
   "metadata": {},
   "source": [
    "## Problem 3"
   ]
  },
  {
   "cell_type": "code",
   "execution_count": 89,
   "metadata": {
    "collapsed": true
   },
   "outputs": [],
   "source": [
    "recession_end = []\n",
    "for i in range(len(GDP) - 2):\n",
    "    if(GDP.iloc[i][5] < GDP.iloc[i+1][5]) & (GDP.iloc[i+1][5] < GDP.iloc[i+2][5]):\n",
    "        recession_end.append(GDP.iloc[i+2][4])"
   ]
  },
  {
   "cell_type": "code",
   "execution_count": 93,
   "metadata": {
    "collapsed": false
   },
   "outputs": [],
   "source": [
    "recession_end = [i for i in recession_end if i > recession_start]"
   ]
  },
  {
   "cell_type": "code",
   "execution_count": 94,
   "metadata": {
    "collapsed": false
   },
   "outputs": [
    {
     "data": {
      "text/plain": [
       "'2009q4'"
      ]
     },
     "execution_count": 94,
     "metadata": {},
     "output_type": "execute_result"
    }
   ],
   "source": [
    "recession_end[0]"
   ]
  },
  {
   "cell_type": "code",
   "execution_count": 95,
   "metadata": {
    "collapsed": false
   },
   "outputs": [],
   "source": [
    "def get_recession_end():\n",
    "    '''Returns the year and quarter of the recession end time as a \n",
    "    string value in a format such as 2005q3'''\n",
    "    recession_end = []\n",
    "    for i in range(len(GDP) - 2):\n",
    "        if(GDP.iloc[i][5] < GDP.iloc[i+1][5]) & (GDP.iloc[i+1][5] < GDP.iloc[i+2][5]):\n",
    "            recession_end.append(GDP.iloc[i+2][4])\n",
    "    \n",
    "    recession_end = [i for i in recession_end if i > recession_start]\n",
    "    \n",
    "    return recession_end[0]"
   ]
  },
  {
   "cell_type": "code",
   "execution_count": 97,
   "metadata": {
    "collapsed": false
   },
   "outputs": [
    {
     "data": {
      "text/plain": [
       "'2009q4'"
      ]
     },
     "execution_count": 97,
     "metadata": {},
     "output_type": "execute_result"
    }
   ],
   "source": [
    "recession_end = get_recession_end()\n",
    "recession_end"
   ]
  },
  {
   "cell_type": "markdown",
   "metadata": {},
   "source": [
    "## Problem 4"
   ]
  },
  {
   "cell_type": "markdown",
   "metadata": {},
   "source": [
    "### Approach 1"
   ]
  },
  {
   "cell_type": "code",
   "execution_count": 125,
   "metadata": {
    "collapsed": false
   },
   "outputs": [
    {
     "data": {
      "text/plain": [
       "34"
      ]
     },
     "execution_count": 125,
     "metadata": {},
     "output_type": "execute_result"
    }
   ],
   "source": [
    "GDP[GDP[4] == recession_start].index[0]"
   ]
  },
  {
   "cell_type": "code",
   "execution_count": 126,
   "metadata": {
    "collapsed": false
   },
   "outputs": [
    {
     "data": {
      "text/plain": [
       "39"
      ]
     },
     "execution_count": 126,
     "metadata": {},
     "output_type": "execute_result"
    }
   ],
   "source": [
    "GDP[GDP[4] == recession_end].index[0]"
   ]
  },
  {
   "cell_type": "code",
   "execution_count": 127,
   "metadata": {
    "collapsed": false
   },
   "outputs": [
    {
     "data": {
      "text/html": [
       "<div>\n",
       "<table border=\"1\" class=\"dataframe\">\n",
       "  <thead>\n",
       "    <tr style=\"text-align: right;\">\n",
       "      <th></th>\n",
       "      <th>4</th>\n",
       "      <th>5</th>\n",
       "      <th>6</th>\n",
       "    </tr>\n",
       "  </thead>\n",
       "  <tbody>\n",
       "    <tr>\n",
       "      <th>34</th>\n",
       "      <td>2008q3</td>\n",
       "      <td>14843.0</td>\n",
       "      <td>14891.6</td>\n",
       "    </tr>\n",
       "    <tr>\n",
       "      <th>35</th>\n",
       "      <td>2008q4</td>\n",
       "      <td>14549.9</td>\n",
       "      <td>14577.0</td>\n",
       "    </tr>\n",
       "    <tr>\n",
       "      <th>36</th>\n",
       "      <td>2009q1</td>\n",
       "      <td>14383.9</td>\n",
       "      <td>14375.0</td>\n",
       "    </tr>\n",
       "    <tr>\n",
       "      <th>37</th>\n",
       "      <td>2009q2</td>\n",
       "      <td>14340.4</td>\n",
       "      <td>14355.6</td>\n",
       "    </tr>\n",
       "    <tr>\n",
       "      <th>38</th>\n",
       "      <td>2009q3</td>\n",
       "      <td>14384.1</td>\n",
       "      <td>14402.5</td>\n",
       "    </tr>\n",
       "  </tbody>\n",
       "</table>\n",
       "</div>"
      ],
      "text/plain": [
       "         4        5        6\n",
       "34  2008q3  14843.0  14891.6\n",
       "35  2008q4  14549.9  14577.0\n",
       "36  2009q1  14383.9  14375.0\n",
       "37  2009q2  14340.4  14355.6\n",
       "38  2009q3  14384.1  14402.5"
      ]
     },
     "execution_count": 127,
     "metadata": {},
     "output_type": "execute_result"
    }
   ],
   "source": [
    "GDP.iloc[34:39]"
   ]
  },
  {
   "cell_type": "code",
   "execution_count": 128,
   "metadata": {
    "collapsed": false
   },
   "outputs": [
    {
     "data": {
      "text/plain": [
       "'2009q2'"
      ]
     },
     "execution_count": 128,
     "metadata": {},
     "output_type": "execute_result"
    }
   ],
   "source": [
    "recession = GDP.iloc[GDP[GDP[4] == recession_start].index[0]:GDP[GDP[4] == recession_end].index[0]]\n",
    "recession[recession[5]==recession[5].min()].iloc[0][4]"
   ]
  },
  {
   "cell_type": "markdown",
   "metadata": {},
   "source": [
    "### Approach 2"
   ]
  },
  {
   "cell_type": "code",
   "execution_count": 112,
   "metadata": {
    "collapsed": false
   },
   "outputs": [
    {
     "data": {
      "text/html": [
       "<div>\n",
       "<table border=\"1\" class=\"dataframe\">\n",
       "  <thead>\n",
       "    <tr style=\"text-align: right;\">\n",
       "      <th></th>\n",
       "      <th>4</th>\n",
       "      <th>5</th>\n",
       "      <th>6</th>\n",
       "    </tr>\n",
       "  </thead>\n",
       "  <tbody>\n",
       "    <tr>\n",
       "      <th>35</th>\n",
       "      <td>2008q4</td>\n",
       "      <td>14549.9</td>\n",
       "      <td>14577.0</td>\n",
       "    </tr>\n",
       "    <tr>\n",
       "      <th>36</th>\n",
       "      <td>2009q1</td>\n",
       "      <td>14383.9</td>\n",
       "      <td>14375.0</td>\n",
       "    </tr>\n",
       "    <tr>\n",
       "      <th>37</th>\n",
       "      <td>2009q2</td>\n",
       "      <td>14340.4</td>\n",
       "      <td>14355.6</td>\n",
       "    </tr>\n",
       "    <tr>\n",
       "      <th>38</th>\n",
       "      <td>2009q3</td>\n",
       "      <td>14384.1</td>\n",
       "      <td>14402.5</td>\n",
       "    </tr>\n",
       "  </tbody>\n",
       "</table>\n",
       "</div>"
      ],
      "text/plain": [
       "         4        5        6\n",
       "35  2008q4  14549.9  14577.0\n",
       "36  2009q1  14383.9  14375.0\n",
       "37  2009q2  14340.4  14355.6\n",
       "38  2009q3  14384.1  14402.5"
      ]
     },
     "execution_count": 112,
     "metadata": {},
     "output_type": "execute_result"
    }
   ],
   "source": [
    "recession = GDP[(GDP[4] > recession_start) & (GDP[4] < recession_end)]\n",
    "recession"
   ]
  },
  {
   "cell_type": "code",
   "execution_count": 119,
   "metadata": {
    "collapsed": false
   },
   "outputs": [
    {
     "data": {
      "text/plain": [
       "'2009q2'"
      ]
     },
     "execution_count": 119,
     "metadata": {},
     "output_type": "execute_result"
    }
   ],
   "source": [
    "recession[recession[5]==recession[5].min()].iloc[0][4]"
   ]
  },
  {
   "cell_type": "code",
   "execution_count": 120,
   "metadata": {
    "collapsed": false
   },
   "outputs": [],
   "source": [
    "def get_recession_bottom():\n",
    "    '''Returns the year and quarter of the recession bottom time as a \n",
    "    string value in a format such as 2005q3'''\n",
    "    recession = GDP[(GDP[4] > recession_start) & (GDP[4] < recession_end)]\n",
    "    \n",
    "    return recession[recession[5]==recession[5].min()].iloc[0][4]"
   ]
  },
  {
   "cell_type": "code",
   "execution_count": 121,
   "metadata": {
    "collapsed": false
   },
   "outputs": [
    {
     "data": {
      "text/plain": [
       "'2009q2'"
      ]
     },
     "execution_count": 121,
     "metadata": {},
     "output_type": "execute_result"
    }
   ],
   "source": [
    "get_recession_bottom()"
   ]
  },
  {
   "cell_type": "markdown",
   "metadata": {},
   "source": [
    "## Problem 5"
   ]
  },
  {
   "cell_type": "code",
   "execution_count": 2,
   "metadata": {
    "collapsed": false
   },
   "outputs": [
    {
     "data": {
      "text/html": [
       "<div>\n",
       "<table border=\"1\" class=\"dataframe\">\n",
       "  <thead>\n",
       "    <tr style=\"text-align: right;\">\n",
       "      <th></th>\n",
       "      <th>RegionID</th>\n",
       "      <th>RegionName</th>\n",
       "      <th>State</th>\n",
       "      <th>Metro</th>\n",
       "      <th>CountyName</th>\n",
       "      <th>SizeRank</th>\n",
       "      <th>1996-04</th>\n",
       "      <th>1996-05</th>\n",
       "      <th>1996-06</th>\n",
       "      <th>1996-07</th>\n",
       "      <th>...</th>\n",
       "      <th>2015-11</th>\n",
       "      <th>2015-12</th>\n",
       "      <th>2016-01</th>\n",
       "      <th>2016-02</th>\n",
       "      <th>2016-03</th>\n",
       "      <th>2016-04</th>\n",
       "      <th>2016-05</th>\n",
       "      <th>2016-06</th>\n",
       "      <th>2016-07</th>\n",
       "      <th>2016-08</th>\n",
       "    </tr>\n",
       "  </thead>\n",
       "  <tbody>\n",
       "    <tr>\n",
       "      <th>0</th>\n",
       "      <td>6181</td>\n",
       "      <td>New York</td>\n",
       "      <td>NY</td>\n",
       "      <td>New York</td>\n",
       "      <td>Queens</td>\n",
       "      <td>1</td>\n",
       "      <td>NaN</td>\n",
       "      <td>NaN</td>\n",
       "      <td>NaN</td>\n",
       "      <td>NaN</td>\n",
       "      <td>...</td>\n",
       "      <td>573600</td>\n",
       "      <td>576200</td>\n",
       "      <td>578400</td>\n",
       "      <td>582200</td>\n",
       "      <td>588000</td>\n",
       "      <td>592200</td>\n",
       "      <td>592500</td>\n",
       "      <td>590200</td>\n",
       "      <td>588000</td>\n",
       "      <td>586400</td>\n",
       "    </tr>\n",
       "    <tr>\n",
       "      <th>1</th>\n",
       "      <td>12447</td>\n",
       "      <td>Los Angeles</td>\n",
       "      <td>CA</td>\n",
       "      <td>Los Angeles-Long Beach-Anaheim</td>\n",
       "      <td>Los Angeles</td>\n",
       "      <td>2</td>\n",
       "      <td>155000.0</td>\n",
       "      <td>154600.0</td>\n",
       "      <td>154400.0</td>\n",
       "      <td>154200.0</td>\n",
       "      <td>...</td>\n",
       "      <td>558200</td>\n",
       "      <td>560800</td>\n",
       "      <td>562800</td>\n",
       "      <td>565600</td>\n",
       "      <td>569700</td>\n",
       "      <td>574000</td>\n",
       "      <td>577800</td>\n",
       "      <td>580600</td>\n",
       "      <td>583000</td>\n",
       "      <td>585100</td>\n",
       "    </tr>\n",
       "    <tr>\n",
       "      <th>2</th>\n",
       "      <td>17426</td>\n",
       "      <td>Chicago</td>\n",
       "      <td>IL</td>\n",
       "      <td>Chicago</td>\n",
       "      <td>Cook</td>\n",
       "      <td>3</td>\n",
       "      <td>109700.0</td>\n",
       "      <td>109400.0</td>\n",
       "      <td>109300.0</td>\n",
       "      <td>109300.0</td>\n",
       "      <td>...</td>\n",
       "      <td>207800</td>\n",
       "      <td>206900</td>\n",
       "      <td>206200</td>\n",
       "      <td>205800</td>\n",
       "      <td>206200</td>\n",
       "      <td>207300</td>\n",
       "      <td>208200</td>\n",
       "      <td>209100</td>\n",
       "      <td>211000</td>\n",
       "      <td>213000</td>\n",
       "    </tr>\n",
       "    <tr>\n",
       "      <th>3</th>\n",
       "      <td>13271</td>\n",
       "      <td>Philadelphia</td>\n",
       "      <td>PA</td>\n",
       "      <td>Philadelphia</td>\n",
       "      <td>Philadelphia</td>\n",
       "      <td>4</td>\n",
       "      <td>50000.0</td>\n",
       "      <td>49900.0</td>\n",
       "      <td>49600.0</td>\n",
       "      <td>49400.0</td>\n",
       "      <td>...</td>\n",
       "      <td>122300</td>\n",
       "      <td>121600</td>\n",
       "      <td>121800</td>\n",
       "      <td>123300</td>\n",
       "      <td>125200</td>\n",
       "      <td>126400</td>\n",
       "      <td>127000</td>\n",
       "      <td>127400</td>\n",
       "      <td>128300</td>\n",
       "      <td>129100</td>\n",
       "    </tr>\n",
       "    <tr>\n",
       "      <th>4</th>\n",
       "      <td>40326</td>\n",
       "      <td>Phoenix</td>\n",
       "      <td>AZ</td>\n",
       "      <td>Phoenix</td>\n",
       "      <td>Maricopa</td>\n",
       "      <td>5</td>\n",
       "      <td>87200.0</td>\n",
       "      <td>87700.0</td>\n",
       "      <td>88200.0</td>\n",
       "      <td>88400.0</td>\n",
       "      <td>...</td>\n",
       "      <td>183800</td>\n",
       "      <td>185300</td>\n",
       "      <td>186600</td>\n",
       "      <td>188000</td>\n",
       "      <td>189100</td>\n",
       "      <td>190200</td>\n",
       "      <td>191300</td>\n",
       "      <td>192800</td>\n",
       "      <td>194500</td>\n",
       "      <td>195900</td>\n",
       "    </tr>\n",
       "    <tr>\n",
       "      <th>5</th>\n",
       "      <td>18959</td>\n",
       "      <td>Las Vegas</td>\n",
       "      <td>NV</td>\n",
       "      <td>Las Vegas</td>\n",
       "      <td>Clark</td>\n",
       "      <td>6</td>\n",
       "      <td>121600.0</td>\n",
       "      <td>120900.0</td>\n",
       "      <td>120400.0</td>\n",
       "      <td>120300.0</td>\n",
       "      <td>...</td>\n",
       "      <td>190600</td>\n",
       "      <td>192000</td>\n",
       "      <td>193600</td>\n",
       "      <td>194800</td>\n",
       "      <td>195400</td>\n",
       "      <td>196100</td>\n",
       "      <td>197300</td>\n",
       "      <td>198200</td>\n",
       "      <td>199300</td>\n",
       "      <td>200600</td>\n",
       "    </tr>\n",
       "    <tr>\n",
       "      <th>6</th>\n",
       "      <td>54296</td>\n",
       "      <td>San Diego</td>\n",
       "      <td>CA</td>\n",
       "      <td>San Diego</td>\n",
       "      <td>San Diego</td>\n",
       "      <td>7</td>\n",
       "      <td>161100.0</td>\n",
       "      <td>160700.0</td>\n",
       "      <td>160400.0</td>\n",
       "      <td>160100.0</td>\n",
       "      <td>...</td>\n",
       "      <td>525700</td>\n",
       "      <td>526700</td>\n",
       "      <td>527800</td>\n",
       "      <td>529200</td>\n",
       "      <td>531000</td>\n",
       "      <td>533900</td>\n",
       "      <td>536900</td>\n",
       "      <td>537900</td>\n",
       "      <td>539000</td>\n",
       "      <td>540500</td>\n",
       "    </tr>\n",
       "    <tr>\n",
       "      <th>7</th>\n",
       "      <td>38128</td>\n",
       "      <td>Dallas</td>\n",
       "      <td>TX</td>\n",
       "      <td>Dallas-Fort Worth</td>\n",
       "      <td>Dallas</td>\n",
       "      <td>8</td>\n",
       "      <td>NaN</td>\n",
       "      <td>NaN</td>\n",
       "      <td>NaN</td>\n",
       "      <td>NaN</td>\n",
       "      <td>...</td>\n",
       "      <td>134600</td>\n",
       "      <td>136600</td>\n",
       "      <td>138700</td>\n",
       "      <td>140600</td>\n",
       "      <td>142200</td>\n",
       "      <td>143300</td>\n",
       "      <td>144500</td>\n",
       "      <td>146000</td>\n",
       "      <td>148200</td>\n",
       "      <td>150400</td>\n",
       "    </tr>\n",
       "    <tr>\n",
       "      <th>8</th>\n",
       "      <td>33839</td>\n",
       "      <td>San Jose</td>\n",
       "      <td>CA</td>\n",
       "      <td>San Jose</td>\n",
       "      <td>Santa Clara</td>\n",
       "      <td>9</td>\n",
       "      <td>224500.0</td>\n",
       "      <td>224900.0</td>\n",
       "      <td>225400.0</td>\n",
       "      <td>226100.0</td>\n",
       "      <td>...</td>\n",
       "      <td>789700</td>\n",
       "      <td>792100</td>\n",
       "      <td>795800</td>\n",
       "      <td>803100</td>\n",
       "      <td>811900</td>\n",
       "      <td>817600</td>\n",
       "      <td>819100</td>\n",
       "      <td>820100</td>\n",
       "      <td>821700</td>\n",
       "      <td>822700</td>\n",
       "    </tr>\n",
       "    <tr>\n",
       "      <th>9</th>\n",
       "      <td>25290</td>\n",
       "      <td>Jacksonville</td>\n",
       "      <td>FL</td>\n",
       "      <td>Jacksonville</td>\n",
       "      <td>Duval</td>\n",
       "      <td>10</td>\n",
       "      <td>77500.0</td>\n",
       "      <td>77200.0</td>\n",
       "      <td>76800.0</td>\n",
       "      <td>76600.0</td>\n",
       "      <td>...</td>\n",
       "      <td>132000</td>\n",
       "      <td>132500</td>\n",
       "      <td>133100</td>\n",
       "      <td>133900</td>\n",
       "      <td>134900</td>\n",
       "      <td>136000</td>\n",
       "      <td>137200</td>\n",
       "      <td>138400</td>\n",
       "      <td>139500</td>\n",
       "      <td>140300</td>\n",
       "    </tr>\n",
       "  </tbody>\n",
       "</table>\n",
       "<p>10 rows × 251 columns</p>\n",
       "</div>"
      ],
      "text/plain": [
       "   RegionID    RegionName State                           Metro    CountyName  \\\n",
       "0      6181      New York    NY                        New York        Queens   \n",
       "1     12447   Los Angeles    CA  Los Angeles-Long Beach-Anaheim   Los Angeles   \n",
       "2     17426       Chicago    IL                         Chicago          Cook   \n",
       "3     13271  Philadelphia    PA                    Philadelphia  Philadelphia   \n",
       "4     40326       Phoenix    AZ                         Phoenix      Maricopa   \n",
       "5     18959     Las Vegas    NV                       Las Vegas         Clark   \n",
       "6     54296     San Diego    CA                       San Diego     San Diego   \n",
       "7     38128        Dallas    TX               Dallas-Fort Worth        Dallas   \n",
       "8     33839      San Jose    CA                        San Jose   Santa Clara   \n",
       "9     25290  Jacksonville    FL                    Jacksonville         Duval   \n",
       "\n",
       "   SizeRank   1996-04   1996-05   1996-06   1996-07   ...     2015-11  \\\n",
       "0         1       NaN       NaN       NaN       NaN   ...      573600   \n",
       "1         2  155000.0  154600.0  154400.0  154200.0   ...      558200   \n",
       "2         3  109700.0  109400.0  109300.0  109300.0   ...      207800   \n",
       "3         4   50000.0   49900.0   49600.0   49400.0   ...      122300   \n",
       "4         5   87200.0   87700.0   88200.0   88400.0   ...      183800   \n",
       "5         6  121600.0  120900.0  120400.0  120300.0   ...      190600   \n",
       "6         7  161100.0  160700.0  160400.0  160100.0   ...      525700   \n",
       "7         8       NaN       NaN       NaN       NaN   ...      134600   \n",
       "8         9  224500.0  224900.0  225400.0  226100.0   ...      789700   \n",
       "9        10   77500.0   77200.0   76800.0   76600.0   ...      132000   \n",
       "\n",
       "   2015-12  2016-01  2016-02  2016-03  2016-04  2016-05  2016-06  2016-07  \\\n",
       "0   576200   578400   582200   588000   592200   592500   590200   588000   \n",
       "1   560800   562800   565600   569700   574000   577800   580600   583000   \n",
       "2   206900   206200   205800   206200   207300   208200   209100   211000   \n",
       "3   121600   121800   123300   125200   126400   127000   127400   128300   \n",
       "4   185300   186600   188000   189100   190200   191300   192800   194500   \n",
       "5   192000   193600   194800   195400   196100   197300   198200   199300   \n",
       "6   526700   527800   529200   531000   533900   536900   537900   539000   \n",
       "7   136600   138700   140600   142200   143300   144500   146000   148200   \n",
       "8   792100   795800   803100   811900   817600   819100   820100   821700   \n",
       "9   132500   133100   133900   134900   136000   137200   138400   139500   \n",
       "\n",
       "   2016-08  \n",
       "0   586400  \n",
       "1   585100  \n",
       "2   213000  \n",
       "3   129100  \n",
       "4   195900  \n",
       "5   200600  \n",
       "6   540500  \n",
       "7   150400  \n",
       "8   822700  \n",
       "9   140300  \n",
       "\n",
       "[10 rows x 251 columns]"
      ]
     },
     "execution_count": 2,
     "metadata": {},
     "output_type": "execute_result"
    }
   ],
   "source": [
    "Zillow = pd.read_csv('City_Zhvi_AllHomes.csv')\n",
    "Zillow.head(10)"
   ]
  },
  {
   "cell_type": "code",
   "execution_count": 3,
   "metadata": {
    "collapsed": false
   },
   "outputs": [
    {
     "name": "stdout",
     "output_type": "stream",
     "text": [
      "Index(['RegionID', 'RegionName', 'State', 'Metro', 'CountyName', 'SizeRank',\n",
      "       '1996-04', '1996-05', '1996-06', '1996-07',\n",
      "       ...\n",
      "       '2015-11', '2015-12', '2016-01', '2016-02', '2016-03', '2016-04',\n",
      "       '2016-05', '2016-06', '2016-07', '2016-08'],\n",
      "      dtype='object', length=251)\n"
     ]
    }
   ],
   "source": [
    "print(Zillow.columns)"
   ]
  },
  {
   "cell_type": "code",
   "execution_count": 4,
   "metadata": {
    "collapsed": false
   },
   "outputs": [
    {
     "data": {
      "text/plain": [
       "0              NaN\n",
       "1    154666.666667\n",
       "2    109466.666667\n",
       "3     49833.333333\n",
       "4     87700.000000\n",
       "5    120966.666667\n",
       "6    160733.333333\n",
       "7              NaN\n",
       "8    224933.333333\n",
       "9     77166.666667\n",
       "dtype: float64"
      ]
     },
     "execution_count": 4,
     "metadata": {},
     "output_type": "execute_result"
    }
   ],
   "source": [
    "Zillow[['1996-04', '1996-05', '1996-06']].mean(axis=1).head(10)"
   ]
  },
  {
   "cell_type": "code",
   "execution_count": 5,
   "metadata": {
    "collapsed": false
   },
   "outputs": [
    {
     "data": {
      "text/plain": [
       "1996-04    120373.809229\n",
       "1996-05    120454.175327\n",
       "1996-06    120338.756388\n",
       "dtype: float64"
      ]
     },
     "execution_count": 5,
     "metadata": {},
     "output_type": "execute_result"
    }
   ],
   "source": [
    "Zillow[['1996-04', '1996-05', '1996-06']].mean(axis=0)"
   ]
  },
  {
   "cell_type": "code",
   "execution_count": 6,
   "metadata": {
    "collapsed": false
   },
   "outputs": [
    {
     "data": {
      "text/plain": [
       "['1996', '04']"
      ]
     },
     "execution_count": 6,
     "metadata": {},
     "output_type": "execute_result"
    }
   ],
   "source": [
    "'1996-04'.split('-')"
   ]
  },
  {
   "cell_type": "code",
   "execution_count": 7,
   "metadata": {
    "collapsed": false
   },
   "outputs": [
    {
     "data": {
      "text/plain": [
       "True"
      ]
     },
     "execution_count": 7,
     "metadata": {},
     "output_type": "execute_result"
    }
   ],
   "source": [
    "'04' >= '01'"
   ]
  },
  {
   "cell_type": "code",
   "execution_count": 8,
   "metadata": {
    "collapsed": true
   },
   "outputs": [],
   "source": [
    "List = '1996-01'.split('-')"
   ]
  },
  {
   "cell_type": "code",
   "execution_count": 9,
   "metadata": {
    "collapsed": false
   },
   "outputs": [
    {
     "name": "stdout",
     "output_type": "stream",
     "text": [
      "Year  1996\n",
      "Month  01\n"
     ]
    }
   ],
   "source": [
    "Year = List[0]\n",
    "Month = List[1]\n",
    "print(\"Year \",Year)\n",
    "print(\"Month \",Month)"
   ]
  },
  {
   "cell_type": "code",
   "execution_count": 10,
   "metadata": {
    "collapsed": false
   },
   "outputs": [],
   "source": [
    "def month_to_quarter(String):\n",
    "    List = String.split('-')\n",
    "    Year = List[0]\n",
    "    Month = List[1]\n",
    "    Quarter=''\n",
    "    if (Month >= '01') & (Month <= '03'):\n",
    "        Quarter='q1'\n",
    "    elif (Month >= '04') & (Month <= '06'):\n",
    "        Quarter='q2'\n",
    "    elif (Month >= '07') & (Month <= '09'):\n",
    "        Quarter='q3'\n",
    "    elif (Month >= '10') & (Month <= '12'):\n",
    "        Quarter='q4'\n",
    "    return Year+Quarter"
   ]
  },
  {
   "cell_type": "code",
   "execution_count": 11,
   "metadata": {
    "collapsed": false
   },
   "outputs": [
    {
     "name": "stdout",
     "output_type": "stream",
     "text": [
      "1996q1\n",
      "1996q1\n",
      "1996q1\n",
      "1996q2\n",
      "1996q2\n",
      "1996q2\n",
      "1996q3\n",
      "1996q3\n",
      "1996q3\n",
      "1996q4\n",
      "1996q4\n",
      "1996q4\n"
     ]
    }
   ],
   "source": [
    "print(month_to_quarter('1996-01'))\n",
    "print(month_to_quarter('1996-02'))\n",
    "print(month_to_quarter('1996-03'))\n",
    "print(month_to_quarter('1996-04'))\n",
    "print(month_to_quarter('1996-05'))\n",
    "print(month_to_quarter('1996-06'))\n",
    "print(month_to_quarter('1996-07'))\n",
    "print(month_to_quarter('1996-08'))\n",
    "print(month_to_quarter('1996-09'))\n",
    "print(month_to_quarter('1996-10'))\n",
    "print(month_to_quarter('1996-11'))\n",
    "print(month_to_quarter('1996-12'))"
   ]
  },
  {
   "cell_type": "code",
   "execution_count": 12,
   "metadata": {
    "collapsed": false
   },
   "outputs": [
    {
     "data": {
      "text/plain": [
       "['1996q2', '1996q3', '1996q4', '1997q1']"
      ]
     },
     "execution_count": 12,
     "metadata": {},
     "output_type": "execute_result"
    }
   ],
   "source": [
    "Quarter_List = []\n",
    "Months = ['1996-04','1996-05','1996-06','1996-07','1996-08','1996-09','1996-10','1996-11','1996-12','1997-01']\n",
    "for month in Months:\n",
    "    temp = month_to_quarter(month)\n",
    "    if(temp not in Quarter_List):\n",
    "        Quarter_List.append(temp)\n",
    "Quarter_List"
   ]
  },
  {
   "cell_type": "code",
   "execution_count": 13,
   "metadata": {
    "collapsed": false
   },
   "outputs": [
    {
     "name": "stdout",
     "output_type": "stream",
     "text": [
      "155000.0\n",
      "154600.0\n",
      "154400.0\n",
      "154200.0\n",
      "154100.0\n",
      "154300.0\n",
      "154300.0\n",
      "154200.0\n",
      "154800.0\n",
      "155900.0\n"
     ]
    },
    {
     "data": {
      "text/plain": [
       "['1996q2', '1996q3', '1996q4', '1997q1']"
      ]
     },
     "execution_count": 13,
     "metadata": {},
     "output_type": "execute_result"
    }
   ],
   "source": [
    "Quarter_List = []\n",
    "for month in Months:\n",
    "    temp = month_to_quarter(month)\n",
    "    print(Zillow.iloc[1][month])\n",
    "    if(temp not in Quarter_List):\n",
    "        Quarter_List.append(temp)\n",
    "Quarter_List"
   ]
  },
  {
   "cell_type": "code",
   "execution_count": 14,
   "metadata": {
    "collapsed": false
   },
   "outputs": [
    {
     "name": "stdout",
     "output_type": "stream",
     "text": [
      "['1996-04']\n",
      "['1996-05', '1996-06', '1996-07']\n",
      "['1996-08', '1996-09', '1996-10']\n",
      "['1996-11', '1996-12', '1997-01']\n"
     ]
    },
    {
     "data": {
      "text/plain": [
       "['1996q2', '1996q3', '1996q4', '1997q1']"
      ]
     },
     "execution_count": 14,
     "metadata": {},
     "output_type": "execute_result"
    }
   ],
   "source": [
    "Quarter_List = []\n",
    "One_Quarter = []\n",
    "for month in Months:\n",
    "    One_Quarter.append(month)\n",
    "    currnt_quarter = month_to_quarter(month)\n",
    "    if(currnt_quarter not in Quarter_List):\n",
    "        Quarter_List.append(currnt_quarter)\n",
    "        print(One_Quarter)\n",
    "        One_Quarter = []\n",
    "Quarter_List"
   ]
  },
  {
   "cell_type": "code",
   "execution_count": 21,
   "metadata": {
    "collapsed": false
   },
   "outputs": [
    {
     "name": "stdout",
     "output_type": "stream",
     "text": [
      "['1996-04', '1996-05', '1996-06']\n",
      "['1996-07', '1996-08', '1996-09']\n",
      "['1996-10', '1996-11', '1996-12']\n"
     ]
    },
    {
     "data": {
      "text/plain": [
       "['1996q2', '1996q3', '1996q4', '1997q1']"
      ]
     },
     "execution_count": 21,
     "metadata": {},
     "output_type": "execute_result"
    }
   ],
   "source": [
    "Quarter_List = []\n",
    "One_Quarter = []\n",
    "for month in Months:\n",
    "    currnt_quarter = month_to_quarter(month)\n",
    "    if(currnt_quarter not in Quarter_List):\n",
    "        Quarter_List.append(currnt_quarter)   \n",
    "        if(len(One_Quarter)!=0):\n",
    "            print(One_Quarter)\n",
    "        One_Quarter = []\n",
    "        One_Quarter.append(month)\n",
    "    else:\n",
    "        One_Quarter.append(month)\n",
    "Quarter_List"
   ]
  },
  {
   "cell_type": "code",
   "execution_count": 28,
   "metadata": {
    "collapsed": false
   },
   "outputs": [
    {
     "name": "stdout",
     "output_type": "stream",
     "text": [
      "['1996-04', '1996-05', '1996-06']\n",
      "['1996-07', '1996-08', '1996-09']\n",
      "['1996-10', '1996-11', '1996-12']\n"
     ]
    },
    {
     "data": {
      "text/plain": [
       "['1996q2', '1996q3', '1996q4', '1997q1']"
      ]
     },
     "execution_count": 28,
     "metadata": {},
     "output_type": "execute_result"
    }
   ],
   "source": [
    "Quarter_List = []\n",
    "One_Quarter = []\n",
    "for month in Months:\n",
    "    currnt_quarter = month_to_quarter(month)\n",
    "    if(currnt_quarter not in Quarter_List):\n",
    "        Quarter_List.append(currnt_quarter)   \n",
    "        if(len(One_Quarter)!=0):\n",
    "            print(One_Quarter)\n",
    "        One_Quarter = []\n",
    "        One_Quarter.append(month)\n",
    "    else:\n",
    "        One_Quarter.append(month)\n",
    "Quarter_List"
   ]
  },
  {
   "cell_type": "code",
   "execution_count": null,
   "metadata": {
    "collapsed": false
   },
   "outputs": [],
   "source": []
  },
  {
   "cell_type": "code",
   "execution_count": 27,
   "metadata": {
    "collapsed": false
   },
   "outputs": [
    {
     "data": {
      "text/plain": [
       "['1996-04', '1996-05', '1996-06']"
      ]
     },
     "execution_count": 27,
     "metadata": {},
     "output_type": "execute_result"
    }
   ],
   "source": [
    "All_Quarter[0]"
   ]
  },
  {
   "cell_type": "code",
   "execution_count": null,
   "metadata": {
    "collapsed": true
   },
   "outputs": [],
   "source": []
  },
  {
   "cell_type": "code",
   "execution_count": null,
   "metadata": {
    "collapsed": true
   },
   "outputs": [],
   "source": []
  },
  {
   "cell_type": "code",
   "execution_count": 13,
   "metadata": {
    "collapsed": false
   },
   "outputs": [
    {
     "name": "stdout",
     "output_type": "stream",
     "text": [
      "251\n"
     ]
    },
    {
     "data": {
      "text/plain": [
       "'RegionID'"
      ]
     },
     "execution_count": 13,
     "metadata": {},
     "output_type": "execute_result"
    }
   ],
   "source": [
    "Zillow_column_names = Zillow.columns.tolist()\n",
    "print(len(Zillow_column_names))\n",
    "Zillow_column_names[0]"
   ]
  },
  {
   "cell_type": "code",
   "execution_count": 14,
   "metadata": {
    "collapsed": false
   },
   "outputs": [
    {
     "data": {
      "text/plain": [
       "False"
      ]
     },
     "execution_count": 14,
     "metadata": {},
     "output_type": "execute_result"
    }
   ],
   "source": [
    "Zillow_column_names[0][0].isdigit()"
   ]
  },
  {
   "cell_type": "code",
   "execution_count": 15,
   "metadata": {
    "collapsed": false
   },
   "outputs": [
    {
     "name": "stdout",
     "output_type": "stream",
     "text": [
      "245\n"
     ]
    },
    {
     "data": {
      "text/plain": [
       "'1996-04'"
      ]
     },
     "execution_count": 15,
     "metadata": {},
     "output_type": "execute_result"
    }
   ],
   "source": [
    "Zillow_column_month = [x for x in Zillow_column_names if x[0].isdigit()]\n",
    "print(len(Zillow_column_month))\n",
    "Zillow_column_month[0]"
   ]
  },
  {
   "cell_type": "code",
   "execution_count": null,
   "metadata": {
    "collapsed": true
   },
   "outputs": [],
   "source": []
  },
  {
   "cell_type": "code",
   "execution_count": null,
   "metadata": {
    "collapsed": true
   },
   "outputs": [],
   "source": []
  },
  {
   "cell_type": "code",
   "execution_count": null,
   "metadata": {
    "collapsed": true
   },
   "outputs": [],
   "source": []
  },
  {
   "cell_type": "code",
   "execution_count": null,
   "metadata": {
    "collapsed": true
   },
   "outputs": [],
   "source": []
  },
  {
   "cell_type": "code",
   "execution_count": null,
   "metadata": {
    "collapsed": true
   },
   "outputs": [],
   "source": []
  },
  {
   "cell_type": "code",
   "execution_count": null,
   "metadata": {
    "collapsed": true
   },
   "outputs": [],
   "source": []
  },
  {
   "cell_type": "code",
   "execution_count": null,
   "metadata": {
    "collapsed": true
   },
   "outputs": [],
   "source": []
  },
  {
   "cell_type": "code",
   "execution_count": null,
   "metadata": {
    "collapsed": false
   },
   "outputs": [],
   "source": [
    "def convert_housing_data_to_quarters():\n",
    "    '''Converts the housing data to quarters and returns it as mean \n",
    "    values in a dataframe. This dataframe should be a dataframe with\n",
    "    columns for 2000q1 through 2016q3, and should have a multi-index\n",
    "    in the shape of [\"State\",\"RegionName\"].\n",
    "    \n",
    "    Note: Quarters are defined in the assignment description, they are\n",
    "    not arbitrary three month periods.\n",
    "    \n",
    "    The resulting dataframe should have 67 columns, and 10,730 rows.\n",
    "    '''\n",
    "    \n",
    "    return \"ANSWER\""
   ]
  },
  {
   "cell_type": "code",
   "execution_count": null,
   "metadata": {
    "collapsed": false
   },
   "outputs": [],
   "source": [
    "def run_ttest():\n",
    "    '''First creates new data showing the decline or growth of housing prices\n",
    "    between the recession start and the recession bottom. Then runs a ttest\n",
    "    comparing the university town values to the non-university towns values, \n",
    "    return whether the alternative hypothesis (that the two groups are the same)\n",
    "    is true or not as well as the p-value of the confidence. \n",
    "    \n",
    "    Return the tuple (different, p, better) where different=True if the t-test is\n",
    "    True at a p<0.01 (we reject the null hypothesis), or different=False if \n",
    "    otherwise (we cannot reject the null hypothesis). The variable p should\n",
    "    be equal to the exact p value returned from scipy.stats.ttest_ind(). The\n",
    "    value for better should be either \"university town\" or \"non-university town\"\n",
    "    depending on which has a lower mean price ratio (which is equivilent to a\n",
    "    reduced market loss).'''\n",
    "    \n",
    "    return \"ANSWER\""
   ]
  }
 ],
 "metadata": {
  "coursera": {
   "course_slug": "python-data-analysis",
   "graded_item_id": "Il9Fx",
   "launcher_item_id": "TeDW0",
   "part_id": "WGlun"
  },
  "kernelspec": {
   "display_name": "Python 3",
   "language": "python",
   "name": "python3"
  },
  "language_info": {
   "codemirror_mode": {
    "name": "ipython",
    "version": 3
   },
   "file_extension": ".py",
   "mimetype": "text/x-python",
   "name": "python",
   "nbconvert_exporter": "python",
   "pygments_lexer": "ipython3",
   "version": "3.5.2"
  }
 },
 "nbformat": 4,
 "nbformat_minor": 0
}
