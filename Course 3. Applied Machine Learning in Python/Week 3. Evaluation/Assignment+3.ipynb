{
 "cells": [
  {
   "cell_type": "markdown",
   "metadata": {},
   "source": [
    "---\n",
    "\n",
    "_You are currently looking at **version 1.1** of this notebook. To download notebooks and datafiles, as well as get help on Jupyter notebooks in the Coursera platform, visit the [Jupyter Notebook FAQ](https://www.coursera.org/learn/python-machine-learning/resources/bANLa) course resource._\n",
    "\n",
    "---"
   ]
  },
  {
   "cell_type": "markdown",
   "metadata": {},
   "source": [
    "# Assignment 3 - Evaluation\n",
    "\n",
    "In this assignment you will train several models and evaluate how effectively they predict instances of fraud using data based on [this dataset from Kaggle](https://www.kaggle.com/dalpozz/creditcardfraud).\n",
    " \n",
    "Each row in `fraud_data.csv` corresponds to a credit card transaction. Features include confidential variables `V1` through `V28` as well as `Amount` which is the amount of the transaction. \n",
    " \n",
    "The target is stored in the `class` column, where a value of 1 corresponds to an instance of fraud and 0 corresponds to an instance of not fraud."
   ]
  },
  {
   "cell_type": "code",
   "execution_count": 1,
   "metadata": {
    "collapsed": false
   },
   "outputs": [],
   "source": [
    "import numpy as np\n",
    "import pandas as pd"
   ]
  },
  {
   "cell_type": "markdown",
   "metadata": {},
   "source": [
    "### Question 1\n",
    "Import the data from `fraud_data.csv`. What percentage of the observations in the dataset are instances of fraud?\n",
    "\n",
    "*This function should return a float between 0 and 1.* "
   ]
  },
  {
   "cell_type": "code",
   "execution_count": 2,
   "metadata": {
    "collapsed": false
   },
   "outputs": [],
   "source": [
    "df = pd.read_csv('fraud_data.csv')"
   ]
  },
  {
   "cell_type": "code",
   "execution_count": 3,
   "metadata": {
    "collapsed": false
   },
   "outputs": [
    {
     "name": "stdout",
     "output_type": "stream",
     "text": [
      "(21693, 30)\n"
     ]
    },
    {
     "data": {
      "text/html": [
       "<div>\n",
       "<table border=\"1\" class=\"dataframe\">\n",
       "  <thead>\n",
       "    <tr style=\"text-align: right;\">\n",
       "      <th></th>\n",
       "      <th>V1</th>\n",
       "      <th>V2</th>\n",
       "      <th>V3</th>\n",
       "      <th>V4</th>\n",
       "      <th>V5</th>\n",
       "      <th>V6</th>\n",
       "      <th>V7</th>\n",
       "      <th>V8</th>\n",
       "      <th>V9</th>\n",
       "      <th>V10</th>\n",
       "      <th>...</th>\n",
       "      <th>V21</th>\n",
       "      <th>V22</th>\n",
       "      <th>V23</th>\n",
       "      <th>V24</th>\n",
       "      <th>V25</th>\n",
       "      <th>V26</th>\n",
       "      <th>V27</th>\n",
       "      <th>V28</th>\n",
       "      <th>Amount</th>\n",
       "      <th>Class</th>\n",
       "    </tr>\n",
       "  </thead>\n",
       "  <tbody>\n",
       "    <tr>\n",
       "      <th>0</th>\n",
       "      <td>1.176563</td>\n",
       "      <td>0.323798</td>\n",
       "      <td>0.536927</td>\n",
       "      <td>1.047002</td>\n",
       "      <td>-0.368652</td>\n",
       "      <td>-0.728586</td>\n",
       "      <td>0.084678</td>\n",
       "      <td>-0.069246</td>\n",
       "      <td>-0.266389</td>\n",
       "      <td>0.155315</td>\n",
       "      <td>...</td>\n",
       "      <td>-0.109627</td>\n",
       "      <td>-0.341365</td>\n",
       "      <td>0.057845</td>\n",
       "      <td>0.499180</td>\n",
       "      <td>0.415211</td>\n",
       "      <td>-0.581949</td>\n",
       "      <td>0.015472</td>\n",
       "      <td>0.018065</td>\n",
       "      <td>4.67</td>\n",
       "      <td>0</td>\n",
       "    </tr>\n",
       "    <tr>\n",
       "      <th>1</th>\n",
       "      <td>0.681109</td>\n",
       "      <td>-3.934776</td>\n",
       "      <td>-3.801827</td>\n",
       "      <td>-1.147468</td>\n",
       "      <td>-0.735540</td>\n",
       "      <td>-0.501097</td>\n",
       "      <td>1.038865</td>\n",
       "      <td>-0.626979</td>\n",
       "      <td>-2.274423</td>\n",
       "      <td>1.527782</td>\n",
       "      <td>...</td>\n",
       "      <td>0.652202</td>\n",
       "      <td>0.272684</td>\n",
       "      <td>-0.982151</td>\n",
       "      <td>0.165900</td>\n",
       "      <td>0.360251</td>\n",
       "      <td>0.195321</td>\n",
       "      <td>-0.256273</td>\n",
       "      <td>0.056501</td>\n",
       "      <td>912.00</td>\n",
       "      <td>0</td>\n",
       "    </tr>\n",
       "    <tr>\n",
       "      <th>2</th>\n",
       "      <td>1.140729</td>\n",
       "      <td>0.453484</td>\n",
       "      <td>0.247010</td>\n",
       "      <td>2.383132</td>\n",
       "      <td>0.343287</td>\n",
       "      <td>0.432804</td>\n",
       "      <td>0.093380</td>\n",
       "      <td>0.173310</td>\n",
       "      <td>-0.808999</td>\n",
       "      <td>0.775436</td>\n",
       "      <td>...</td>\n",
       "      <td>-0.003802</td>\n",
       "      <td>0.058556</td>\n",
       "      <td>-0.121177</td>\n",
       "      <td>-0.304215</td>\n",
       "      <td>0.645893</td>\n",
       "      <td>0.122600</td>\n",
       "      <td>-0.012115</td>\n",
       "      <td>-0.005945</td>\n",
       "      <td>1.00</td>\n",
       "      <td>0</td>\n",
       "    </tr>\n",
       "    <tr>\n",
       "      <th>3</th>\n",
       "      <td>-1.107073</td>\n",
       "      <td>-3.298902</td>\n",
       "      <td>-0.184092</td>\n",
       "      <td>-1.795744</td>\n",
       "      <td>2.137564</td>\n",
       "      <td>-1.684992</td>\n",
       "      <td>-2.015606</td>\n",
       "      <td>-0.007181</td>\n",
       "      <td>-0.165760</td>\n",
       "      <td>0.869659</td>\n",
       "      <td>...</td>\n",
       "      <td>0.130648</td>\n",
       "      <td>0.329445</td>\n",
       "      <td>0.927656</td>\n",
       "      <td>-0.049560</td>\n",
       "      <td>-1.892866</td>\n",
       "      <td>-0.575431</td>\n",
       "      <td>0.266573</td>\n",
       "      <td>0.414184</td>\n",
       "      <td>62.10</td>\n",
       "      <td>0</td>\n",
       "    </tr>\n",
       "    <tr>\n",
       "      <th>4</th>\n",
       "      <td>-0.314818</td>\n",
       "      <td>0.866839</td>\n",
       "      <td>-0.124577</td>\n",
       "      <td>-0.627638</td>\n",
       "      <td>2.651762</td>\n",
       "      <td>3.428128</td>\n",
       "      <td>0.194637</td>\n",
       "      <td>0.670674</td>\n",
       "      <td>-0.442658</td>\n",
       "      <td>0.133499</td>\n",
       "      <td>...</td>\n",
       "      <td>-0.312774</td>\n",
       "      <td>-0.799494</td>\n",
       "      <td>-0.064488</td>\n",
       "      <td>0.953062</td>\n",
       "      <td>-0.429550</td>\n",
       "      <td>0.158225</td>\n",
       "      <td>0.076943</td>\n",
       "      <td>-0.015051</td>\n",
       "      <td>2.67</td>\n",
       "      <td>0</td>\n",
       "    </tr>\n",
       "  </tbody>\n",
       "</table>\n",
       "<p>5 rows × 30 columns</p>\n",
       "</div>"
      ],
      "text/plain": [
       "         V1        V2        V3        V4        V5        V6        V7  \\\n",
       "0  1.176563  0.323798  0.536927  1.047002 -0.368652 -0.728586  0.084678   \n",
       "1  0.681109 -3.934776 -3.801827 -1.147468 -0.735540 -0.501097  1.038865   \n",
       "2  1.140729  0.453484  0.247010  2.383132  0.343287  0.432804  0.093380   \n",
       "3 -1.107073 -3.298902 -0.184092 -1.795744  2.137564 -1.684992 -2.015606   \n",
       "4 -0.314818  0.866839 -0.124577 -0.627638  2.651762  3.428128  0.194637   \n",
       "\n",
       "         V8        V9       V10  ...         V21       V22       V23  \\\n",
       "0 -0.069246 -0.266389  0.155315  ...   -0.109627 -0.341365  0.057845   \n",
       "1 -0.626979 -2.274423  1.527782  ...    0.652202  0.272684 -0.982151   \n",
       "2  0.173310 -0.808999  0.775436  ...   -0.003802  0.058556 -0.121177   \n",
       "3 -0.007181 -0.165760  0.869659  ...    0.130648  0.329445  0.927656   \n",
       "4  0.670674 -0.442658  0.133499  ...   -0.312774 -0.799494 -0.064488   \n",
       "\n",
       "        V24       V25       V26       V27       V28  Amount  Class  \n",
       "0  0.499180  0.415211 -0.581949  0.015472  0.018065    4.67      0  \n",
       "1  0.165900  0.360251  0.195321 -0.256273  0.056501  912.00      0  \n",
       "2 -0.304215  0.645893  0.122600 -0.012115 -0.005945    1.00      0  \n",
       "3 -0.049560 -1.892866 -0.575431  0.266573  0.414184   62.10      0  \n",
       "4  0.953062 -0.429550  0.158225  0.076943 -0.015051    2.67      0  \n",
       "\n",
       "[5 rows x 30 columns]"
      ]
     },
     "execution_count": 3,
     "metadata": {},
     "output_type": "execute_result"
    }
   ],
   "source": [
    "print(df.shape)\n",
    "df.head()"
   ]
  },
  {
   "cell_type": "code",
   "execution_count": 4,
   "metadata": {
    "collapsed": true
   },
   "outputs": [],
   "source": [
    "def answer_one():\n",
    "    \n",
    "    # Your code here\n",
    "    df = pd.read_csv('fraud_data.csv')\n",
    "    target = df['Class']\n",
    "    Count_1 = target.value_counts()[1]\n",
    "    \n",
    "    \n",
    "    return float(Count_1/len(target))\n"
   ]
  },
  {
   "cell_type": "code",
   "execution_count": 5,
   "metadata": {
    "collapsed": false
   },
   "outputs": [
    {
     "data": {
      "text/plain": [
       "0.016410823768035772"
      ]
     },
     "execution_count": 5,
     "metadata": {},
     "output_type": "execute_result"
    }
   ],
   "source": [
    "answer_one()"
   ]
  },
  {
   "cell_type": "code",
   "execution_count": 6,
   "metadata": {
    "collapsed": false
   },
   "outputs": [],
   "source": [
    "# Use X_train, X_test, y_train, y_test for all of the following questions\n",
    "from sklearn.model_selection import train_test_split\n",
    "\n",
    "df = pd.read_csv('fraud_data.csv')\n",
    "\n",
    "X = df.iloc[:,:-1]\n",
    "y = df.iloc[:,-1]\n",
    "\n",
    "X_train, X_test, y_train, y_test = train_test_split(X, y, random_state=0)"
   ]
  },
  {
   "cell_type": "code",
   "execution_count": 7,
   "metadata": {
    "collapsed": false
   },
   "outputs": [
    {
     "name": "stdout",
     "output_type": "stream",
     "text": [
      "X_train (16269, 29)\n",
      "y_train (16269,)\n",
      "X_test (5424, 29)\n",
      "y_test (5424,)\n"
     ]
    }
   ],
   "source": [
    "print('X_train',X_train.shape)\n",
    "print('y_train',y_train.shape)\n",
    "print('X_test',X_test.shape)\n",
    "print('y_test',y_test.shape)"
   ]
  },
  {
   "cell_type": "markdown",
   "metadata": {},
   "source": [
    "### Question 2\n",
    "\n",
    "Using `X_train`, `X_test`, `y_train`, and `y_test` (as defined above), train a dummy classifier that classifies everything as the majority class of the training data. What is the accuracy of this classifier? What is the recall?\n",
    "\n",
    "*This function should a return a tuple with two floats, i.e. `(accuracy score, recall score)`.*"
   ]
  },
  {
   "cell_type": "code",
   "execution_count": 8,
   "metadata": {
    "collapsed": false
   },
   "outputs": [],
   "source": [
    "def answer_two():\n",
    "    from sklearn.dummy import DummyClassifier\n",
    "    from sklearn.metrics import recall_score, accuracy_score\n",
    "    \n",
    "    # Your code here\n",
    "    dummy_majority = DummyClassifier(strategy = 'most_frequent').fit(X_train, y_train)\n",
    "    dummy_majority_pred = dummy_majority.predict(X_test)\n",
    "    \n",
    "    acc = accuracy_score(y_test, dummy_majority_pred)\n",
    "    recall = recall_score(y_test, dummy_majority_pred)\n",
    "    \n",
    "    return (float(acc),float(recall))"
   ]
  },
  {
   "cell_type": "code",
   "execution_count": 9,
   "metadata": {
    "collapsed": false
   },
   "outputs": [
    {
     "data": {
      "text/plain": [
       "(0.9852507374631269, 0.0)"
      ]
     },
     "execution_count": 9,
     "metadata": {},
     "output_type": "execute_result"
    }
   ],
   "source": [
    "answer_two()"
   ]
  },
  {
   "cell_type": "code",
   "execution_count": 10,
   "metadata": {
    "collapsed": false
   },
   "outputs": [
    {
     "data": {
      "text/plain": [
       "float"
      ]
     },
     "execution_count": 10,
     "metadata": {},
     "output_type": "execute_result"
    }
   ],
   "source": [
    "type(answer_two()[0])"
   ]
  },
  {
   "cell_type": "markdown",
   "metadata": {},
   "source": [
    "### Question 3\n",
    "\n",
    "Using X_train, X_test, y_train, y_test (as defined above), train a SVC classifer using the default parameters. What is the accuracy, recall, and precision of this classifier?\n",
    "\n",
    "*This function should a return a tuple with three floats, i.e. `(accuracy score, recall score, precision score)`.*"
   ]
  },
  {
   "cell_type": "code",
   "execution_count": 11,
   "metadata": {
    "collapsed": false
   },
   "outputs": [],
   "source": [
    "def answer_three():\n",
    "    from sklearn.metrics import recall_score, precision_score, accuracy_score\n",
    "    from sklearn.svm import SVC\n",
    "\n",
    "    # Your code here\n",
    "    svm = SVC().fit(X_train, y_train)\n",
    "    svm_predicted = svm.predict(X_test)\n",
    "    \n",
    "    acc = accuracy_score(y_test, svm_predicted)\n",
    "    precision = precision_score(y_test, svm_predicted)\n",
    "    recall = recall_score(y_test, svm_predicted)\n",
    "    \n",
    "    return (float(acc),float(recall),float(precision))"
   ]
  },
  {
   "cell_type": "markdown",
   "metadata": {},
   "source": [
    "### Question 4\n",
    "\n",
    "Using the SVC classifier with parameters `{'C': 1e9, 'gamma': 1e-07}`, what is the confusion matrix when using a threshold of -220 on the decision function. Use X_test and y_test.\n",
    "\n",
    "*This function should return a confusion matrix, a 2x2 numpy array with 4 integers.*"
   ]
  },
  {
   "cell_type": "code",
   "execution_count": 12,
   "metadata": {
    "collapsed": true
   },
   "outputs": [],
   "source": [
    "from sklearn.metrics import confusion_matrix\n",
    "from sklearn.svm import SVC"
   ]
  },
  {
   "cell_type": "code",
   "execution_count": 13,
   "metadata": {
    "collapsed": false
   },
   "outputs": [],
   "source": [
    "svm = SVC(C = 1e9,gamma = 1e-07).fit(X_train, y_train)"
   ]
  },
  {
   "cell_type": "code",
   "execution_count": 14,
   "metadata": {
    "collapsed": false
   },
   "outputs": [
    {
     "data": {
      "text/plain": [
       "array([ -739.71796843, -1086.16794833,  -696.46339735, ...,  -491.97916719,\n",
       "        -699.03838333,  -701.93409309])"
      ]
     },
     "execution_count": 14,
     "metadata": {},
     "output_type": "execute_result"
    }
   ],
   "source": [
    "svm_decision = svm.decision_function(X_test)\n",
    "svm_decision"
   ]
  },
  {
   "cell_type": "code",
   "execution_count": 15,
   "metadata": {
    "collapsed": false
   },
   "outputs": [
    {
     "data": {
      "text/plain": [
       "numpy.ndarray"
      ]
     },
     "execution_count": 15,
     "metadata": {},
     "output_type": "execute_result"
    }
   ],
   "source": [
    "type(svm_decision)"
   ]
  },
  {
   "cell_type": "code",
   "execution_count": 16,
   "metadata": {
    "collapsed": false
   },
   "outputs": [
    {
     "data": {
      "text/plain": [
       "array([ 0.,  0.,  0., ...,  0.,  0.,  0.])"
      ]
     },
     "execution_count": 16,
     "metadata": {},
     "output_type": "execute_result"
    }
   ],
   "source": [
    "svm_decision[svm_decision >= -220] = 1\n",
    "svm_decision[svm_decision < -220] = 0\n",
    "svm_decision"
   ]
  },
  {
   "cell_type": "code",
   "execution_count": 17,
   "metadata": {
    "collapsed": true
   },
   "outputs": [],
   "source": [
    "confusion = confusion_matrix(y_test, svm_decision)"
   ]
  },
  {
   "cell_type": "code",
   "execution_count": 18,
   "metadata": {
    "collapsed": false
   },
   "outputs": [
    {
     "data": {
      "text/plain": [
       "array([[5320,   24],\n",
       "       [  14,   66]])"
      ]
     },
     "execution_count": 18,
     "metadata": {},
     "output_type": "execute_result"
    }
   ],
   "source": [
    "confusion"
   ]
  },
  {
   "cell_type": "code",
   "execution_count": 19,
   "metadata": {
    "collapsed": false
   },
   "outputs": [
    {
     "data": {
      "text/plain": [
       "numpy.ndarray"
      ]
     },
     "execution_count": 19,
     "metadata": {},
     "output_type": "execute_result"
    }
   ],
   "source": [
    "type(confusion)"
   ]
  },
  {
   "cell_type": "code",
   "execution_count": 20,
   "metadata": {
    "collapsed": true
   },
   "outputs": [],
   "source": [
    "def answer_four():\n",
    "    from sklearn.metrics import confusion_matrix\n",
    "    from sklearn.svm import SVC\n",
    "\n",
    "    # Your code here\n",
    "    svm = SVC(C = 1e9,gamma = 1e-07).fit(X_train, y_train)\n",
    "    svm_decision = svm.decision_function(X_test)\n",
    "    svm_decision[svm_decision >= -220] = 1\n",
    "    svm_decision[svm_decision < -220] = 0\n",
    "    confusion = confusion_matrix(y_test, svm_decision)\n",
    "    \n",
    "    return confusion"
   ]
  },
  {
   "cell_type": "markdown",
   "metadata": {},
   "source": [
    "### Question 5\n",
    "\n",
    "Train a logisitic regression classifier with default parameters using X_train and y_train.\n",
    "\n",
    "For the logisitic regression classifier, create a precision recall curve and a roc curve using y_test and the probability estimates for X_test (probability it is fraud).\n",
    "\n",
    "Looking at the precision recall curve, what is the recall when the precision is `0.75`?\n",
    "\n",
    "Looking at the roc curve, what is the true positive rate when the false positive rate is `0.16`?\n",
    "\n",
    "*This function should return a tuple with two floats, i.e. `(recall, true positive rate)`.*"
   ]
  },
  {
   "cell_type": "code",
   "execution_count": 21,
   "metadata": {
    "collapsed": true
   },
   "outputs": [],
   "source": [
    "from sklearn.linear_model import LogisticRegression\n",
    "from sklearn.metrics import precision_recall_curve\n",
    "from sklearn.metrics import roc_curve, auc\n",
    "clf = LogisticRegression().fit(X_train, y_train)"
   ]
  },
  {
   "cell_type": "code",
   "execution_count": 22,
   "metadata": {
    "collapsed": false
   },
   "outputs": [],
   "source": [
    "y_scores_lr = clf.decision_function(X_test)\n",
    "precision, recall, thresholds = precision_recall_curve(y_test, y_scores_lr)"
   ]
  },
  {
   "cell_type": "code",
   "execution_count": 23,
   "metadata": {
    "collapsed": false
   },
   "outputs": [
    {
     "data": {
      "image/png": "[encoded data removed]",
      "text/plain": [
       "<matplotlib.figure.Figure at 0x7f02bc131630>"
      ]
     },
     "metadata": {},
     "output_type": "display_data"
    }
   ],
   "source": [
    "import matplotlib.pyplot as plt\n",
    "closest_zero = np.argmin(np.abs(thresholds))\n",
    "closest_zero_p = precision[closest_zero]\n",
    "closest_zero_r = recall[closest_zero]\n",
    "\n",
    "plt.figure()\n",
    "plt.xlim([0.0, 1.01])\n",
    "plt.ylim([0.0, 1.01])\n",
    "plt.plot(precision, recall, label='Precision-Recall Curve')\n",
    "plt.plot(closest_zero_p, closest_zero_r, 'o', markersize = 12, fillstyle = 'none', c='r', mew=3)\n",
    "plt.xlabel('Precision', fontsize=16)\n",
    "plt.ylabel('Recall', fontsize=16)\n",
    "plt.axes().set_aspect('equal')\n",
    "plt.show()"
   ]
  },
  {
   "cell_type": "code",
   "execution_count": 24,
   "metadata": {
    "collapsed": false
   },
   "outputs": [
    {
     "data": {
      "text/plain": [
       "array([ 0.825])"
      ]
     },
     "execution_count": 24,
     "metadata": {},
     "output_type": "execute_result"
    }
   ],
   "source": [
    "recall[precision==0.75]"
   ]
  },
  {
   "cell_type": "code",
   "execution_count": 25,
   "metadata": {
    "collapsed": false
   },
   "outputs": [],
   "source": [
    "fpr_lr, tpr_lr, _ = roc_curve(y_test, y_scores_lr)\n",
    "roc_auc_lr = auc(fpr_lr, tpr_lr)"
   ]
  },
  {
   "cell_type": "code",
   "execution_count": 26,
   "metadata": {
    "collapsed": false
   },
   "outputs": [
    {
     "data": {
      "image/png": "[encoded data removed]",
      "text/plain": [
       "<matplotlib.figure.Figure at 0x7f02b4d7d358>"
      ]
     },
     "metadata": {},
     "output_type": "display_data"
    }
   ],
   "source": [
    "plt.figure()\n",
    "plt.xlim([-0.01, 1.00])\n",
    "plt.ylim([-0.01, 1.01])\n",
    "plt.plot(fpr_lr, tpr_lr, lw=3, label='LogRegr ROC curve (area = {:0.2f})'.format(roc_auc_lr))\n",
    "plt.xlabel('False Positive Rate', fontsize=16)\n",
    "plt.ylabel('True Positive Rate', fontsize=16)\n",
    "plt.title('ROC curve', fontsize=16)\n",
    "plt.legend(loc='lower right', fontsize=13)\n",
    "plt.plot([0, 1], [0, 1], color='navy', lw=3, linestyle='--')\n",
    "plt.axes().set_aspect('equal')\n",
    "plt.show()"
   ]
  },
  {
   "cell_type": "code",
   "execution_count": 27,
   "metadata": {
    "collapsed": false
   },
   "outputs": [
    {
     "data": {
      "text/plain": [
       "array([  0.00000000e+00,   0.00000000e+00,   1.87125749e-04,\n",
       "         1.87125749e-04,   3.74251497e-04,   3.74251497e-04,\n",
       "         5.61377246e-04,   5.61377246e-04,   5.23952096e-03,\n",
       "         5.23952096e-03,   1.47829341e-02,   1.47829341e-02,\n",
       "         2.69461078e-02,   2.69461078e-02,   4.26646707e-02,\n",
       "         4.26646707e-02,   6.17514970e-02,   6.17514970e-02,\n",
       "         7.52245509e-02,   7.52245509e-02,   1.23315868e-01,\n",
       "         1.23315868e-01,   1.37911677e-01,   1.37911677e-01,\n",
       "         1.48577844e-01,   1.48577844e-01,   1.59618263e-01,\n",
       "         1.59618263e-01,   2.04715569e-01,   2.05276946e-01,\n",
       "         2.16878743e-01,   2.17252994e-01,   2.31287425e-01,\n",
       "         2.31287425e-01,   2.37836826e-01,   2.37836826e-01,\n",
       "         2.68899701e-01,   2.69273952e-01,   4.74738024e-01,\n",
       "         4.75112275e-01,   5.75598802e-01,   5.75598802e-01,\n",
       "         5.94498503e-01,   5.94498503e-01,   6.83757485e-01,\n",
       "         6.84131737e-01,   8.69011976e-01,   8.69386228e-01,\n",
       "         1.00000000e+00])"
      ]
     },
     "execution_count": 27,
     "metadata": {},
     "output_type": "execute_result"
    }
   ],
   "source": [
    "fpr_lr"
   ]
  },
  {
   "cell_type": "code",
   "execution_count": 28,
   "metadata": {
    "collapsed": false
   },
   "outputs": [
    {
     "data": {
      "text/plain": [
       "array([  1.60000000e-01,   1.60000000e-01,   1.59812874e-01,\n",
       "         1.59812874e-01,   1.59625749e-01,   1.59625749e-01,\n",
       "         1.59438623e-01,   1.59438623e-01,   1.54760479e-01,\n",
       "         1.54760479e-01,   1.45217066e-01,   1.45217066e-01,\n",
       "         1.33053892e-01,   1.33053892e-01,   1.17335329e-01,\n",
       "         1.17335329e-01,   9.82485030e-02,   9.82485030e-02,\n",
       "         8.47754491e-02,   8.47754491e-02,   3.66841317e-02,\n",
       "         3.66841317e-02,   2.20883234e-02,   2.20883234e-02,\n",
       "         1.14221557e-02,   1.14221557e-02,   3.81736527e-04,\n",
       "         3.81736527e-04,   4.47155689e-02,   4.52769461e-02,\n",
       "         5.68787425e-02,   5.72529940e-02,   7.12874251e-02,\n",
       "         7.12874251e-02,   7.78368263e-02,   7.78368263e-02,\n",
       "         1.08899701e-01,   1.09273952e-01,   3.14738024e-01,\n",
       "         3.15112275e-01,   4.15598802e-01,   4.15598802e-01,\n",
       "         4.34498503e-01,   4.34498503e-01,   5.23757485e-01,\n",
       "         5.24131737e-01,   7.09011976e-01,   7.09386228e-01,\n",
       "         8.40000000e-01])"
      ]
     },
     "execution_count": 28,
     "metadata": {},
     "output_type": "execute_result"
    }
   ],
   "source": [
    "abs(fpr_lr -0.16)"
   ]
  },
  {
   "cell_type": "code",
   "execution_count": 29,
   "metadata": {
    "collapsed": false
   },
   "outputs": [
    {
     "data": {
      "text/plain": [
       "0.9375"
      ]
     },
     "execution_count": 29,
     "metadata": {},
     "output_type": "execute_result"
    }
   ],
   "source": [
    "tpr_lr[np.argmin(abs(fpr_lr -0.16))]"
   ]
  },
  {
   "cell_type": "code",
   "execution_count": 30,
   "metadata": {
    "collapsed": true
   },
   "outputs": [],
   "source": [
    "def answer_five():\n",
    "        \n",
    "    # Your code here\n",
    "    from sklearn.linear_model import LogisticRegression\n",
    "    from sklearn.metrics import precision_recall_curve\n",
    "    from sklearn.metrics import roc_curve, auc\n",
    "    clf = LogisticRegression().fit(X_train, y_train)\n",
    "    \n",
    "    y_scores_lr = clf.decision_function(X_test)\n",
    "    precision, recall, thresholds = precision_recall_curve(y_test, y_scores_lr)\n",
    "    \n",
    "    pre = recall[precision==0.75]\n",
    "    fpr_lr, tpr_lr, _ = roc_curve(y_test, y_scores_lr)\n",
    "    tpr = tpr_lr[np.argmin(abs(fpr_lr -0.16))]\n",
    "    \n",
    "    return (float(pre),float(tpr))"
   ]
  },
  {
   "cell_type": "code",
   "execution_count": 31,
   "metadata": {
    "collapsed": false
   },
   "outputs": [
    {
     "data": {
      "text/plain": [
       "(0.825, 0.9375)"
      ]
     },
     "execution_count": 31,
     "metadata": {},
     "output_type": "execute_result"
    }
   ],
   "source": [
    "answer_five()"
   ]
  },
  {
   "cell_type": "markdown",
   "metadata": {},
   "source": [
    "### Question 6\n",
    "\n",
    "Perform a grid search over the parameters listed below for a Logisitic Regression classifier, using recall for scoring and the default 3-fold cross validation.\n",
    "\n",
    "`'penalty': ['l1', 'l2']`\n",
    "\n",
    "`'C':[0.01, 0.1, 1, 10, 100]`\n",
    "\n",
    "From `.cv_results_`, create an array of the mean test scores of each parameter combination. i.e.\n",
    "\n",
    "|      \t| `l1` \t| `l2` \t|\n",
    "|:----:\t|----\t|----\t|\n",
    "| **`0.01`** \t|    ?\t|   ? \t|\n",
    "| **`0.1`**  \t|    ?\t|   ? \t|\n",
    "| **`1`**    \t|    ?\t|   ? \t|\n",
    "| **`10`**   \t|    ?\t|   ? \t|\n",
    "| **`100`**   \t|    ?\t|   ? \t|\n",
    "\n",
    "<br>\n",
    "\n",
    "*This function should return a 5 by 2 numpy array with 10 floats.* \n",
    "\n",
    "*Note: do not return a DataFrame, just the values denoted by '?' above in a numpy array.*"
   ]
  },
  {
   "cell_type": "code",
   "execution_count": 32,
   "metadata": {
    "collapsed": true
   },
   "outputs": [],
   "source": [
    "from sklearn.linear_model import LogisticRegression\n",
    "from sklearn.model_selection import GridSearchCV"
   ]
  },
  {
   "cell_type": "code",
   "execution_count": 33,
   "metadata": {
    "collapsed": false
   },
   "outputs": [
    {
     "data": {
      "text/plain": [
       "GridSearchCV(cv=3, error_score='raise',\n",
       "       estimator=LogisticRegression(C=1.0, class_weight=None, dual=False, fit_intercept=True,\n",
       "          intercept_scaling=1, max_iter=100, multi_class='ovr', n_jobs=1,\n",
       "          penalty='l2', random_state=None, solver='liblinear', tol=0.0001,\n",
       "          verbose=0, warm_start=False),\n",
       "       fit_params={}, iid=True, n_jobs=1,\n",
       "       param_grid={'penalty': ['l1', 'l2'], 'C': [0.01, 0.1, 1, 10, 100]},\n",
       "       pre_dispatch='2*n_jobs', refit=True, return_train_score=True,\n",
       "       scoring='recall', verbose=0)"
      ]
     },
     "execution_count": 33,
     "metadata": {},
     "output_type": "execute_result"
    }
   ],
   "source": [
    "LG = LogisticRegression()\n",
    "grid_values = {'penalty': ['l1', 'l2'],'C':[0.01, 0.1, 1, 10, 100]}\n",
    "grid_LG_acc = GridSearchCV(LG, param_grid = grid_values, cv =3,scoring = 'recall')\n",
    "grid_LG_acc.fit(X_train, y_train)"
   ]
  },
  {
   "cell_type": "code",
   "execution_count": 34,
   "metadata": {
    "collapsed": false
   },
   "outputs": [
    {
     "data": {
      "text/plain": [
       "{'mean_fit_time': array([ 0.07337888,  0.13262955,  0.1302073 ,  0.19205658,  0.19851526,\n",
       "         0.24053351,  0.36464206,  0.27942745,  0.56348944,  0.2631789 ]),\n",
       " 'mean_score_time': array([ 0.00353352,  0.00322994,  0.00304659,  0.00394789,  0.00450754,\n",
       "         0.00315579,  0.0032386 ,  0.00301751,  0.00373133,  0.00338149]),\n",
       " 'mean_test_score': array([ 0.66666667,  0.76086957,  0.80072464,  0.80434783,  0.8115942 ,\n",
       "         0.8115942 ,  0.80797101,  0.8115942 ,  0.80797101,  0.80797101]),\n",
       " 'mean_train_score': array([ 0.68115942,  0.77355072,  0.80615942,  0.8134058 ,  0.81884058,\n",
       "         0.81702899,  0.82427536,  0.82427536,  0.82427536,  0.82427536]),\n",
       " 'param_C': masked_array(data = [0.01 0.01 0.1 0.1 1 1 10 10 100 100],\n",
       "              mask = [False False False False False False False False False False],\n",
       "        fill_value = ?),\n",
       " 'param_penalty': masked_array(data = ['l1' 'l2' 'l1' 'l2' 'l1' 'l2' 'l1' 'l2' 'l1' 'l2'],\n",
       "              mask = [False False False False False False False False False False],\n",
       "        fill_value = ?),\n",
       " 'params': ({'C': 0.01, 'penalty': 'l1'},\n",
       "  {'C': 0.01, 'penalty': 'l2'},\n",
       "  {'C': 0.1, 'penalty': 'l1'},\n",
       "  {'C': 0.1, 'penalty': 'l2'},\n",
       "  {'C': 1, 'penalty': 'l1'},\n",
       "  {'C': 1, 'penalty': 'l2'},\n",
       "  {'C': 10, 'penalty': 'l1'},\n",
       "  {'C': 10, 'penalty': 'l2'},\n",
       "  {'C': 100, 'penalty': 'l1'},\n",
       "  {'C': 100, 'penalty': 'l2'}),\n",
       " 'rank_test_score': array([10,  9,  8,  7,  2,  2,  4,  1,  4,  4], dtype=int32),\n",
       " 'split0_test_score': array([ 0.70652174,  0.80434783,  0.80434783,  0.82608696,  0.82608696,\n",
       "         0.82608696,  0.82608696,  0.83695652,  0.82608696,  0.82608696]),\n",
       " 'split0_train_score': array([ 0.69021739,  0.77173913,  0.79891304,  0.80978261,  0.82065217,\n",
       "         0.81521739,  0.82065217,  0.82065217,  0.82065217,  0.82065217]),\n",
       " 'split1_test_score': array([ 0.69565217,  0.75      ,  0.83695652,  0.83695652,  0.83695652,\n",
       "         0.83695652,  0.83695652,  0.83695652,  0.83695652,  0.83695652]),\n",
       " 'split1_train_score': array([ 0.67391304,  0.76630435,  0.79891304,  0.80434783,  0.80978261,\n",
       "         0.80978261,  0.81521739,  0.81521739,  0.81521739,  0.81521739]),\n",
       " 'split2_test_score': array([ 0.59782609,  0.72826087,  0.76086957,  0.75      ,  0.77173913,\n",
       "         0.77173913,  0.76086957,  0.76086957,  0.76086957,  0.76086957]),\n",
       " 'split2_train_score': array([ 0.67934783,  0.7826087 ,  0.82065217,  0.82608696,  0.82608696,\n",
       "         0.82608696,  0.83695652,  0.83695652,  0.83695652,  0.83695652]),\n",
       " 'std_fit_time': array([ 0.00575569,  0.00346104,  0.03917053,  0.00319181,  0.02386671,\n",
       "         0.02132988,  0.16268417,  0.03804046,  0.39131076,  0.02808342]),\n",
       " 'std_score_time': array([  5.31198675e-04,   5.78422975e-04,   5.02828508e-04,\n",
       "          5.29455086e-05,   4.98802476e-04,   1.19877268e-04,\n",
       "          5.77914352e-04,   6.36836401e-04,   1.09159570e-03,\n",
       "          3.16347585e-04]),\n",
       " 'std_test_score': array([ 0.04887948,  0.03199913,  0.03116785,  0.03868507,  0.02852901,\n",
       "         0.02852901,  0.03360007,  0.03586774,  0.03360007,  0.03360007]),\n",
       " 'std_train_score': array([ 0.00677836,  0.00677836,  0.01024792,  0.00923735,  0.00677836,\n",
       "         0.00677836,  0.00923735,  0.00923735,  0.00923735,  0.00923735])}"
      ]
     },
     "execution_count": 34,
     "metadata": {},
     "output_type": "execute_result"
    }
   ],
   "source": [
    "CV_Result = grid_LG_acc.cv_results_\n",
    "CV_Result"
   ]
  },
  {
   "cell_type": "code",
   "execution_count": 35,
   "metadata": {
    "collapsed": false
   },
   "outputs": [
    {
     "data": {
      "text/plain": [
       "0.81086956521739117"
      ]
     },
     "execution_count": 35,
     "metadata": {},
     "output_type": "execute_result"
    }
   ],
   "source": [
    "np.mean(CV_Result['split0_test_score'])"
   ]
  },
  {
   "cell_type": "code",
   "execution_count": 36,
   "metadata": {
    "collapsed": false
   },
   "outputs": [
    {
     "data": {
      "text/plain": [
       "array([ 0.66666667,  0.76086957,  0.80072464,  0.80434783,  0.8115942 ,\n",
       "        0.8115942 ,  0.80797101,  0.8115942 ,  0.80797101,  0.80797101])"
      ]
     },
     "execution_count": 36,
     "metadata": {},
     "output_type": "execute_result"
    }
   ],
   "source": [
    "CV_Result['mean_test_score']"
   ]
  },
  {
   "cell_type": "code",
   "execution_count": 37,
   "metadata": {
    "collapsed": false
   },
   "outputs": [
    {
     "data": {
      "text/plain": [
       "array([[ 0.66666667,  0.76086957],\n",
       "       [ 0.80072464,  0.80434783],\n",
       "       [ 0.8115942 ,  0.8115942 ],\n",
       "       [ 0.80797101,  0.8115942 ],\n",
       "       [ 0.80797101,  0.80797101]])"
      ]
     },
     "execution_count": 37,
     "metadata": {},
     "output_type": "execute_result"
    }
   ],
   "source": [
    "CV_Result['mean_test_score'].reshape((5, 2))"
   ]
  },
  {
   "cell_type": "code",
   "execution_count": 38,
   "metadata": {
    "collapsed": false
   },
   "outputs": [
    {
     "data": {
      "text/plain": [
       "numpy.ndarray"
      ]
     },
     "execution_count": 38,
     "metadata": {},
     "output_type": "execute_result"
    }
   ],
   "source": [
    "ans = np.array(CV_Result['mean_test_score'].reshape((5, 2)))\n",
    "type(ans)"
   ]
  },
  {
   "cell_type": "code",
   "execution_count": 39,
   "metadata": {
    "collapsed": true
   },
   "outputs": [],
   "source": [
    "def answer_six():    \n",
    "    from sklearn.model_selection import GridSearchCV\n",
    "    from sklearn.linear_model import LogisticRegression\n",
    "\n",
    "    # Your code here\n",
    "    LG = LogisticRegression()\n",
    "    grid_values = {'penalty': ['l1', 'l2'],'C':[0.01, 0.1, 1, 10, 100]}\n",
    "    grid_LG_acc = GridSearchCV(LG, param_grid = grid_values, cv =3,scoring = 'recall')\n",
    "    grid_LG_acc.fit(X_train, y_train)\n",
    "    \n",
    "    CV_Result = grid_LG_acc.cv_results_\n",
    "    \n",
    "    return CV_Result['mean_test_score'].reshape((5, 2))"
   ]
  },
  {
   "cell_type": "code",
   "execution_count": 40,
   "metadata": {
    "collapsed": false
   },
   "outputs": [
    {
     "data": {
      "text/plain": [
       "array([[ 0.66666667,  0.76086957],\n",
       "       [ 0.80072464,  0.80434783],\n",
       "       [ 0.8115942 ,  0.8115942 ],\n",
       "       [ 0.80797101,  0.8115942 ],\n",
       "       [ 0.80797101,  0.80797101]])"
      ]
     },
     "execution_count": 40,
     "metadata": {},
     "output_type": "execute_result"
    }
   ],
   "source": [
    "answer_six()"
   ]
  },
  {
   "cell_type": "code",
   "execution_count": 41,
   "metadata": {
    "collapsed": false
   },
   "outputs": [
    {
     "data": {
      "text/plain": [
       "numpy.float64"
      ]
     },
     "execution_count": 41,
     "metadata": {},
     "output_type": "execute_result"
    }
   ],
   "source": [
    "type(answer_six()[0,0])"
   ]
  },
  {
   "cell_type": "code",
   "execution_count": 42,
   "metadata": {
    "collapsed": false
   },
   "outputs": [
    {
     "data": {
      "application/javascript": [
       "/* Put everything inside the global mpl namespace */\n",
       "window.mpl = {};\n",
       "\n",
       "\n",
       "mpl.get_websocket_type = function() {\n",
       "    if (typeof(WebSocket) !== 'undefined') {\n",
       "        return WebSocket;\n",
       "    } else if (typeof(MozWebSocket) !== 'undefined') {\n",
       "        return MozWebSocket;\n",
       "    } else {\n",
       "        alert('Your browser does not have WebSocket support.' +\n",
       "              'Please try Chrome, Safari or Firefox ≥ 6. ' +\n",
       "              'Firefox 4 and 5 are also supported but you ' +\n",
       "              'have to enable WebSockets in about:config.');\n",
       "    };\n",
       "}\n",
       "\n",
       "mpl.figure = function(figure_id, websocket, ondownload, parent_element) {\n",
       "    this.id = figure_id;\n",
       "\n",
       "    this.ws = websocket;\n",
       "\n",
       "    this.supports_binary = (this.ws.binaryType != undefined);\n",
       "\n",
       "    if (!this.supports_binary) {\n",
       "        var warnings = document.getElementById(\"mpl-warnings\");\n",
       "        if (warnings) {\n",
       "            warnings.style.display = 'block';\n",
       "            warnings.textContent = (\n",
       "                \"This browser does not support binary websocket messages. \" +\n",
       "                    \"Performance may be slow.\");\n",
       "        }\n",
       "    }\n",
       "\n",
       "    this.imageObj = new Image();\n",
       "\n",
       "    this.context = undefined;\n",
       "    this.message = undefined;\n",
       "    this.canvas = undefined;\n",
       "    this.rubberband_canvas = undefined;\n",
       "    this.rubberband_context = undefined;\n",
       "    this.format_dropdown = undefined;\n",
       "\n",
       "    this.image_mode = 'full';\n",
       "\n",
       "    this.root = $('<div/>');\n",
       "    this._root_extra_style(this.root)\n",
       "    this.root.attr('style', 'display: inline-block');\n",
       "\n",
       "    $(parent_element).append(this.root);\n",
       "\n",
       "    this._init_header(this);\n",
       "    this._init_canvas(this);\n",
       "    this._init_toolbar(this);\n",
       "\n",
       "    var fig = this;\n",
       "\n",
       "    this.waiting = false;\n",
       "\n",
       "    this.ws.onopen =  function () {\n",
       "            fig.send_message(\"supports_binary\", {value: fig.supports_binary});\n",
       "            fig.send_message(\"send_image_mode\", {});\n",
       "            if (mpl.ratio != 1) {\n",
       "                fig.send_message(\"set_dpi_ratio\", {'dpi_ratio': mpl.ratio});\n",
       "            }\n",
       "            fig.send_message(\"refresh\", {});\n",
       "        }\n",
       "\n",
       "    this.imageObj.onload = function() {\n",
       "            if (fig.image_mode == 'full') {\n",
       "                // Full images could contain transparency (where diff images\n",
       "                // almost always do), so we need to clear the canvas so that\n",
       "                // there is no ghosting.\n",
       "                fig.context.clearRect(0, 0, fig.canvas.width, fig.canvas.height);\n",
       "            }\n",
       "            fig.context.drawImage(fig.imageObj, 0, 0);\n",
       "        };\n",
       "\n",
       "    this.imageObj.onunload = function() {\n",
       "        this.ws.close();\n",
       "    }\n",
       "\n",
       "    this.ws.onmessage = this._make_on_message_function(this);\n",
       "\n",
       "    this.ondownload = ondownload;\n",
       "}\n",
       "\n",
       "mpl.figure.prototype._init_header = function() {\n",
       "    var titlebar = $(\n",
       "        '<div class=\"ui-dialog-titlebar ui-widget-header ui-corner-all ' +\n",
       "        'ui-helper-clearfix\"/>');\n",
       "    var titletext = $(\n",
       "        '<div class=\"ui-dialog-title\" style=\"width: 100%; ' +\n",
       "        'text-align: center; padding: 3px;\"/>');\n",
       "    titlebar.append(titletext)\n",
       "    this.root.append(titlebar);\n",
       "    this.header = titletext[0];\n",
       "}\n",
       "\n",
       "\n",
       "\n",
       "mpl.figure.prototype._canvas_extra_style = function(canvas_div) {\n",
       "\n",
       "}\n",
       "\n",
       "\n",
       "mpl.figure.prototype._root_extra_style = function(canvas_div) {\n",
       "\n",
       "}\n",
       "\n",
       "mpl.figure.prototype._init_canvas = function() {\n",
       "    var fig = this;\n",
       "\n",
       "    var canvas_div = $('<div/>');\n",
       "\n",
       "    canvas_div.attr('style', 'position: relative; clear: both; outline: 0');\n",
       "\n",
       "    function canvas_keyboard_event(event) {\n",
       "        return fig.key_event(event, event['data']);\n",
       "    }\n",
       "\n",
       "    canvas_div.keydown('key_press', canvas_keyboard_event);\n",
       "    canvas_div.keyup('key_release', canvas_keyboard_event);\n",
       "    this.canvas_div = canvas_div\n",
       "    this._canvas_extra_style(canvas_div)\n",
       "    this.root.append(canvas_div);\n",
       "\n",
       "    var canvas = $('<canvas/>');\n",
       "    canvas.addClass('mpl-canvas');\n",
       "    canvas.attr('style', \"left: 0; top: 0; z-index: 0; outline: 0\")\n",
       "\n",
       "    this.canvas = canvas[0];\n",
       "    this.context = canvas[0].getContext(\"2d\");\n",
       "\n",
       "    var backingStore = this.context.backingStorePixelRatio ||\n",
       "\tthis.context.webkitBackingStorePixelRatio ||\n",
       "\tthis.context.mozBackingStorePixelRatio ||\n",
       "\tthis.context.msBackingStorePixelRatio ||\n",
       "\tthis.context.oBackingStorePixelRatio ||\n",
       "\tthis.context.backingStorePixelRatio || 1;\n",
       "\n",
       "    mpl.ratio = (window.devicePixelRatio || 1) / backingStore;\n",
       "\n",
       "    var rubberband = $('<canvas/>');\n",
       "    rubberband.attr('style', \"position: absolute; left: 0; top: 0; z-index: 1;\")\n",
       "\n",
       "    var pass_mouse_events = true;\n",
       "\n",
       "    canvas_div.resizable({\n",
       "        start: function(event, ui) {\n",
       "            pass_mouse_events = false;\n",
       "        },\n",
       "        resize: function(event, ui) {\n",
       "            fig.request_resize(ui.size.width, ui.size.height);\n",
       "        },\n",
       "        stop: function(event, ui) {\n",
       "            pass_mouse_events = true;\n",
       "            fig.request_resize(ui.size.width, ui.size.height);\n",
       "        },\n",
       "    });\n",
       "\n",
       "    function mouse_event_fn(event) {\n",
       "        if (pass_mouse_events)\n",
       "            return fig.mouse_event(event, event['data']);\n",
       "    }\n",
       "\n",
       "    rubberband.mousedown('button_press', mouse_event_fn);\n",
       "    rubberband.mouseup('button_release', mouse_event_fn);\n",
       "    // Throttle sequential mouse events to 1 every 20ms.\n",
       "    rubberband.mousemove('motion_notify', mouse_event_fn);\n",
       "\n",
       "    rubberband.mouseenter('figure_enter', mouse_event_fn);\n",
       "    rubberband.mouseleave('figure_leave', mouse_event_fn);\n",
       "\n",
       "    canvas_div.on(\"wheel\", function (event) {\n",
       "        event = event.originalEvent;\n",
       "        event['data'] = 'scroll'\n",
       "        if (event.deltaY < 0) {\n",
       "            event.step = 1;\n",
       "        } else {\n",
       "            event.step = -1;\n",
       "        }\n",
       "        mouse_event_fn(event);\n",
       "    });\n",
       "\n",
       "    canvas_div.append(canvas);\n",
       "    canvas_div.append(rubberband);\n",
       "\n",
       "    this.rubberband = rubberband;\n",
       "    this.rubberband_canvas = rubberband[0];\n",
       "    this.rubberband_context = rubberband[0].getContext(\"2d\");\n",
       "    this.rubberband_context.strokeStyle = \"#000000\";\n",
       "\n",
       "    this._resize_canvas = function(width, height) {\n",
       "        // Keep the size of the canvas, canvas container, and rubber band\n",
       "        // canvas in synch.\n",
       "        canvas_div.css('width', width)\n",
       "        canvas_div.css('height', height)\n",
       "\n",
       "        canvas.attr('width', width * mpl.ratio);\n",
       "        canvas.attr('height', height * mpl.ratio);\n",
       "        canvas.attr('style', 'width: ' + width + 'px; height: ' + height + 'px;');\n",
       "\n",
       "        rubberband.attr('width', width);\n",
       "        rubberband.attr('height', height);\n",
       "    }\n",
       "\n",
       "    // Set the figure to an initial 600x600px, this will subsequently be updated\n",
       "    // upon first draw.\n",
       "    this._resize_canvas(600, 600);\n",
       "\n",
       "    // Disable right mouse context menu.\n",
       "    $(this.rubberband_canvas).bind(\"contextmenu\",function(e){\n",
       "        return false;\n",
       "    });\n",
       "\n",
       "    function set_focus () {\n",
       "        canvas.focus();\n",
       "        canvas_div.focus();\n",
       "    }\n",
       "\n",
       "    window.setTimeout(set_focus, 100);\n",
       "}\n",
       "\n",
       "mpl.figure.prototype._init_toolbar = function() {\n",
       "    var fig = this;\n",
       "\n",
       "    var nav_element = $('<div/>')\n",
       "    nav_element.attr('style', 'width: 100%');\n",
       "    this.root.append(nav_element);\n",
       "\n",
       "    // Define a callback function for later on.\n",
       "    function toolbar_event(event) {\n",
       "        return fig.toolbar_button_onclick(event['data']);\n",
       "    }\n",
       "    function toolbar_mouse_event(event) {\n",
       "        return fig.toolbar_button_onmouseover(event['data']);\n",
       "    }\n",
       "\n",
       "    for(var toolbar_ind in mpl.toolbar_items) {\n",
       "        var name = mpl.toolbar_items[toolbar_ind][0];\n",
       "        var tooltip = mpl.toolbar_items[toolbar_ind][1];\n",
       "        var image = mpl.toolbar_items[toolbar_ind][2];\n",
       "        var method_name = mpl.toolbar_items[toolbar_ind][3];\n",
       "\n",
       "        if (!name) {\n",
       "            // put a spacer in here.\n",
       "            continue;\n",
       "        }\n",
       "        var button = $('<button/>');\n",
       "        button.addClass('ui-button ui-widget ui-state-default ui-corner-all ' +\n",
       "                        'ui-button-icon-only');\n",
       "        button.attr('role', 'button');\n",
       "        button.attr('aria-disabled', 'false');\n",
       "        button.click(method_name, toolbar_event);\n",
       "        button.mouseover(tooltip, toolbar_mouse_event);\n",
       "\n",
       "        var icon_img = $('<span/>');\n",
       "        icon_img.addClass('ui-button-icon-primary ui-icon');\n",
       "        icon_img.addClass(image);\n",
       "        icon_img.addClass('ui-corner-all');\n",
       "\n",
       "        var tooltip_span = $('<span/>');\n",
       "        tooltip_span.addClass('ui-button-text');\n",
       "        tooltip_span.html(tooltip);\n",
       "\n",
       "        button.append(icon_img);\n",
       "        button.append(tooltip_span);\n",
       "\n",
       "        nav_element.append(button);\n",
       "    }\n",
       "\n",
       "    var fmt_picker_span = $('<span/>');\n",
       "\n",
       "    var fmt_picker = $('<select/>');\n",
       "    fmt_picker.addClass('mpl-toolbar-option ui-widget ui-widget-content');\n",
       "    fmt_picker_span.append(fmt_picker);\n",
       "    nav_element.append(fmt_picker_span);\n",
       "    this.format_dropdown = fmt_picker[0];\n",
       "\n",
       "    for (var ind in mpl.extensions) {\n",
       "        var fmt = mpl.extensions[ind];\n",
       "        var option = $(\n",
       "            '<option/>', {selected: fmt === mpl.default_extension}).html(fmt);\n",
       "        fmt_picker.append(option)\n",
       "    }\n",
       "\n",
       "    // Add hover states to the ui-buttons\n",
       "    $( \".ui-button\" ).hover(\n",
       "        function() { $(this).addClass(\"ui-state-hover\");},\n",
       "        function() { $(this).removeClass(\"ui-state-hover\");}\n",
       "    );\n",
       "\n",
       "    var status_bar = $('<span class=\"mpl-message\"/>');\n",
       "    nav_element.append(status_bar);\n",
       "    this.message = status_bar[0];\n",
       "}\n",
       "\n",
       "mpl.figure.prototype.request_resize = function(x_pixels, y_pixels) {\n",
       "    // Request matplotlib to resize the figure. Matplotlib will then trigger a resize in the client,\n",
       "    // which will in turn request a refresh of the image.\n",
       "    this.send_message('resize', {'width': x_pixels, 'height': y_pixels});\n",
       "}\n",
       "\n",
       "mpl.figure.prototype.send_message = function(type, properties) {\n",
       "    properties['type'] = type;\n",
       "    properties['figure_id'] = this.id;\n",
       "    this.ws.send(JSON.stringify(properties));\n",
       "}\n",
       "\n",
       "mpl.figure.prototype.send_draw_message = function() {\n",
       "    if (!this.waiting) {\n",
       "        this.waiting = true;\n",
       "        this.ws.send(JSON.stringify({type: \"draw\", figure_id: this.id}));\n",
       "    }\n",
       "}\n",
       "\n",
       "\n",
       "mpl.figure.prototype.handle_save = function(fig, msg) {\n",
       "    var format_dropdown = fig.format_dropdown;\n",
       "    var format = format_dropdown.options[format_dropdown.selectedIndex].value;\n",
       "    fig.ondownload(fig, format);\n",
       "}\n",
       "\n",
       "\n",
       "mpl.figure.prototype.handle_resize = function(fig, msg) {\n",
       "    var size = msg['size'];\n",
       "    if (size[0] != fig.canvas.width || size[1] != fig.canvas.height) {\n",
       "        fig._resize_canvas(size[0], size[1]);\n",
       "        fig.send_message(\"refresh\", {});\n",
       "    };\n",
       "}\n",
       "\n",
       "mpl.figure.prototype.handle_rubberband = function(fig, msg) {\n",
       "    var x0 = msg['x0'] / mpl.ratio;\n",
       "    var y0 = (fig.canvas.height - msg['y0']) / mpl.ratio;\n",
       "    var x1 = msg['x1'] / mpl.ratio;\n",
       "    var y1 = (fig.canvas.height - msg['y1']) / mpl.ratio;\n",
       "    x0 = Math.floor(x0) + 0.5;\n",
       "    y0 = Math.floor(y0) + 0.5;\n",
       "    x1 = Math.floor(x1) + 0.5;\n",
       "    y1 = Math.floor(y1) + 0.5;\n",
       "    var min_x = Math.min(x0, x1);\n",
       "    var min_y = Math.min(y0, y1);\n",
       "    var width = Math.abs(x1 - x0);\n",
       "    var height = Math.abs(y1 - y0);\n",
       "\n",
       "    fig.rubberband_context.clearRect(\n",
       "        0, 0, fig.canvas.width, fig.canvas.height);\n",
       "\n",
       "    fig.rubberband_context.strokeRect(min_x, min_y, width, height);\n",
       "}\n",
       "\n",
       "mpl.figure.prototype.handle_figure_label = function(fig, msg) {\n",
       "    // Updates the figure title.\n",
       "    fig.header.textContent = msg['label'];\n",
       "}\n",
       "\n",
       "mpl.figure.prototype.handle_cursor = function(fig, msg) {\n",
       "    var cursor = msg['cursor'];\n",
       "    switch(cursor)\n",
       "    {\n",
       "    case 0:\n",
       "        cursor = 'pointer';\n",
       "        break;\n",
       "    case 1:\n",
       "        cursor = 'default';\n",
       "        break;\n",
       "    case 2:\n",
       "        cursor = 'crosshair';\n",
       "        break;\n",
       "    case 3:\n",
       "        cursor = 'move';\n",
       "        break;\n",
       "    }\n",
       "    fig.rubberband_canvas.style.cursor = cursor;\n",
       "}\n",
       "\n",
       "mpl.figure.prototype.handle_message = function(fig, msg) {\n",
       "    fig.message.textContent = msg['message'];\n",
       "}\n",
       "\n",
       "mpl.figure.prototype.handle_draw = function(fig, msg) {\n",
       "    // Request the server to send over a new figure.\n",
       "    fig.send_draw_message();\n",
       "}\n",
       "\n",
       "mpl.figure.prototype.handle_image_mode = function(fig, msg) {\n",
       "    fig.image_mode = msg['mode'];\n",
       "}\n",
       "\n",
       "mpl.figure.prototype.updated_canvas_event = function() {\n",
       "    // Called whenever the canvas gets updated.\n",
       "    this.send_message(\"ack\", {});\n",
       "}\n",
       "\n",
       "// A function to construct a web socket function for onmessage handling.\n",
       "// Called in the figure constructor.\n",
       "mpl.figure.prototype._make_on_message_function = function(fig) {\n",
       "    return function socket_on_message(evt) {\n",
       "        if (evt.data instanceof Blob) {\n",
       "            /* FIXME: We get \"Resource interpreted as Image but\n",
       "             * transferred with MIME type text/plain:\" errors on\n",
       "             * Chrome.  But how to set the MIME type?  It doesn't seem\n",
       "             * to be part of the websocket stream */\n",
       "            evt.data.type = \"image/png\";\n",
       "\n",
       "            /* Free the memory for the previous frames */\n",
       "            if (fig.imageObj.src) {\n",
       "                (window.URL || window.webkitURL).revokeObjectURL(\n",
       "                    fig.imageObj.src);\n",
       "            }\n",
       "\n",
       "            fig.imageObj.src = (window.URL || window.webkitURL).createObjectURL(\n",
       "                evt.data);\n",
       "            fig.updated_canvas_event();\n",
       "            fig.waiting = false;\n",
       "            return;\n",
       "        }\n",
       "        else if (typeof evt.data === 'string' && evt.data.slice(0, 21) == \"data:image/png;base64\") {\n",
       "            fig.imageObj.src = evt.data;\n",
       "            fig.updated_canvas_event();\n",
       "            fig.waiting = false;\n",
       "            return;\n",
       "        }\n",
       "\n",
       "        var msg = JSON.parse(evt.data);\n",
       "        var msg_type = msg['type'];\n",
       "\n",
       "        // Call the  \"handle_{type}\" callback, which takes\n",
       "        // the figure and JSON message as its only arguments.\n",
       "        try {\n",
       "            var callback = fig[\"handle_\" + msg_type];\n",
       "        } catch (e) {\n",
       "            console.log(\"No handler for the '\" + msg_type + \"' message type: \", msg);\n",
       "            return;\n",
       "        }\n",
       "\n",
       "        if (callback) {\n",
       "            try {\n",
       "                // console.log(\"Handling '\" + msg_type + \"' message: \", msg);\n",
       "                callback(fig, msg);\n",
       "            } catch (e) {\n",
       "                console.log(\"Exception inside the 'handler_\" + msg_type + \"' callback:\", e, e.stack, msg);\n",
       "            }\n",
       "        }\n",
       "    };\n",
       "}\n",
       "\n",
       "// from http://stackoverflow.com/questions/1114465/getting-mouse-location-in-canvas\n",
       "mpl.findpos = function(e) {\n",
       "    //this section is from http://www.quirksmode.org/js/events_properties.html\n",
       "    var targ;\n",
       "    if (!e)\n",
       "        e = window.event;\n",
       "    if (e.target)\n",
       "        targ = e.target;\n",
       "    else if (e.srcElement)\n",
       "        targ = e.srcElement;\n",
       "    if (targ.nodeType == 3) // defeat Safari bug\n",
       "        targ = targ.parentNode;\n",
       "\n",
       "    // jQuery normalizes the pageX and pageY\n",
       "    // pageX,Y are the mouse positions relative to the document\n",
       "    // offset() returns the position of the element relative to the document\n",
       "    var x = e.pageX - $(targ).offset().left;\n",
       "    var y = e.pageY - $(targ).offset().top;\n",
       "\n",
       "    return {\"x\": x, \"y\": y};\n",
       "};\n",
       "\n",
       "/*\n",
       " * return a copy of an object with only non-object keys\n",
       " * we need this to avoid circular references\n",
       " * http://stackoverflow.com/a/24161582/3208463\n",
       " */\n",
       "function simpleKeys (original) {\n",
       "  return Object.keys(original).reduce(function (obj, key) {\n",
       "    if (typeof original[key] !== 'object')\n",
       "        obj[key] = original[key]\n",
       "    return obj;\n",
       "  }, {});\n",
       "}\n",
       "\n",
       "mpl.figure.prototype.mouse_event = function(event, name) {\n",
       "    var canvas_pos = mpl.findpos(event)\n",
       "\n",
       "    if (name === 'button_press')\n",
       "    {\n",
       "        this.canvas.focus();\n",
       "        this.canvas_div.focus();\n",
       "    }\n",
       "\n",
       "    var x = canvas_pos.x * mpl.ratio;\n",
       "    var y = canvas_pos.y * mpl.ratio;\n",
       "\n",
       "    this.send_message(name, {x: x, y: y, button: event.button,\n",
       "                             step: event.step,\n",
       "                             guiEvent: simpleKeys(event)});\n",
       "\n",
       "    /* This prevents the web browser from automatically changing to\n",
       "     * the text insertion cursor when the button is pressed.  We want\n",
       "     * to control all of the cursor setting manually through the\n",
       "     * 'cursor' event from matplotlib */\n",
       "    event.preventDefault();\n",
       "    return false;\n",
       "}\n",
       "\n",
       "mpl.figure.prototype._key_event_extra = function(event, name) {\n",
       "    // Handle any extra behaviour associated with a key event\n",
       "}\n",
       "\n",
       "mpl.figure.prototype.key_event = function(event, name) {\n",
       "\n",
       "    // Prevent repeat events\n",
       "    if (name == 'key_press')\n",
       "    {\n",
       "        if (event.which === this._key)\n",
       "            return;\n",
       "        else\n",
       "            this._key = event.which;\n",
       "    }\n",
       "    if (name == 'key_release')\n",
       "        this._key = null;\n",
       "\n",
       "    var value = '';\n",
       "    if (event.ctrlKey && event.which != 17)\n",
       "        value += \"ctrl+\";\n",
       "    if (event.altKey && event.which != 18)\n",
       "        value += \"alt+\";\n",
       "    if (event.shiftKey && event.which != 16)\n",
       "        value += \"shift+\";\n",
       "\n",
       "    value += 'k';\n",
       "    value += event.which.toString();\n",
       "\n",
       "    this._key_event_extra(event, name);\n",
       "\n",
       "    this.send_message(name, {key: value,\n",
       "                             guiEvent: simpleKeys(event)});\n",
       "    return false;\n",
       "}\n",
       "\n",
       "mpl.figure.prototype.toolbar_button_onclick = function(name) {\n",
       "    if (name == 'download') {\n",
       "        this.handle_save(this, null);\n",
       "    } else {\n",
       "        this.send_message(\"toolbar_button\", {name: name});\n",
       "    }\n",
       "};\n",
       "\n",
       "mpl.figure.prototype.toolbar_button_onmouseover = function(tooltip) {\n",
       "    this.message.textContent = tooltip;\n",
       "};\n",
       "mpl.toolbar_items = [[\"Home\", \"Reset original view\", \"fa fa-home icon-home\", \"home\"], [\"Back\", \"Back to  previous view\", \"fa fa-arrow-left icon-arrow-left\", \"back\"], [\"Forward\", \"Forward to next view\", \"fa fa-arrow-right icon-arrow-right\", \"forward\"], [\"\", \"\", \"\", \"\"], [\"Pan\", \"Pan axes with left mouse, zoom with right\", \"fa fa-arrows icon-move\", \"pan\"], [\"Zoom\", \"Zoom to rectangle\", \"fa fa-square-o icon-check-empty\", \"zoom\"], [\"\", \"\", \"\", \"\"], [\"Download\", \"Download plot\", \"fa fa-floppy-o icon-save\", \"download\"]];\n",
       "\n",
       "mpl.extensions = [\"eps\", \"jpeg\", \"pdf\", \"png\", \"ps\", \"raw\", \"svg\", \"tif\"];\n",
       "\n",
       "mpl.default_extension = \"png\";var comm_websocket_adapter = function(comm) {\n",
       "    // Create a \"websocket\"-like object which calls the given IPython comm\n",
       "    // object with the appropriate methods. Currently this is a non binary\n",
       "    // socket, so there is still some room for performance tuning.\n",
       "    var ws = {};\n",
       "\n",
       "    ws.close = function() {\n",
       "        comm.close()\n",
       "    };\n",
       "    ws.send = function(m) {\n",
       "        //console.log('sending', m);\n",
       "        comm.send(m);\n",
       "    };\n",
       "    // Register the callback with on_msg.\n",
       "    comm.on_msg(function(msg) {\n",
       "        //console.log('receiving', msg['content']['data'], msg);\n",
       "        // Pass the mpl event to the overriden (by mpl) onmessage function.\n",
       "        ws.onmessage(msg['content']['data'])\n",
       "    });\n",
       "    return ws;\n",
       "}\n",
       "\n",
       "mpl.mpl_figure_comm = function(comm, msg) {\n",
       "    // This is the function which gets called when the mpl process\n",
       "    // starts-up an IPython Comm through the \"matplotlib\" channel.\n",
       "\n",
       "    var id = msg.content.data.id;\n",
       "    // Get hold of the div created by the display call when the Comm\n",
       "    // socket was opened in Python.\n",
       "    var element = $(\"#\" + id);\n",
       "    var ws_proxy = comm_websocket_adapter(comm)\n",
       "\n",
       "    function ondownload(figure, format) {\n",
       "        window.open(figure.imageObj.src);\n",
       "    }\n",
       "\n",
       "    var fig = new mpl.figure(id, ws_proxy,\n",
       "                           ondownload,\n",
       "                           element.get(0));\n",
       "\n",
       "    // Call onopen now - mpl needs it, as it is assuming we've passed it a real\n",
       "    // web socket which is closed, not our websocket->open comm proxy.\n",
       "    ws_proxy.onopen();\n",
       "\n",
       "    fig.parent_element = element.get(0);\n",
       "    fig.cell_info = mpl.find_output_cell(\"<div id='\" + id + \"'></div>\");\n",
       "    if (!fig.cell_info) {\n",
       "        console.error(\"Failed to find cell for figure\", id, fig);\n",
       "        return;\n",
       "    }\n",
       "\n",
       "    var output_index = fig.cell_info[2]\n",
       "    var cell = fig.cell_info[0];\n",
       "\n",
       "};\n",
       "\n",
       "mpl.figure.prototype.handle_close = function(fig, msg) {\n",
       "    var width = fig.canvas.width/mpl.ratio\n",
       "    fig.root.unbind('remove')\n",
       "\n",
       "    // Update the output cell to use the data from the current canvas.\n",
       "    fig.push_to_output();\n",
       "    var dataURL = fig.canvas.toDataURL();\n",
       "    // Re-enable the keyboard manager in IPython - without this line, in FF,\n",
       "    // the notebook keyboard shortcuts fail.\n",
       "    IPython.keyboard_manager.enable()\n",
       "    $(fig.parent_element).html('<img src=\"' + dataURL + '\" width=\"' + width + '\">');\n",
       "    fig.close_ws(fig, msg);\n",
       "}\n",
       "\n",
       "mpl.figure.prototype.close_ws = function(fig, msg){\n",
       "    fig.send_message('closing', msg);\n",
       "    // fig.ws.close()\n",
       "}\n",
       "\n",
       "mpl.figure.prototype.push_to_output = function(remove_interactive) {\n",
       "    // Turn the data on the canvas into data in the output cell.\n",
       "    var width = this.canvas.width/mpl.ratio\n",
       "    var dataURL = this.canvas.toDataURL();\n",
       "    this.cell_info[1]['text/html'] = '<img src=\"' + dataURL + '\" width=\"' + width + '\">';\n",
       "}\n",
       "\n",
       "mpl.figure.prototype.updated_canvas_event = function() {\n",
       "    // Tell IPython that the notebook contents must change.\n",
       "    IPython.notebook.set_dirty(true);\n",
       "    this.send_message(\"ack\", {});\n",
       "    var fig = this;\n",
       "    // Wait a second, then push the new image to the DOM so\n",
       "    // that it is saved nicely (might be nice to debounce this).\n",
       "    setTimeout(function () { fig.push_to_output() }, 1000);\n",
       "}\n",
       "\n",
       "mpl.figure.prototype._init_toolbar = function() {\n",
       "    var fig = this;\n",
       "\n",
       "    var nav_element = $('<div/>')\n",
       "    nav_element.attr('style', 'width: 100%');\n",
       "    this.root.append(nav_element);\n",
       "\n",
       "    // Define a callback function for later on.\n",
       "    function toolbar_event(event) {\n",
       "        return fig.toolbar_button_onclick(event['data']);\n",
       "    }\n",
       "    function toolbar_mouse_event(event) {\n",
       "        return fig.toolbar_button_onmouseover(event['data']);\n",
       "    }\n",
       "\n",
       "    for(var toolbar_ind in mpl.toolbar_items){\n",
       "        var name = mpl.toolbar_items[toolbar_ind][0];\n",
       "        var tooltip = mpl.toolbar_items[toolbar_ind][1];\n",
       "        var image = mpl.toolbar_items[toolbar_ind][2];\n",
       "        var method_name = mpl.toolbar_items[toolbar_ind][3];\n",
       "\n",
       "        if (!name) { continue; };\n",
       "\n",
       "        var button = $('<button class=\"btn btn-default\" href=\"#\" title=\"' + name + '\"><i class=\"fa ' + image + ' fa-lg\"></i></button>');\n",
       "        button.click(method_name, toolbar_event);\n",
       "        button.mouseover(tooltip, toolbar_mouse_event);\n",
       "        nav_element.append(button);\n",
       "    }\n",
       "\n",
       "    // Add the status bar.\n",
       "    var status_bar = $('<span class=\"mpl-message\" style=\"text-align:right; float: right;\"/>');\n",
       "    nav_element.append(status_bar);\n",
       "    this.message = status_bar[0];\n",
       "\n",
       "    // Add the close button to the window.\n",
       "    var buttongrp = $('<div class=\"btn-group inline pull-right\"></div>');\n",
       "    var button = $('<button class=\"btn btn-mini btn-primary\" href=\"#\" title=\"Stop Interaction\"><i class=\"fa fa-power-off icon-remove icon-large\"></i></button>');\n",
       "    button.click(function (evt) { fig.handle_close(fig, {}); } );\n",
       "    button.mouseover('Stop Interaction', toolbar_mouse_event);\n",
       "    buttongrp.append(button);\n",
       "    var titlebar = this.root.find($('.ui-dialog-titlebar'));\n",
       "    titlebar.prepend(buttongrp);\n",
       "}\n",
       "\n",
       "mpl.figure.prototype._root_extra_style = function(el){\n",
       "    var fig = this\n",
       "    el.on(\"remove\", function(){\n",
       "\tfig.close_ws(fig, {});\n",
       "    });\n",
       "}\n",
       "\n",
       "mpl.figure.prototype._canvas_extra_style = function(el){\n",
       "    // this is important to make the div 'focusable\n",
       "    el.attr('tabindex', 0)\n",
       "    // reach out to IPython and tell the keyboard manager to turn it's self\n",
       "    // off when our div gets focus\n",
       "\n",
       "    // location in version 3\n",
       "    if (IPython.notebook.keyboard_manager) {\n",
       "        IPython.notebook.keyboard_manager.register_events(el);\n",
       "    }\n",
       "    else {\n",
       "        // location in version 2\n",
       "        IPython.keyboard_manager.register_events(el);\n",
       "    }\n",
       "\n",
       "}\n",
       "\n",
       "mpl.figure.prototype._key_event_extra = function(event, name) {\n",
       "    var manager = IPython.notebook.keyboard_manager;\n",
       "    if (!manager)\n",
       "        manager = IPython.keyboard_manager;\n",
       "\n",
       "    // Check for shift+enter\n",
       "    if (event.shiftKey && event.which == 13) {\n",
       "        this.canvas_div.blur();\n",
       "        // select the cell after this one\n",
       "        var index = IPython.notebook.find_cell_index(this.cell_info[0]);\n",
       "        IPython.notebook.select(index + 1);\n",
       "    }\n",
       "}\n",
       "\n",
       "mpl.figure.prototype.handle_save = function(fig, msg) {\n",
       "    fig.ondownload(fig, null);\n",
       "}\n",
       "\n",
       "\n",
       "mpl.find_output_cell = function(html_output) {\n",
       "    // Return the cell and output element which can be found *uniquely* in the notebook.\n",
       "    // Note - this is a bit hacky, but it is done because the \"notebook_saving.Notebook\"\n",
       "    // IPython event is triggered only after the cells have been serialised, which for\n",
       "    // our purposes (turning an active figure into a static one), is too late.\n",
       "    var cells = IPython.notebook.get_cells();\n",
       "    var ncells = cells.length;\n",
       "    for (var i=0; i<ncells; i++) {\n",
       "        var cell = cells[i];\n",
       "        if (cell.cell_type === 'code'){\n",
       "            for (var j=0; j<cell.output_area.outputs.length; j++) {\n",
       "                var data = cell.output_area.outputs[j];\n",
       "                if (data.data) {\n",
       "                    // IPython >= 3 moved mimebundle to data attribute of output\n",
       "                    data = data.data;\n",
       "                }\n",
       "                if (data['text/html'] == html_output) {\n",
       "                    return [cell, data, j];\n",
       "                }\n",
       "            }\n",
       "        }\n",
       "    }\n",
       "}\n",
       "\n",
       "// Register the function which deals with the matplotlib target/channel.\n",
       "// The kernel may be null if the page has been refreshed.\n",
       "if (IPython.notebook.kernel != null) {\n",
       "    IPython.notebook.kernel.comm_manager.register_target('matplotlib', mpl.mpl_figure_comm);\n",
       "}\n"
      ],
      "text/plain": [
       "<IPython.core.display.Javascript object>"
      ]
     },
     "metadata": {},
     "output_type": "display_data"
    },
    {
     "data": {
      "text/html": [
       "<img src=\"data:image/png;base64,iVBORw0KGgoAAAANSUhEUgAAAs8AAAHuCAYAAABgauG5AAAgAElEQVR4Xu3de5hcVZX//7VPwAikBQF1yMgoJHVOZQhGB2XE4RbAGxijgkK8joKKEBQTAeWqgKCMEhDwAgiIIhevIWiQS0RBUExUQEjv3T3Q3p2ZyMAwfgkdu/bvKUzPr562Q5+kz161quqd/+w6ddaq11p5+LA9XTjhDwIIIIAAAggggAACCJQScKWu4iIEEEAAAQQQQAABBBAQwjNLgAACCCCAAAIIIIBASQHCc0koLkMAAQQQQAABBBBAgPDMDiCAAAIIIIAAAgggUFKA8FwSissQQAABBBBAAAEEECA8swMIIIAAAggggAACCJQUIDyXhOIyBBBAAAEEEEAAAQQIz+wAAggggAACCCCAAAIlBQjPJaG4DAEEEEAAAQQQQAABwjM7gAACCCCAAAIIIIBASQHCc0koLkMAAQQQQAABBBBAgPDMDiCAAAIIIIAAAgggUFKA8FwSissQQAABBBBAAAEEECA8swMIIIAAAggggAACCJQUIDyXhOIyBBBAAAEEEEAAAQQIz+wAAggggAACCCCAAAIlBQjPJaG4DAEEEEAAAQQQQAABwjM7gAACCCCAAAIIIIBASQHCc0koLkMAAQQQQAABBBBAgPDMDiCAAAIIIIAAAgggUFKA8FwSissQQAABBBBAAAEEECA8swMIIIAAAggggAACCJQUIDyXhOIyBBBAAAEEEEAAAQQIz+wAAggggAACCCCAAAIlBQjPJaG4DAEEEEAAAQQQQAABwjM7gAACCCCAAAIIIIBASQHCc0koLkMAAQQQQAABBBBAgPDMDiCAAAIIIIAAAgggUFKA8FwSissQQAABBBBAAAEEECA8swMIIIAAAggggAACCJQUIDyXhOIyBBBAAAEEEEAAAQQIz+wAAggggAACCCCAAAIlBQjPJaG4DAEEEEAAAQQQQAABwjM7gAACCCCAAAIIIIBASQHCc0koLkMAAQQQQAABBBBAgPDMDiCAAAIIIIAAAgggUFKA8FwSissQQAABBBBAAAEEECA8swMIIIAAAggggAACCJQUIDyXhOIyBBBAAAEEEEAAAQQIz+wAAggggAACCCCAAAIlBQjPJaG4DAEEEEAAAQQQQAABwjM7gAACCCCAAAIIIIBASQHCc0koLkMAAQQQQAABBBBAgPDMDiCAAAIIIIAAAgggUFKA8FwSissQQAABBBBAAAEEECA8swMIIIAAAggggAACCJQUIDyXhOIyBBBAAAEEEEAAAQQIz+wAAggggAACCCCAAAIlBQjPJaG4DAEEEEAAAQQQQAABwjM7gAACCCCAAAIIIIBASQHCc0koLkMAAQQQQAABBBBAgPDMDiCAAAIIIIAAAgggUFKA8FwSissQQAABBBBAAAEEECA8swMIIIAAAggggAACCJQUIDyXhOIyBBBAAAEEEEAAAQQIz+wAAggggAACCCCAAAIlBQjPJaG4DAEEEEAAAQQQQAABwrPSDjzx6JqoVIoyCCDQIvCFd38eDwQQaIPA+687WTVj7PoPe1f2z9n7fv1D1d7bMB5KTkKA5ZgE3sa8lfC8MVpci0B1AoTn6iy5EwIbI0B43hgtru0kAcKz0rQIz0rQlEFgjADhmZVAoD0C2uH5Bc/bp7KT53t/9QPyUXvWpiOqshxKYyI8K0FTBgHCMzuAgAkBwrOJMdBEAgHCcwLU8W5JeFaCpgwChGd2AAETAtrhec7z51Z28nzP0PfJRya2yGYTLIfSXAjPStCUQYDwzA4gYEKA8GxiDDSRQIDwnACVk2clVMogUEKAZ55LIHEJAgkECM8JULmlCQHCs9IYOHlWgqYMApw8swMImBDQDs8vev5+lT228fOhFeQjE1tkswmWQ2kuhGclaMogQHhmBxAwIaAdnv9pp/0rC88/e+hW8pGJLbLZBMuhNBfCsxI0ZRAgPLMDCJgQIDybGANNJBAgPCdAHe+WhGclaMogQHhmBxAwIaAdnl+888srO3le+eDN5CMTW2SzCZZDaS6EZyVoyiBAeGYHEDAhoB2eXzLjFZWF55/++03kIxNbZLMJlkNpLoRnJWjKIEB4ZgcQMCFAeDYxBppIIEB4ToDKYxtKqJRBoIQAX1VXAolLEEggQHhOgMotTQgQnpXGwMmzEjRlEODkmR1AwISAdnjefcYrK3ts4+5//x75yMQW2WyC5VCaC+FZCZoyCBCe2QEETAgQnk2MgSYSCBCeE6COd0vCsxI0ZRAgPLMDCJgQ0A7PL5356spOnn88uJx8ZGKLbDbBcijNhfCsBE0ZBAjP7AACJgS0w/MetQMrC893DXyXfGRii2w2wXIozYXwrARNGQQIz+wAAiYECM8mxkATCQQIzwlQeWxDCZUyCJQQ4Ns2SiBxCQIJBLTD87/kB1V28vyj8B3yUYKd6JZbshxKk+TkWQmaMghw8swOIGBCgPBsYgw0kUCA8JwAlZNnJVTKIFBCgJPnEkhcgkACAcJzAlRuaUKA8Kw0Bk6elaApgwAnz+wAAiYEtMPznvm8yh7buCMsIx+Z2CKbTbAcSnMhPCtBUwYBwjM7gIAJAe3wvFfx2srC8+3+evKRiS2y2QTLoTQXwrMSNGUQIDyzAwiYECA8mxgDTSQQIDwnQB3vloRnJWjKIEB4ZgcQMCGgHZ73qc+v7OT5B/1LyUcmtshmEyyH0lwIz0rQlEGA8MwOIGBCQDs871t/XWXh+bb+b5fOR0VR7BljPFdEtnbOPTIyMnLs4ODgXa1DqNVqz82y7PMxxppzbkRErvben9G8ZtasWTs0Go1L17+2TkSWeO8vneg1E0Pu0SZKL0eP+lT2sQnPlVFyIwQ2SoBv29goLi5GoDKBXgjP06dP37Kvr+8hEVngvV9Rr9f3bTQaVw8PD+80NDS0dhQzz/OlzjnvvT++Vqs9wzm30jl3nPd+aVEUN8QYfxZCOHXGjBnPnjJlyj0xxgMHBgZ+/lSvVTYobrTRAoTnjSbbtDcQnjfNjXchMFkBwvNkBXk/Apsm0AvhuVarzcuy7Gzv/exRpaIoHhCRxd775S3h+cEsy97X39//vebPiqK4OsZ4/1/+8pcLNt9884dF5Dne+zXN1/I8/6yIPPaXv/zlrA29FkI4YdOmwruqECA8V6FY4h6E5xJIXIJAAgHCcwJUbolACQHt8LzfrDdU9tjGitXfLJWP8jxfLCJ7hxDmt4TnZSKywnu/pOVnF4vIZjvssMN7/vjHPz670WjcGWM8bMqUKetijM1rt24J2k/eM8uy0zf0Wmu9EqPgkooFSi1HxTV78naE554cOx/agADh2cAQaKEnBXohPBdFcUqMcXYI4dCW8HudiNwbQjizJTxvLyK3ichzRWRajPHCEMKxeZ7v5Zz7uvf+OS3XHhVjfIOIfGxDr4UQDujJpTLyoQnPSoMgPCtBUwaBMQKEZ1YCgfYIaIfn/f/x4MpOnm994Bul8lFRFItEZK73fl5L+L1BRG7x3p/X8rO7nHPX9Pf3f2bnnXd+xmabbfZt59z1IyMjP8iy7AchhL6W8P0hEdmz0WicvqHXQgiva89UqdoUKLUcUE1egPA8eUPugMCmCBCeN0WN9yAweQHt8PzyXQ6pLDzffP/XS+WjPM8PbH47RgihaAm/Ica4cGBg4Kbmz4qi2D7G+F9Tp07d9r777vvv9T/7oIjs32g03pxl2cNZlu24evXqP6x/rfmIx5pGo/GJDb3mvT9x8hPiDpsqUGo5NvXmvO//FyA8sw0ItEeA8Nwed6oi0AvhuVarTXXOPeicO6r5zRm1Wu3gLMuW9E2bNmPlqlXNr5178qAyz/PfZ1l2Un9//2W77LLL09atW/ft9Y92fLgoim/EGH8VQlhUq9VmOOd+3Gg09h0cHLz/qV5jw9on0DPhucz3MNbr9b4Y48Uxxt1EpOGcu2r0exibI6rVai91zl0tIj8JIRy2MWMjPG+MFtciUJ0A4bk6S+6EwMYIaIfnV+zyxspOnm+6/2ul81Ge57uLyEXOuW1E5GHn3NH9/f0r8zy/1Tl3mvf+jpkzZ+4xZcqUT8cYt3fOuRjjDzfffPMP3H///f9bq9WelWXZ5SJSF5FhEWl+e8eX1+eODb62MbPg2moFSi9HtWV177YR38N4oXNumvf+nXPmzNly7dq1PxGRk5r/Npnn+UHOuY+LyAMxxozwrDtDqiGwqQKE502V430ITE6gV8Lz5JR4dycK9ER43ojvYVyTZdmrmv/G2BxmURTHN0+hm79Fm+f5nC222GLw8ccfP675b4eE505cd3ruRQHCcy9Onc9sQYDwbGEK9JBCoCfCc5nvYZw1a9Z2IyMja1of6G8+u+ScOzWEMGcUP8/zjxKeU6wi90QgjQDhOY0rd0VgIgHt8Pyq2YdW9tjGjb+8tify0UQz5PXxBXpiOcp8D+PMmTN3zLLs148//viWv/nNbx5vcjV/i9Y59xnv/UzCM3+FEOhMAcJzZ86NrjtfQDs8v3rXwyoLz8vvu6Yn8lHnb1l7PkFPLEeZ72HcZZddtl23bt2fpkyZsv3q1av/1BxHvV4/JMZ4svf+hYTn9iwoVRGYrADhebKCvB+BTRMgPG+aG++yL9AT4bnM9zA2R1UUxX+OjIzMHxwcvGv9yfOJzrnZ3vs3E57tLzMdIjCeAOGZvUCgPQLa4fmgFyyo7OT5O/de3RP5qD2b0flVe2I5Sn4PY/MxjU87557nvX9TURTbxhjvXv/djTcSnjt/2fkEvSlAeO7NufOp2y+gHZ5f84I3Vxaeb7j3qz2Rj9q/JZ3ZQc8sR5nvYWx+pd20adMuds69NMY44pz7ovf+nPWn0BeKSPO/Jd/879M/TUR+LyJ3hxDeXmb0fM9zGSWuQaB6AcJz9abcEYEyAoTnMkpc04kCPROe2z0cwnO7J0D9XhUgPPfq5Pnc7RYgPLd7AtRPJUB4TiU75r6EZyVoyiAwRoDwzEog0B4B7fA8b85bKntsY9k9V5GP2rM2HVGV5VAaE+FZCZoyCBCe2QEETAgQnk2MgSYSCBCeE6COd0vCsxI0ZRAgPLMDCJgQ0A7P81/41spOnpf+4ivkIxNbZLMJlkNpLoRnJWjKIEB4ZgcQMCGgHZ5f98K3VRaev/2LL5OPTGyRzSZYDqW5EJ6VoCmDAOGZHUDAhADh2cQYaCKBAOE5ASqPbSihUgaBEgL8wmAJJC5BIIGAdnh+w4veUdnJ8zd//iXyUYKd6JZbshxKk+TkWQmaMghw8swOIGBCgPBsYgw0kUCA8JwAlZNnJVTKIFBCgJPnEkhcgkACAcJzAlRuaUKA8Kw0Bk6elaApgwAnz+wAAiYEtMPzwf/0r5U9tvGNn11BPjKxRTabYDmU5kJ4VoKmDAKEZ3YAARMC2uH5jbu9s7Lw/LVVl5OPTGyRzSZYDqW5EJ6VoCmDAOGZHUDAhIB2eH7Tbu+qLDxft+oy8pGJLbLZBMuhNBfCsxI0ZRAgPLMDCJgQIDybGANNJBAgPCdAHe+WhGclaMogQHhmBxAwIaAdng978eGVnTxfs/KL5CMTW2SzCZZDaS6EZyVoyiBAeGYHEDAhQHg2MQaaSCBAeE6AysmzEiplECghwFfVlUDiEgQSCBCeE6BySxMChGelMXDyrARNGQQ4eWYHEDAhoB2eF7zkiMoe27j6p5eSj0xskc0mWA6luRCelaApgwDhmR1AwISAdnh+y+7vriw8X3X3JeQjE1tkswmWQ2kuhGclaMogQHhmBxAwIUB4NjEGmkggQHhOgDreLQnPStCUQYDwzA4gYEJAOzy/dff3VHby/JW7LyYfmdgim02wHEpzITwrQVMGAcIzO4CACQHt8Pz2f35vZeH5yp98gXxkYotsNsFyKM2F8KwETRkECM/sAAImBAjPJsZAEwkECM8JUHlsQwmVMgiUEOCr6kogcQkCCQQIzwlQuaUJAcKz0hg4eVaCpgwCnDyzAwiYENAOz+946ZGVPbbxpR9/nnxkYotsNsFyKM2F8KwETRkECM/sAAImBAjPJsZAEwkECM8JUMe7JeFZCZoyCBCe2QEETAhoh+d37vG+yk6eL7/rc+QjE1tkswmWQ2kuhGclaMogQHhmBxAwIaAdnt+1x1GVhefL7vos+cjEFtlsguVQmgvhWQmaMggQntkBBEwIEJ5NjIEmEggQnhOg8tiGEiplECghwLdtlEDiEgQSCGiH5yNednRlJ8+X3nkR+SjBTnTLLVkOpUly8qwETRkEOHlmBxAwIUB4NjEGmkggQHhOgMrJsxIqZRAoIcDJcwkkLkEggQDhOQEqtzQhQHhWGgMnz0rQlEGAk2d2AAETAtrh+d3/srCyxzYu+dGF5CMTW2SzCZZDaS6EZyVoyiBAeGYHEDAhoB2e37vnMZWF5y/ccQH5yMQW2WyC5VCaC+FZCZoyCBCe2QEETAgQnk2MgSYSCBCeE6COd8v9Zr2hsn8jVmqZMgh0hcATI090xefgQyDQaQI/Ct9RzRhH7vX+yv45+/nbP6Pae6fNttf7ZTmUNoDwrARNGQTGCBCeWQkE2iOgHZ7ft9cHKgvPn7v9fPJRe9amI6qyHEpjIjwrQVMGAcIzO4CACQHCs4kx0EQCAcJzAtTxbkl4VoKmDAKEZ3YAARMChGcTY6CJBAKE5wSohGclVMogUEKAxzZKIHEJAgkEtMPz0XtX99jGRT/ksY0EK9E1tyQ8K42Sk2claMogwMkzO4CACQHCs4kx0EQCAcJzAlROnpVQKYNACQFOnksgcQkCCQS0w/PCfY6t7BcGL/zBeeSjBDvRLbdkOZQmycmzEjRlEODkmR1AwISAdnh+/74frCw8f+a2JeQjE1tkswmWQ2kuhGclaMogQHhmBxAwIUB4NjEGmkggQHhOgDreLQnPStCUQYDwzA4gYEJAOzx/YO6iyk6ez//+ueQjE1tkswmWQ2kuhGclaMogQHhmBxAwIUB4NjEGmkggQHhOgMrJsxIqZRAoIcAvDJZA4hIEEggQnhOgcksTAoRnpTFw8qwETRkEOHlmBxAwIaAdnj84d3Flj20s+f6nyUcmtshmEyyH0lwIz0rQlEGA8MwOIGBCQDs8L9rvQ5WF53NXfIp8ZGKLbDbBcijNhfCsBE0ZBAjP7AACJgQIzybGQBMJBAjPCVDHuyXhWQmaMggQntkBBEwIaIfnD+1/XGUnz5+69d9K56OiKPaMMZ4rIls75x4ZGRk5dnBw8K7WIeR5fo+ITG352TNEZHUIYf+neq0oittijIWIPDr6XufcEd77O0wMuUebKL0cPepT2ccmPFdGyY0Q2CgBfmFwo7i4GIHKBLTD83EHVBee/+2WcuF5+vTpW/b19T0kIgu89yvq9fq+jUbj6uHh4Z2GhobWbggzz/PlzrkrvPfXjr2m9bX14fmKEMIVlQ2GG01agPA8acJyNyA8l3PiKgSqFiA8Vy3K/RAoJ9AL4blWq83Lsuxs7/3sUZWiKB4QkcXe++XjSdVqtYOdcwtDCHPHvj72NcJzuV3TvorwrCROeFaCpgwCYwQIz6wEAu0R6IXwnOf5YhHZO4QwvyU8LxORFd77JePIZ3me359l2eH9/f13jnn9b15rhmcRGY4xPlNEpjnnrvHenyEijfZMlapNAcKz0h4QnpWgKYMA4ZkdQMCEgHZ4PuHlx1f2zPMnbz6nVD4qiuKUGOPsEMKho+h5nl8nIveGEM4cO4h6vX5IjPEY7/0+ZV7L8/y4GOOagYGBK2fOnDk9y7KbnXPne+8/Z2LIPdpEqeXoUZtKPzbhuVJOboZAaQFOnktTcSEClQr0SHheJCJzvffzWk6ebxCRW7z3540FLYri+hjjshDCJRvzWsu9F8UYDwghHFjpsLjZRgkQnjeKa9MvJjxvuh3vRGAyAoTnyejxXgQ2XUA7PH/45SdUdvL8iZs/WSof5XneDLFLQgjNb8R48k+e5yHGuHBgYOCmVr05c+ZstXbt2jVZlu28evXqP5R4bUqe57uGEJrf1PHkZyuK4vgY4x4hhNdv+mR452QFSi3HZIvwfhHCM1uAQHsECM/tcacqAtrh+SOv+HBl4fnsmz5RKh/VarWpzrkHnXNHee+XNn/hL8uyJX3Tps1YuWrVutYtyPN8LxFZGkLYdux2bOC1KUVRDMUYTwohXDlr1qztGo3G7THGc/j2jfb+/Sq1HO1tsTuqE567Y458is4TIDx33szouDsEeiE8rz9p3l1ELnLObSMiDzvnju7v71+Z5/mtzrnTRr+TOc/zBc65k1q/maPltHrc1+r1+m4xxgtijNs550ZijFeFEM4aPYnujk3pvE9BeFaaGeFZCZoyCIwRIDyzEgi0R0A7PJ/0yo9UdvL88e+dTT5qz9p0RFWWQ2lMhGclaMogQHhmBxAwIaAdnk9+VXXh+cwbCc8mlshoE4RnpcEQnpWgKYMA4ZkdQMCEAOHZxBhoIoEA4TkB6ni3JDwrQVMGAcIzO4CACQHCs4kx0EQCAcJzAlTCsxIqZRAoIcAzzyWQuASBBALa4fnUV59Y2TPPpy8/i3yUYCe65ZYsh9IkOXlWgqYMApw8swMImBAgPJsYA00kECA8J0Dl5FkJlTIIlBDg5LkEEpcgkEBAOzyf9uqTKjt5/tjyj5OPEuxEt9yS5VCaJCfPStCUQYCTZ3YAARMC2uH5YweeXFl4Pu27Z5KPTGyRzSZYDqW5EJ6VoCmDAOGZHUDAhADh2cQYaCKBAOH5r/+t+D1jjOeKyNbOuUdGRkaOHRwcvGusd61We6lz7moR+UkI4bCNmQfheWO0uBaB6gR4bKM6S+6EwMYIaIfn0w+q7uT51O9w8rwxs+61a3s+PE+fPn3Lvr6+h0Rkgfd+Rb1e37fRaFw9PDy809DQ0NrRhcjz/CDn3MdF5IEYY0Z47rW/KnzeThUgPHfq5Oi70wUIz50+QfrfkEDPh+darTYvy7KzW/9b80VRPCAii733y1vC85wttthi8PHHHz9OROqEZ/5SIdAZAoTnzpgTXXafAOG5+2bKJ/qrQM+H5zzPF4vI3iGE+aNLURTFMhFZ4b1fMnZR8jz/KOGZvz4IdI4A4blzZkWn3SWgHZ7PeM0plf3C4Ck3nNHz+ai7trHaT9Pzy1EUxSkxxtkhhENbTpmvE5F7QwhnEp6rXTjuhoC2AOFZW5x6CPxVQDs8f3zeqZWF55OWnd7z+Yg93rBAzy9HURSLRGSu935ey8nzDSJyi/f+PMIzf30Q6GwBwnNnz4/uO1eA8Ny5s6Pzpxbo+fCc5/mBIrIkhFC0nDyHGOPCgYGBmwjP/BVCoLMFCM+dPT+671wB7fB81murO3k+8XpOnjt389J33vPhuVarTXXOPeicO8p7v7RWqx2cZdmSvmnTZqxctWod4Tn9ElIBgZQChOeUutwbgQ0LaIfnT8w/rbLHNj689GM9n4/YbR7beModyPN8dxG5yDm3jYg87Jw7ur+/f2We57c6507z3t+R5/mFInKAiGwvIk8Tkd+LyN0hhLeXWTC+57mMEtcgUL0A4bl6U+6IQBkBwnMZJa7pRAH+zUppaoRnJWjKIDBGgPDMSiDQHgHCc3vcqZpegPCc3vjJCoRnJWjKIEB4ZgcQMCGgHZ4/Of+jlT22ccLSj5KPTGyRzSZYDqW5EJ6VoCmDAOGZHUDAhIB2eD7ndR+rLDwf/+3TyEcmtshmEyyH0lwIz0rQlEGA8MwOIGBCgPBsYgw0kUCA8JwAdbxbEp6VoCmDAOGZHUDAhIB2eP7U66s7ef7Qtzh5NrFERpsgPCsNhvCsBE0ZBAjP7AACJgS0w/On33B6ZY9tLP7mqeQjE1tkswmWQ2kuhGclaMogQHhmBxAwIUB4NjEGmkggQHhOgMpjG0qolEGghABfVVcCiUsQSCBAeE6Ayi1NCBCelcbAybMSNGUQ4OSZHUDAhIB2eD734DMqe2xj0TdOIR+Z2CKbTbAcSnMhPCtBUwYBwjM7gIAJAcKziTHQRAIBwnMC1PFuSXhWgqYMAoRndgABEwLa4fm8Q6o7eT7265w8m1gio00QnpUGQ3hWgqYMAoRndgABEwLa4fn8N55Z2WMbH/jayeQjE1tkswmWQ2kuhGclaMogQHhmBxAwIUB4NjEGmkggQHhOgMpjG0qolEGghADftlECiUsQSCCgHZ4/86bqTp7ffx0nzwlWomtuSXhWGiUnz0rQlEGAk2d2AAETAoRnE2OgiQQChOcEqJw8K6FSBoESApw8l0DiEgQSCBCeE6BySxMChGelMXDyrARNGQQ4eWYHEDAhoB2eLzz045X9wuDCa08iH5nYIptNsBxKcyE8K0FTBgHCMzuAgAkB7fB80aFnVRaej772RPKRiS2y2QTLoTQXwrMSNGUQIDyzAwiYECA8mxgDTSQQIDwnQB3vloRnJWjKIEB4ZgcQMCGgHZ4/e1h1J89HXcPJs4klMtoE4VlpMIRnJWjKIEB4ZgcQMCGgHZ4/v+Dsyh7bOPLqj5CPTGyRzSZYDqW5EJ6VoCmDAOGZHUDAhADh2cQYaCKBAOE5ASqPbSihUgaBEgJ8VV0JJC5BIIEA4TkBKrc0IUB4VhoDJ89K0JRBgJNndgABEwLa4fkLb/5EZY9tvPerHyYfmdgim02wHEpzITwrQVMGAcIzO4CACQHCs4kx0EQCAcJzAtTxbkl4VoKmDAKEZ3YAARMC2uH54rdUd/L8nqs4eTaxREabIDwrDYbwrARNGQQIz+wAAiYEtMPzJW/9ZGWPbbz7KyeQj0xskc0mWA6luRCelaApgwDhmR1AwIQA4dnEGGgigQDhOQEqj20ooVIGgRICfNtGCSQuQSCBgHZ4/uLbqjt5PvzLnDwnWImuuSXhWWmUnDwrQVMGAU6e2QEETAgQnk2MgSYSCBCeE6By8qyEShkESghw8lwCiUsQSCBAeE6Ayi1NCBCelcbAybMSNGUQ4OSZHUDAhIB2eL7s7edU9guD77ryeP3RPlEAACAASURBVPKRiS2y2QTLoTQXwrMSNGUQIDyzAwiYENAOz5e/o7rw/M4vEZ5NLJHRJgjPSoMhPCtBUwYBwjM7gIAJAcKziTHQRAIBwnMC1PFuues/7F3Z/52k1DJlEEAAAQQQ2GSB+379Q9WM8aV//bfK/jn7jiuOU+19k5F5Y1sEWA4ldsKzEjRlEEAAAQRMCGiH5yvf+anKwvPbL/8Q+cjEFtlsguVQmgvhWQmaMggggAACJgQIzybGQBMJBAjPCVDHuyXhWQmaMggggAACJgQIzybGQBMJBAjPCVAJz0qolEEAAQQQMCugHZ6//K7qHtt422U8tmF2sQw0RnhWGgInz0rQlEEAAQQQMCHQK+G5KIo9Y4znisjWzrlHRkZGjh0cHLyrdQh5nt8jIlNbfvYMEVkdQti/KIrbYoyFiDw6+rpz7gjv/R2zZs3aodFoXBpjrDnn1onIEu/9pSYG3MNNEJ6Vhk94VoKmDAIIIICACQHt8PyVwz9d2S8MvvWLi0vlo+nTp2/Z19f3kIgs8N6vqNfr+zYajauHh4d3GhoaWruhQeR5vtw5d4X3/tr14fmKEMIVY68viuKGGOPPQginzpgx49lTpky5J8Z44MDAwM9NDLlHmyi1HD1qU+nHJjxXysnNEEAAAQSMC2iH56uOqC48v+XScuG5VqvNy7LsbO/97NFxFEXxgIgs9t4vH29EtVrtYOfcwhDC3ObrGwrPO++889abb775wyLyHO/9mua1eZ5/VkQeCyGcYHz8Xd0e4VlpvIRnJWjKIIAAAgiYEOiF8Jzn+WIR2TuEML8lPC8TkRXe+yXjDCLL8/z+LMsO7+/vv3M0PIvIcIzxmSIyzTl3jff+jHq9/qIYY/M+W4/eZ7x6JobdY00QnpUGTnhWgqYMAggggIAJAe3wfPW7z63ssY0FlywqlY+Kojglxjg7hHBoS8C9TkTuDSGcOXYQ9Xr9kBjjMd77fVquPy7GuGZgYODKmTNnTs+y7Gbn3Pkxxl86577uvX9OSzA/Ksb4hhDCASaG3KNNlFqOHrWp9GMTnivl5GYIIIAAAsYFeiQ8LxKRud77eS0B9wYRucV7f97YERVFcX2McVkI4ZINja8oikUxxgMajcbJWZb9IITQ1xK0PyQie4YQXmd8/F3dHuFZabyEZyVoyiCAAAIImBDohfCc5/mBzW/ACCE0vy3jyT95nocY48KBgYGbWgcxZ86crdauXbsmy7KdV69e/Yf1r03J83zXEELz2ziePDkviuL4GOMeMcZ3ZFn2cJZlO45eXxTFxSKyxnt/ookh92gThGelwROelaApgwACCCBgQkA7PF/znuoe2zjs4nKPbdRqtanOuQedc0d575c2fxkwy7IlfdOmzVi5alXzq+X+70+e53uJyNIQwrYtP55SFMVQjPGkEMKVs2bN2q7RaNweYzyn+e0bRVF8I8b4qxDColqtNsM59+NGo7Hv4ODg/SaG3KNNEJ6VBk94VoKmDAIIIICACQHt8Hzte5dU9szzoV/4YOl8lOf57iJykXNuGxF52Dl3dH9//8o8z291zp3W/L7m9SfSC5xzJ7V+M0fz5/V6fbcY4wUxxu2ccyMxxqtCCGc1T6Jrtdqzsiy7vHlZ85cKRaT5zR5fNjHgHm6i9HL0sFElH53wXAkjN0EAAQQQ6BCBXgnPHTIO2qxQgPBcIeZT3YrwrARNGQQQQAABEwLa4fm6I6s7eX7T58ufPJvApglVAcKzEjfhWQmaMggggAACJgS0w/PX3ndeZY9tvPFzx5KPTGyRzSZYDqW5EJ6VoCmDAAIIIGBCgPBsYgw0kUCA8JwAdbxbEp6VoCmDAAIIIGBCgPBsYgw0kUCA8JwAlfCshEoZBBBAAAGzAtrh+etHVffYxiGf5bENs4tloDHCs9IQOHlWgqYMAggggIAJAcKziTHQRAIBwnMCVE6elVApgwACCCBgVkA7PH/z6PMr+4XBN1z0AfKR2c1qf2Msh9IMOHlWgqYMAggggIAJAe3w/K2F1YXn119IeDaxREabIDwrDYbwrARNGQQQQAABEwKEZxNjoIkEAoTnBKg8tqGEShkEEEAAAbMC2uH528d8prLHNl53wfvJR2Y3q/2NsRxKM+DkWQmaMggggAACJgQIzybGQBMJBAjPCVA5eVZCpQwCCCCAgFkBwrPZ0dDYJAUIz5MELPt2Tp7LSnEdAggggEA3CGiH56Xvr+6xjfmf4bGNbtjBVJ+B8JxKdsx9Cc9K0JRBAAEEEDAhoB2er//ABZU98/za848hH5nYIptNsBxKcyE8K0FTBgEEEEDAhADh2cQYaCKBAOE5Aep4tyQ8K0FTBgEEEEDAhIB2eF52bHUnz/PO4+TZxBIZbYLwrDQYwrMSNGUQQAABBEwIaIfnGz54YWWPbbxmyULykYktstkEy6E0F8KzEjRlEEAAAQRMCBCeTYyBJhIIEJ43HjXL8/wEETndOTfPe39jmVsQnssocQ0CCCCAQLcIEJ67ZZJ8jrEChOeN3ImiKL4qIo/GGF/rnDuc8LyRgFyOAAIIINATAtrh+TuLqnts46BzeWyjJ5Z0Ez8k4Xkj4er1+sv6+/vvzPN8yDl3JOF5IwG5HAEEEECgJwS0w/N3F19U2TPPB376aPJRT2zppn1IlmPT3ITwvIlwvA0BBBBAoCcECM89Meae/JCE500cO+F5E+F4GwIIIIBATwhoh+flH6ru5PnVn+LkuSeWdBM/JOF5E+EIz5sIx9sQQAABBHpCQDs8f++4z1b22MYr/+0o8lFPbOmmfUiWY9PceGxjE914GwIIIIBAbwgQnntjzr34KQnPmzh1Tp43EY63IYAAAgj0hIB2eL7p+OpOnl9xDifPPbGkm/ghCc8bAVev1/sajcZP179lhnPujzHGP4vIR0II33qqW/E9zxsBzaUIIIAAAh0vQHju+BHyATYgQHhWWg3CsxI0ZRBAAAEETAgQnk2MgSYSCBCeE6COd0vCsxI0ZRBAAAEETAhoh+ebT/hcZb8w+PJPvo98ZGKLbDbBcijNhfCsBE0ZBBBAAAETAtrh+ZYPVxeeD/gE4dnEEhltgvCsNBjCsxI0ZRBAAAEETAgQnk2MgSYSCBCeE6Dy2IYSKmUQQAABBMwKaIfnW0/8fGWPbex/1pHkI7Ob1f7GWA6lGXDyrARNGQQQQAABEwLa4XnFSdWF5/0+Tng2sURGmyA8Kw2G8KwETRkEEEAAARMChGcTY6CJBAKE5wSoPLahhEoZBBBAAAGzAoRns6OhsUkKEJ4nCVj27Zw8l5XiOgQQQACBbhDQDs/fP/kLlT3zPPfM95KPumEJE30GliMR7NjbEp6VoCmDAAIIIGBCgPBsYgw0kUCA8JwAdbxbEp6VoCmDAAIIIGBCQDs833ZKdSfP+57BybOJJTLaBOFZaTCEZyVoyiCAAAIImBDQDs8/OPXiyh7b2Of095CPTGyRzSZYDqW5EJ6VoCmDAAIIIGBCgPBsYgw0kUCA8JwAlcc2lFApgwACCCBgVkA7PP/wtOpOnvf+GCfPZhfLQGOEZ6UhcPKsBE0ZBBBAAAETAoRnE2OgiQQChOcEqJw8K6FSBgEEEEDArADh2exoaGySAoTnSQKWfTsnz2WluA4BBBBAoBsE1MPzRy+p7BcG9/7ou8lH3bCEiT4Dy5EIduxtCc9K0JRBAAEEEDAhoB2eb//YpZWF571OO4J8ZGKLbDbBcijNhfCsBE0ZBBBAAAETAoRnE2OgiQQChOcEqOPdkvCsBE0ZBBBAAAETAtrh+Y7Tqzt53vNUTp5NLJHRJgjPSoMhPCtBUwYBBBBAwISAdnj+0ZlfrOyxjX85+XDykYktstkEy6E0F8KzEjRlEEAAAQRMCBCeTYyBJhIIEJ4ToPLYhhIqZRBAAAEEzAoQns2OhsYmKUB4niRg2bdz8lxWiusQQAABBLpBQDs83/nx6h7beNlJPLbRDTuY6jMQnlPJjrkv4VkJmjIIIIAAAiYECM8mxkATCQQIzwlQx7sl4VkJmjIIIIAAAiYEtMPzXWddVtkvDO5x4rvIRya2yGYTLIfSXAjPStCUQQABBBAwIaAdnn98dnXh+aUfITybWCKjTRCelQZDeFaCpgwCCCCAgAkBwrOJMdBEAgHCcwJUHttQQqUMAggggIBZAe3w/JNPXF7ZYxv//OF3ko/Mblb7G2M5lGbAybMSNGUQQAABBEwI9Ep4LopizxjjuSKytXPukZGRkWMHBwfvah1Cnuf3iMjUlp89Q0RWhxD233XXXZ/5xBNPXCAiLxaRzDn3/c022+yY+++/f7goittijIWIPDr6XufcEd77O0wMuUebIDwrDZ7wrARNGQQQQAABEwK9EJ6nT5++ZV9f30MissB7v6Jer+/baDSuHh4e3mloaGjthgaR5/ly59wV3vtri6K4rHmd9/6I5z//+U+bOnXqChG5znt/3vrwfEUI4QoTQ6WJJwUIz0qLQHhWgqYMAggggIAJAe3wfPcnq3tsY/cTyj22UavV5mVZdrb3fvYoelEUD4jIYu/98vEGUavVDnbOLQwhzG2+Xq/XXzkyMnL/wMDAb5v/O8/zT4rIdiGEIwjPJlb5b5ogPCvNhfCsBE0ZBBBAAAETAtrh+afnXFHZM88vOf5fS+WjPM8Xi8jeIYT5LeF5mYis8N4vGWcQWZ7n92dZdnh/f/+dY1/fZZddnrZu3bqVzrnzvfdfbIZnERmOMT5TRKY5567x3p8hIg0TQ+7RJkotR4/aVPqxCc+VcnIzBBBAAAHjAr0QnouiOCXGODuEcOjoOPI8v05E7g0hnDl2RPV6/ZAY4zHe+33GGd+UPM+bj2c8K4RwkIiM5Hl+XIxxzcDAwJUzZ86cnmXZzeuD9eeMj7+r2yM8K42X8KwETRkEEEAAARMC6uH5UxWePH+o3MlzURSLRGSu935ey8nzDSJyS/OZ5bGDKIri+hjjshDCJa2vzZkzZ6u1a9deG2P8y/Dw8GEbel66WS/GeEAI4UATQ+7RJgjPSoN/8c4vr+z/TlJqmTIIdIXAE395ois+Bx8CgU4T0A7PKz/9pcr+Ofvixe8olY/yPG+G2CUhhOY3Yjz5J8/zEGNcODAwcNM4AXlNlmU7r169+g+jr714t902f+x///c7IvKQ9/59LY9kNE+idw0hNL+p48nPVhTF8THGPUIIr++0feimfkstRzd94HZ9FsJzu+Sp2+sChOde3wA+f7sEeiE812q1qc65B51zR3nvlzZ/GTDLsiV906bNWLlq1bpW+zzP9xKRpSGEbcf8/CQR2T2E8LrRkLz+9SlFUQzFGE8KIVw5a9as7RqNxu0xxnP49o12bfVf6xKelfwJz0rQlEFgjADhmZVAoD0CvRCe15807y4iFznnthGRh51zR/f396/M8/xW59xpo9/JnOf5AufcSa3fzLH+NPk/mo9riMhjo5Nyzv3Se39IvV7fLcZ4QYxxO+fcSIzxqhDCWWNCdnsG3MNVCc9Kwyc8K0FTBgHCMzuAgAkB7fC86tzqHtvYbVG5xzZMQNOEugDhWYmc8KwETRkECM/sAAImBAjPJsZAEwkECM8JUMe7JeFZCZoyCBCe2QEETAhoh+efLbmysl8Y/KcPvp18ZGKLbDbBcijNhfCsBE0ZBAjP7AACJgS0w/PPz6suPL/oWMKziSUy2gThWWkwhGclaMogQHhmBxAwIUB4NjEGmkggQHhOgMpjG0qolEGghADftlECiUsQSCCgHp7P/3Jlj2286ANvIx8l2IluuSXLoTRJTp6VoCmDACfP7AACJgQIzybGQBMJBAjPCVA5eVZCpQwCJQQ4eS6BxCUIJBAgPCdA5ZYmBAjPSmPg5FkJmjIIcPLMDiBgQkA7PP/igq9U9tjGC495K/nIxBbZbILlUJoL4VkJmjIIEJ7ZAQRMCGiH53surC48z1lIeDaxREabIDwrDYbwrARNGQQIz+wAAiYECM8mxkATCQQIzwlQx7sl4VkJmjIIEJ7ZAQRMCGiH53svuqqyxzZecPRbyEcmtshmEyyH0lwIz0rQlEGA8MwOIGBCQDs83/fZ6sLzrkcRnk0skdEmCM9KgyE8K0FTBgHCMzuAgAkBwrOJMdBEAgHCcwJUHttQQqUMAiUE+Kq6EkhcgkACAcJzAlRuaUKA8Kw0Bk6elaApgwAnz+wAAiYE1MPz575a2TPPu77vzeQjE1tkswmWQ2kuhGclaMogQHhmBxAwIUB4NjEGmkggQHhOgDreLQnPStCUQYDwzA4gYEJAOzz/8gtXV3byPPu9C8hHJrbIZhMsh9JcCM9K0JRBgPDMDiBgQkA7PN9/cXXheZf3EJ5NLJHRJgjPSoMhPCtBUwYBwjM7gIAJAcKziTHQRAIBwnMCVB7bUEKlDAIlBPi2jRJIXIJAAgH18HzJNZU9trHLuw8jHyXYiW65JcuhNElOnpWgKYMAJ8/sAAImBAjPJsZAEwkECM8JUDl5VkKlDAIlBDh5LoHEJQgkENAOzw9cWt3J8z8ewclzgpXomlsSnpVGycmzEjRlEODkmR1AwIQA4dnEGGgigQDhOQEqJ89KqJRBoIQAJ88lkLgEgQQC2uF59WXXVvbM86x3HUo+SrAT3XJLlkNpkpw8K0FTBgFOntkBBEwIaIfn/suvqyw819/5JvKRiS2y2QTLoTQXwrMSNGUQIDyzAwiYECA8mxgDTSQQIDwnQB3vloRnJWjKIEB4ZgcQMCGgHp6vqPDk+V85eTaxREabIDwrDYbwrARNGQQIz+wAAiYECM8mxkATCQQIzwlQOXlWQqUMAiUE+IXBEkhcgkACAcJzAlRuaUKA8Dz+GLI8z08QkdOdc/O89zc2LyuKYs8Y47kisrVz7pGRkZFjBwcH7yozSU6eyyhxDQLVCxCeqzfljgiUEdAOz/5LX6vsFwaLd7yRfFRmyD16DcsxzuCLoviqiDwaY3ytc+7wZniePn36ln19fQ+JyALv/Yp6vb5vo9G4enh4eKehoaG1E+0P4XkiIV5HII0A4TmNK3dFYCIB7fAcrvx6ZeE5f/sh5KOJBtzDr7Mc4wy/Xq+/rL+//848z4ecc0c2w3OtVpuXZdnZ3vvZo28piuIBEVnsvV8+0Q4RnicS4nUE0ggQntO4clcEJhIgPE8kxOudKkB4forJtYbnPM8Xi8jeIYT5LeF5mYis8N4vmWgBCM8TCfE6AmkECM9pXLkrAhMJqIfnr1R48vxWTp4nmm8vv054Lhmei6I4JcY4O4Rw6Ohb8jy/TkTuDSGcOdESEZ4nEuJ1BNIIEJ7TuHJXBCYS0A7PA1d9o7LHNmpvOZh8NNGAe/h1lqN8eF4kInO99/NaTp5vEJFbvPfnTbRDhOeJhHgdgTQChOc0rtwVgYkECM8TCfF6pwoQnkuG5zzPDxSRJSGEouXkOcQYFw4MDNw00QIQnicS4nUE0ggQntO4clcEJhIgPE8kxOudKkB4Lhmea7XaVOfcg865o7z3S2u12sFZli3pmzZtxspVq9ZNtACE54mEeB2BNAKE5zSu3BWBiQS0w/PgV79Z2WMbM9/8BvLRRAPu4ddZjjHDr9frfY1G46frfzzDOffHGOOfReQjIvI7EbnIObeNiDzsnDu6v79/ZZn9ITyXUeIaBKoXIDxXb8odESgjQHguo8Q1nShAeFaaGuFZCZoyCIwRIDyzEgi0R0A9PF9d4cnzAk6e27M1nVGV8Kw0J8KzEjRlECA8swMImBDQDs//fu23KntsY8ahrycfmdgim02wHEpzITwrQVMGAcIzO4CACQHCs4kx0EQCAcJzAtTxbkl4VoKmDAKEZ3YAARMC6uH5um9Xd/L8pteRj0xskc0mWA6luRCelaApgwDhmR1AwIQA4dnEGGgigQDhOQEqJ89KqJRBoIQAvzBYAolLEEggQHhOgMotTQgQnpXGwMmzEjRlEODkmR1AwISAdnh+8GvVPbax8xt5bMPEEhltgvCsNBjCsxI0ZRAgPLMDCJgQ0A7PD319aWXPPO90yHzykYktstkEy6E0F8KzEjRlECA8swMImBAgPJsYA00kECA8J0Ad75aEZyVoyiBAeGYHEDAhoB6ev3l9dSfPb3gt+cjEFtlsguVQmgvhWQmaMggQntkBBEwIaIfnoW8tqyw8P//188hHJrbIZhMsh9JcCM9K0JRBgPDMDiBgQoDwbGIMNJFAgPCcAJXHNpRQKYNACQG+qq4EEpcgkECA8JwAlVuaECA8K42Bk2claMogwMkzO4CACQH18PztCh/beB2PbZhYIqNNEJ6VBkN4VoKmDAKEZ3YAARMChGcTY6CJBAKE5wSo492S8KwETRkECM/sAAImBLTD86+W3lDZLww+b/5ryEcmtshmEyyH0lwIz0rQlEGA8MwOIGBCQDs8/3rZdyoLz/8w7yDykYktstkEy6E0F8KzEjRlECA8swMImBDolfBcFMWeMcZzRWRr59wjIyMjxw4ODt7VOoQ8z+8RkaktP3uGiKwOIexfr9f7YowXxxh3E5GGc+4q7/0ZzWuf6jUTQ+7RJgjPSoMnPCtBUwYBwjM7gIAJAfXwfMN3qzt5fs2BpfLR9OnTt+zr63tIRBZ471fU6/V9G43G1cPDwzsNDQ2t3dAg8jxf7py7wnt/bZ7nFzrnpnnv3zlnzpwt165d+xMROcl7v/SpXjMx5B5totRy9KhNpR+b8FwpJzdDoLQAX1VXmooLEahUQDs8/+Y7yysLzzse9OpS+ahWq83Lsuxs7/3sUbyiKB4QkcXe++XjgdZqtYOdcwtDCHObr+d5vibLslf19/evbP7voiiOb55ChxAOfarXKh0WN9sogVLLsVF35OJxBQjPLAYC7REgPLfHnaoI9EJ4zvN8sYjsHUKY3xKel4nICu/9knG2IMvz/P4syw7v7++/c9asWduNjIysmTp16rb33XfffzevXx+uT50yZcp+G3othDCHDWufAOFZyZ7wrARNGQTGCBCeWQkE2iPQC+G5KIpTYoyzm6fEo8p5nl8nIveGEM4cK1+v1w+JMR7jvd+n+drMmTN3zLLs148//viWv/nNbx5ffxJ9oHPuMyMjI3M39Jr3fmZ7pkrVpgDhWWkPCM9K0JRBgPDMDiBgQkA9PH+3wsc2Diz32EZRFItEZK73fl7LyfMNInKL9/68sYMoiuL6GOOyEMIlzdd22WWXbdetW/enKVOmbL969eo/NX+2PmCfvNlmm+23ode89y80MeQebYLwrDR4wrMSNGUQIDyzAwiYEOiF8Jzn+YEisiSEULScPIcY48KBgYGbWgcxZ86crdauXdt8vnnn1atX/6ElbP/nyMjI/NFv6Mjz/ETn3Gzv/ZuLotjgayaG3KNNEJ6VBk94VoKmDAKEZ3YAARMC2uH5tzfeWNkvDD73Va8qlY9qtdpU59yDzrmjmt+O0XxeOcuyJX3Tps1YuWrVutZB5Hm+l4gsDSFsO+bnn3bOPc97/6aiKLaNMd69/n435nm+wddMDLlHmyi1HD1qU+nHJjxXysnNECgtwDPPpam4EIFKBdTD8/e+V114fuUrS+ejPM93F5GLnHPbiMjDzrmjm9+ckef5rc6507z3dzRh8zxf4JxrfgXd/30zR/Pnza+7mzZt2sXOuZfGGEecc1/03p8z0WuVDoubbZRA6eXYqLty8d8IEJ5ZCgTaI0B4bo87VRHolfDMpHtPgPCsNHPCsxI0ZRAYI0B4ZiUQaI+Adnj+3U03VXby/PeveAX5qD1r0xFVWQ6lMRGelaApgwDhmR1AwIQA4dnEGGgigQDhOQHqeLckPCtBUwYBwjM7gIAJAcKziTHQRAIBwnMCVMKzEiplECghwGMbJZC4BIEEAurh+Zabq3ts44CXk48S7ES33JLlUJokJ89K0JRBgJNndgABEwLa4fn3t95SWXievv8B5CMTW2SzCZZDaS6EZyVoyiBAeGYHEDAhQHg2MQaaSCBAeE6AOt4tCc9K0JRBgPDMDiBgQkA9PK+o8OR5P06eTSyR0SYIz0qDITwrQVMGAQQQQMCEwMoHb1bNGH/4/q2VPbaxw9z9VXs3MTCaKC3AcpSmmtyFhOfJ+fFuBBBAAIHOEiA8d9a86La8AOG5vNWkriQ8T4qPNyOAAAIIdJgA4bnDBka7pQUIz6WpJnch4XlyfrwbAQQQQKCzBNTD8w9WVPfYxj77kY86a91Uu2U5lLgJz0rQlEEAAQQQMCFAeDYxBppIIEB4ToA63i0Jz0rQlEEAAQQQMCGgHZ7/+MPvV3by/Hd7zyUfmdgim02wHEpzITwrQVMGAQQQQMCEgHp4vv226sLzXvuSj0xskc0mWA6luRCelaApgwACCCBgQoDwbGIMNJFAgPCcAJXHNpRQKYMAAgggYFZAOzz/xx0/qOzk+Tl77kM+MrtZ7W+M5VCaASfPStCUQQABBBAwIUB4NjEGmkggQHhOgMrJsxIqZRBAAAEEzAoQns2OhsYmKUB4niRg2bdz8lxWiusQQAABBLpBQD083/nD6h7beNne5KNuWMJEn4HlSAQ79raEZyVoyiCAAAIImBDQDs//edftlYXnZ++xF/nIxBbZbILlUJoL4VkJmjIIIIAAAiYECM8mxkATCQQIzwlQx7sl4VkJmjIIIIAAAiYE1MPzj++o7uT5pXuSj0xskc0mWA6luRCelaApgwACCCBgQkA7PP/X3T+qLDw/a/d/IR+Z2CKbTbAcSnMhPCtBUwYBBBBAwIQA4dnEGGgigQDhOQEqj20ooVIGAQQQQMCsAOHZ7GhobJIChOdJApZ9OyfPZaW4DgEEEECgGwTUw/NP76zusY2XvIx81A1LmOgzsByJYMfelvCsBE0ZBBBAAAETAtrhec3KuyoLz9u/eA/ykYktstkEy6E0F8KzEjRlEEAAAQRMCBCeTYyBJhIIEJ4ToI53S8KzEjRlEEAAAQRMCKiHAyR7VgAAEBhJREFU51U/ru7kebeXko9MbJHNJlgOpbkQnpWgKYMAAgggYEJAOzz/6ec/qSw8b/eifyYfmdgim02wHEpzITwrQVMGAQQQQMCEAOHZxBhoIoEA4TkBKo9tKKFSBgEEEEDArADh2exoaGySAoTnSQKWfTsnz2WluA4BBBBAoBsE1MPzL+6u7rGNF+5OPuqGJUz0GViORLBjb0t4VoKmDAIIIICACQHCs4kx0EQCAcJzAtTxbkl4VoKmDAIIIICACQH18HzPT6s7eZ7zEvKRiS2y2QTLoTQXwrMSNGUQQAABBEwIaIfnh+9dWVl43vYFLyYfmdgim02wHEpzITwrQVMGAQQQQMCEAOHZxBhoIoEA4TkBKo9tKKFSBgEEEEDArIB6eP7lqupOnmfvRj4yu1ntb4zlUJoBJ89K0JRBAAEEEDAhQHg2MQaaSCBAeE6AysmzEiplEEAAAQTMChCezY6GxiYp0MvhOcvz/AQROd05N897f2PTsiiKPWOM54rI1s65R0ZGRo4dHBy8a6LXJpoDJ88TCfE6AggggEA3CWiH5/++/+eVPbbxzF1e1Mv5qJvWMMln6dnlKIriqyLyaIzxtc65w5vhefr06Vv29fU9JCILvPcr6vX6vo1G4+rh4eGdhoeHsw29NjQ0tHai6RCeJxLidQQQQACBbhJQD88P/KK68PyPL+zZfNRNO5jqs/TsctTr9Zf19/ffmef5kHPuyGZ4rtVq87IsO9t7P3sUvCiKB0RkcaPR2GxDr3nvl080IMLzREK8jgACCCDQTQKE526aJp+lVaBnw/MoQmt4zvN8sYjsHUKY3xKel4nIihhjtqHXvPdLJlorwvNEQryOAAIIINBNAtrh+ZHV91R28rzNrDk9n4+6aRer/iw9vxyt4bkoilNijLNDCIe2hOvrRORe55zb0GshhDMnGgzheSIhXkcAAQQQ6CYB9fDs760uPBcv6Pl81E27WPVn6fnlGBOeF4nIXO/9vJaT5xtE5BYRaZ48j/ua9/68iQZDeJ5IiNcRQAABBLpJgPDcTdPks7QKEJ5bnnnO8/xAEVkSQihaTp5DjHGhc26zDb02MDBw00RrRXieSIjXEUAAAQS6SYDw3E3T5LMQnlsExvzC4FTn3IPOuaO890trtdrBWZYt6Zs2bcaj//M/2YZeW7lq1bqJ1orwPJEQryOAAAIIdJOAdnh+NNxX2WMbW+e79vzhYjftYtWfpSeXo16v9zUajZ+ux5zhnPtjjPHPIvIREfmdiFzknNtGRB52zh3d39+/snltnue7b+i1iQZDeJ5IiNcRQAABBLpJgPDcTdPks3Dy3IYdIDy3AZ2SCCCAAAJtE1APzwO/rO7kuTa7Jw8X27YsHVaY5VAaGOFZCZoyCCCAAAImBNTD8+AD1YXnmf9IPjKxRTabYDmU5kJ4VoKmDAIIIICACQHCs4kx0EQCAcJzAtTxbkl4VoKmDAIIIICACQHt8Pw/D66u7OT5GTvPIh+Z2CKbTbAcSnMhPCtBUwYBBBBAwIQA4dnEGGgigQDhOQEqJ89KqJRBAAEEEDArQHg2Oxoam6QA4XmSgGXfzslzWSmuQwABBBDoBgH18PxQf3WPbexUJx91wxIm+gwsRyLYsbclPCtBUwYBBBBAwISAdnh+bMhXFp77nl+UzkdFUewZYzxXRLZ2zj0yMjJy7ODg4F1jh5Dn+YnOuSNjjCMisiLGeNTAwMATeZ7fIyJTW65/hoisDiHsXxTFbTHG5n/1+NHR151zR3jv7zAx5B5tovRy9KhPZR+b8FwZJTdCAAEEEOgAgV4Iz9OnT9+yr6/vIRFZ4L1fUa/X9200GlcPDw/vNDQ0tHZ0TEVRHBpjPGl4eHjv7bfb7s//89hjX44xXjYwMHDTOCF7uXPuCu/9tevD8xUhhCs6YOQ90yLhWWnUhGclaMoggAACCJgQUA/Pvxqo7uT5ebVS+ahWq83Lsuxs7/3slqD8gIgs9t4vH/1Znue3xBivGhgYuPyphlOr1Q52zi0MIcxtXkd4NrHKf9NEqeWw2XpndUV47qx50S0CCCCAwOQEtMPz//5msLLwPG3HmaXyUZ7ni0Vk7xDC/JbwvKz5WIb3fklLeF7jnDsnxti8bnsR+db06dNPvu222/7SopzleX5/lmWH9/f33zkankVkOMb4TBGZ5py7xnt/hog0Jjcd3j0ZgVLLMZkCvPevAoRnNgEBBBBAoJcEeiE8F0VxSoxxdgjh0JagfJ2I3BtCOLMlUDdD8tLHHnvsbVtttdVWWZZ93zl3SX9///mj19Tr9UNijMd47/dpuddxMcY1AwMDV86cOXN6lmU3O+fO995/rpd2ydpnJTwrTYTwrARNGQQQQAABEwI9Ep4Xichc7/28lqB8g4jc4r0/b8zJ8+He+6XrT5QXxRgPCCEc2PK+62OMy0IIl2xogEVR/M37TAy7x5ogPCsNnPCsBE0ZBBBAAAETAurh+bf/Xt1jG8+dUSof5XneDL9LQgjNb8R48k+e5yHGuLD1lwHzPP+piFwQQriyeU29Xv9AjHF/7/1rm/97zpw5W61du3ZNlmU7r169+g/rbzUlz/NdQwjNb+N48rMVRXF8jHGPEMLrTQy5R5sotRw9alPpxyY8V8rJzRBAAAEEjAv0Qniu1WpTnXMPOueOap4qN3/hL8uyJX3Tps1YuWrVupZT5Q+KyGFPf/rT92v+7PHHH7/NOXfZ6OMXeZ7v1XysI4SwbctYpxRFMdT8lo5m6J41a9Z2jUbj9hjjOXz7RnuXn/Cs5E94VoKmDAIIIICACQHt8Pzn3z1Y2cnzVn+/c+l8lOf57iJykXNuGxF52Dl3dH9//8o8z291zp22/juZm6fIn3bOHRxjfNw5d/0OO+zw4dFfGMzzfIFz7qTWb+1Yf0K9W4zxghjjds65keY3doQQzho9iTYx6B5sovRy9KBNpR+Z8FwpJzdDAAEEEDAuoB6efz9UXXie/nzykfH9amd7LIeSPuFZCZoyCCCAAAImBAjPJsZAEwkECM8JUMe7JeFZCZoyCCCAAAImBNTD8x9/Vd3J8989j3xkYotsNsFyKM2F8KwETRkEEEAAARMChGcTY6CJBAKE5wSonDwroVIGAQQQQMCsAOHZ7GhobJIChOdJApZ9OyfPZaW4DgEEEECgGwS0w/P/+49fV/bYxpbP+QfyUTcsYaLPwHIkgh17W8KzEjRlEEAAAQRMCKiH5//8bXXh+dnPJR+Z2CKbTbAcSnMhPCtBUwYBBBBAwIQA4dnEGGgigQDhOQHqeLckPCtBUwYBBBBAwISAdnh+/L9+V9nJ8xbP+nvykYktstkEy6E0F8KzEjRlEEAAAQRMCKiH5zV/qC48b78D+cjEFtlsguVQmgvhWQmaMggggAACJgQIzybGQBMJBAjPCVB5bEMJlTIIIIAAAmYFCM9mR0NjkxQgPE8SsOzbOXkuK8V1CCCAAALdIKAdntc+/MfKHtt4+rZ/Rz7qhiVM9BlYjkSwY29LeFaCpgwCCCCAgAkBwrOJMdBEAgHCcwLU8W5JeFaCpgwCCCCAgAkB9fD83/9R3cnzM59DPjKxRTabYDmU5kJ4VoKmDAIIIICACQHt8PzEI/9VWXieus2zyEcmtshmEyyH0lwIz0rQlEEAAQQQMCFAeDYxBppIIEB4ToDKYxtKqJRBAAEEEDAroB6eH11T3cnz1tuTj8xuVvsbYznaPwM6QAABBBBAAAEEEOgQAcJzhwyKNhFAAAEEEEAAAQTaL0B4bv8M6AABBBBAAAEEEECgQwQIzx0yKNpEAAEEEEAAAQQQaL8A4bn9M6ADBBBAAAEEEEAAgQ4RIDx3yKBoEwEEEEAAAQQQQKD9AoTn9s+ADhBAAAEEEEAAAQQ6RIDw3CGDok0EEEAAAQQQQACB9gsQnts/AzowKFCv15/faDQeGh4e3mLzzTePzrlPisgHnHOzvPf9BlumJQS6QqD1797Tnva0A51zp8QYny4if86y7Lj+/v7vd8UH5UMggEDHChCeO3Z0NJ5SYMw/wG9xzt0UY/wY4TmlOvdGQGT0716j0Zg9ZcqUOxuNxh4DAwMPFEUxP8Z4WQjh2SIyghUCCCDQLgHCc7vkqWtaoDU8P/3pT/+n/v7+O/M8b55Ac/JsenI01+kCo3/3ROS5zrldvfc3Nj/TjjvuuMUWW2zx/2KMOw4MDPy20z8n/SOAQOcKEJ47d3Z0nlCgNTwPDQ2tbZYiPCcE59YIrBcY7+/e+r9/C0Tk7BDCziLSAAwBBBBolwDhuV3y1DUtQHg2PR6a62KBDfzd+2fn3PUissB7v6KLPz4fDQEEOkCA8NwBQ6JFfQHCs745FRFoCoz9u5fn+UEicmmM8e0DAwM3o4QAAgi0W4Dw3O4JUN+kAOHZ5FhoqgcExnzTzV5Zll0+MjLy2sHBwZ/1wMfnIyKAQAcIEJ47YEi0qC9AeNY3pyICrSfPm2+++Q7r1q37uYjMDyHcjQ4CCCBgRYDwbGUS9GFKYDQ8N79dI8b47fXNFSLykIgMi8jb+Qe6qZHRTJcItPzdOyrGeN76v3P/9+myLDuyv7//ti75uHwMBBDoQAHCcwcOjZYRQAABBBBAAAEE2iNAeG6PO1URQAABBBBAAAEEOlCA8NyBQ6NlBBBAAAEEEEAAgfYIEJ7b405VBBBAAAEEEEAAgQ4UIDx34NBoGQEEEEAAAQQQQKA9AoTn9rhTFQEEEEAAAQQQQKADBQjPHTg0WkYAAQQQQAABBBBojwDhuT3uVEUAAQQQQAABBBDoQAHCcwcOjZYRQAABBBBAAAEE2iNAeG6PO1URQAABBBBAAAEEOlCA8NyBQ6NlBBBAAAEEEEAAgfYIEJ7b405VBBBAAAEEEEAAgQ4UIDx34NBoGQEEEEAAAQQQQKA9AoTn9rhTFQEEEEAAAQQQQKADBQjPHTg0WkYAAQQQQAABBBBojwDhuT3uVEUAAQQQQAABBBDoQAHCcwcOjZYRQAABBBBAAAEE2iNAeG6PO1URQAABBBBAAAEEOlCA8NyBQ6NlBBBAAAEEEEAAgfYIEJ7b405VBBBAAAEEEEAAgQ4UIDx34NBoGQEEEEAAAQQQQKA9AoTn9rhTFQEEEEAAAQQQQKADBQjPHTg0WkYAAQQQQAABBBBojwDhuT3uVEUAAQQQQAABBBDoQAHCcwcOjZYRQAABBBBAAAEE2iNAeG6PO1URQAABBBBAAAEEOlCA8NyBQ6NlBBBAAAEEEEAAgfYIEJ7b405VBBBAAAEEEEAAgQ4UIDx34NBoGQEEEEAAAQQQQKA9AoTn9rhTFQEEEEAAAQQQQKADBQjPHTg0WkYAAQQQQAABBBBojwDhuT3uVEUAAQQQQAABBBDoQAHCcwcOjZYRQAABBBBAAAEE2iNAeG6PO1URQAABBBBAAAEEOlCA8NyBQ6NlBBBAAAEEEEAAgfYIEJ7b405VBBBAAAEEEEAAgQ4UIDx34NBoGQEEEEAAAQQQQKA9Av8fpz4+hCeeJdYAAAAASUVORK5CYII=\" width=\"798.8889100522176\">"
      ],
      "text/plain": [
       "<IPython.core.display.HTML object>"
      ]
     },
     "metadata": {},
     "output_type": "display_data"
    }
   ],
   "source": [
    "# Use the following function to help visualize results from the grid search\n",
    "def GridSearch_Heatmap(scores):\n",
    "    %matplotlib notebook\n",
    "    import seaborn as sns\n",
    "    import matplotlib.pyplot as plt\n",
    "    plt.figure()\n",
    "    sns.heatmap(scores.reshape(5,2), xticklabels=['l1','l2'], yticklabels=[0.01, 0.1, 1, 10, 100])\n",
    "    plt.yticks(rotation=0);\n",
    "\n",
    "GridSearch_Heatmap(answer_six())"
   ]
  }
 ],
 "metadata": {
  "coursera": {
   "course_slug": "python-machine-learning",
   "graded_item_id": "5yX9Z",
   "launcher_item_id": "eqnV3",
   "part_id": "Msnj0"
  },
  "kernelspec": {
   "display_name": "Python 3",
   "language": "python",
   "name": "python3"
  },
  "language_info": {
   "codemirror_mode": {
    "name": "ipython",
    "version": 3
   },
   "file_extension": ".py",
   "mimetype": "text/x-python",
   "name": "python",
   "nbconvert_exporter": "python",
   "pygments_lexer": "ipython3",
   "version": "3.5.2"
  }
 },
 "nbformat": 4,
 "nbformat_minor": 2
}
